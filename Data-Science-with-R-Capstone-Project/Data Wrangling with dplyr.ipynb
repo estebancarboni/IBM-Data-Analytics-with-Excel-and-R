{
 "cells": [
  {
   "cell_type": "markdown",
   "metadata": {},
   "source": [
    "<a href=\"https://cognitiveclass.ai/?utm_medium=Exinfluencer&utm_source=Exinfluencer&utm_content=000026UJ&utm_term=10006555&utm_id=NA-SkillsNetwork-Channel-SkillsNetworkCoursesIBMDeveloperSkillsNetworkRP0321ENSkillsNetwork25371262-2021-01-01\">\n",
    "    <img src=\"https://cf-courses-data.s3.us.cloud-object-storage.appdomain.cloud/IBMDeveloperSkillsNetwork-RP0101EN-Coursera/v2/M1_R_Basics/images/IDSNlogo.png\" width=\"200\" align=\"center\">\n",
    "</a>\n"
   ]
  },
  {
   "cell_type": "markdown",
   "metadata": {},
   "source": [
    "<h1>Data Wrangling with dplyr</h1>\n",
    "\n",
    "Estimated time needed: **60** minutes\n"
   ]
  },
  {
   "cell_type": "markdown",
   "metadata": {},
   "source": [
    "## Lab Overview:\n",
    "\n",
    "In this lab, you will focus on wrangling the Seoul bike-sharing demand historical dataset. This is the core dataset to build a predictive model later.\n",
    "\n",
    "It contains the following columns:\n",
    "\n",
    "*   `DATE` : Year-month-day\n",
    "*   `RENTED BIKE COUNT`- Count of bikes rented at each hour\n",
    "*   `HOUR`- Hour of he day\n",
    "*   `TEMPERATURE` - Temperature in Celsius\n",
    "*   `HUMIDITY` - Unit is `%`\n",
    "*   `WINDSPEED` - Unit is `m/s`\n",
    "*   `VISIBILITY` - Multiplied by 10m\n",
    "*   `DEW POINT TEMERATURE` - The temperature to which the air would have to cool down in order to reach saturation, unit is Celsius\n",
    "*   `SOLAR RADIATION` - MJ/m2\n",
    "*   `RAINFALL` - mm\n",
    "*   `SNOWFALL` - cm\n",
    "*   `SEASONS` - Winter, Spring, Summer, Autumn\n",
    "*   `HOLIDAY` - Holiday/No holiday\n",
    "*   `FUNCTIONAL DAY` - NoFunc(Non Functional Hours), Fun(Functional hours)\n",
    "\n",
    "For this dataset, you will be asked to use `tidyverse` to perform the following data wrangling tasks:\n",
    "\n",
    "*   **TASK: Detect and handle missing values**\n",
    "*   **TASK: Create indicator (dummy) variables for categorical variables**\n",
    "*   **TASK: Normalize data**\n",
    "\n",
    "Let's start!\n"
   ]
  },
  {
   "cell_type": "markdown",
   "metadata": {},
   "source": [
    "First import the necessary library for this data wrangling task:\n"
   ]
  },
  {
   "cell_type": "code",
   "execution_count": 1,
   "metadata": {},
   "outputs": [
    {
     "name": "stderr",
     "output_type": "stream",
     "text": [
      "Loading required package: tidyverse\n",
      "Registered S3 method overwritten by 'rvest':\n",
      "  method            from\n",
      "  read_xml.response xml2\n",
      "-- Attaching packages --------------------------------------- tidyverse 1.2.1 --\n",
      "v ggplot2 3.3.5     v purrr   0.3.4\n",
      "v tibble  3.1.1     v dplyr   1.0.6\n",
      "v tidyr   1.1.3     v stringr 1.4.0\n",
      "v readr   1.3.1     v forcats 0.4.0\n",
      "Warning message:\n",
      "\"package 'tibble' was built under R version 3.6.3\"Warning message:\n",
      "\"package 'tidyr' was built under R version 3.6.3\"Warning message:\n",
      "\"package 'purrr' was built under R version 3.6.3\"Warning message:\n",
      "\"package 'dplyr' was built under R version 3.6.3\"-- Conflicts ------------------------------------------ tidyverse_conflicts() --\n",
      "x dplyr::filter() masks stats::filter()\n",
      "x dplyr::lag()    masks stats::lag()\n"
     ]
    }
   ],
   "source": [
    "# Check if you need to install the `tidyverse` library\n",
    "require(\"tidyverse\")\n",
    "library(tidyverse)"
   ]
  },
  {
   "cell_type": "markdown",
   "metadata": {},
   "source": [
    "Then load the bike-sharing system data from the csv processed in the previous lab:\n"
   ]
  },
  {
   "cell_type": "code",
   "execution_count": 2,
   "metadata": {},
   "outputs": [
    {
     "name": "stderr",
     "output_type": "stream",
     "text": [
      "Parsed with column specification:\n",
      "cols(\n",
      "  DATE = col_character(),\n",
      "  RENTED_BIKE_COUNT = col_double(),\n",
      "  HOUR = col_double(),\n",
      "  TEMPERATURE = col_double(),\n",
      "  HUMIDITY = col_double(),\n",
      "  WIND_SPEED = col_double(),\n",
      "  VISIBILITY = col_double(),\n",
      "  DEW_POINT_TEMPERATURE = col_double(),\n",
      "  SOLAR_RADIATION = col_double(),\n",
      "  RAINFALL = col_double(),\n",
      "  SNOWFALL = col_double(),\n",
      "  SEASONS = col_character(),\n",
      "  HOLIDAY = col_character(),\n",
      "  FUNCTIONING_DAY = col_character()\n",
      ")\n"
     ]
    }
   ],
   "source": [
    "bike_sharing_df <- read_csv(\"raw_seoul_bike_sharing.csv\")"
   ]
  },
  {
   "cell_type": "code",
   "execution_count": 3,
   "metadata": {},
   "outputs": [],
   "source": [
    "# Or you may read it from here again\n",
    "# url <- \"https://cf-courses-data.s3.us.cloud-object-storage.appdomain.cloud/IBMDeveloperSkillsNetwork-RP0321EN-SkillsNetwork/labs/datasets/raw_seoul_bike_sharing.csv\"\n",
    "# Notice some column names in the raw datasets are not standalized if you haven't done them properly in the previous lab"
   ]
  },
  {
   "cell_type": "markdown",
   "metadata": {},
   "source": [
    "First take a quick look at the dataset:\n"
   ]
  },
  {
   "cell_type": "code",
   "execution_count": 4,
   "metadata": {},
   "outputs": [
    {
     "data": {
      "text/plain": [
       "     DATE           RENTED_BIKE_COUNT      HOUR        TEMPERATURE    \n",
       " Length:8760        Min.   :   2.0    Min.   : 0.00   Min.   :-17.80  \n",
       " Class :character   1st Qu.: 214.0    1st Qu.: 5.75   1st Qu.:  3.40  \n",
       " Mode  :character   Median : 542.0    Median :11.50   Median : 13.70  \n",
       "                    Mean   : 729.2    Mean   :11.50   Mean   : 12.87  \n",
       "                    3rd Qu.:1084.0    3rd Qu.:17.25   3rd Qu.: 22.50  \n",
       "                    Max.   :3556.0    Max.   :23.00   Max.   : 39.40  \n",
       "                    NA's   :295                       NA's   :11      \n",
       "    HUMIDITY       WIND_SPEED      VISIBILITY   DEW_POINT_TEMPERATURE\n",
       " Min.   : 0.00   Min.   :0.000   Min.   :  27   Min.   :-30.600      \n",
       " 1st Qu.:42.00   1st Qu.:0.900   1st Qu.: 940   1st Qu.: -4.700      \n",
       " Median :57.00   Median :1.500   Median :1698   Median :  5.100      \n",
       " Mean   :58.23   Mean   :1.725   Mean   :1437   Mean   :  4.074      \n",
       " 3rd Qu.:74.00   3rd Qu.:2.300   3rd Qu.:2000   3rd Qu.: 14.800      \n",
       " Max.   :98.00   Max.   :7.400   Max.   :2000   Max.   : 27.200      \n",
       "                                                                     \n",
       " SOLAR_RADIATION     RAINFALL          SNOWFALL         SEASONS         \n",
       " Min.   :0.0000   Min.   : 0.0000   Min.   :0.00000   Length:8760       \n",
       " 1st Qu.:0.0000   1st Qu.: 0.0000   1st Qu.:0.00000   Class :character  \n",
       " Median :0.0100   Median : 0.0000   Median :0.00000   Mode  :character  \n",
       " Mean   :0.5691   Mean   : 0.1487   Mean   :0.07507                     \n",
       " 3rd Qu.:0.9300   3rd Qu.: 0.0000   3rd Qu.:0.00000                     \n",
       " Max.   :3.5200   Max.   :35.0000   Max.   :8.80000                     \n",
       "                                                                        \n",
       "   HOLIDAY          FUNCTIONING_DAY   \n",
       " Length:8760        Length:8760       \n",
       " Class :character   Class :character  \n",
       " Mode  :character   Mode  :character  \n",
       "                                      \n",
       "                                      \n",
       "                                      \n",
       "                                      "
      ]
     },
     "metadata": {},
     "output_type": "display_data"
    },
    {
     "data": {
      "text/html": [
       "<ol class=list-inline>\n",
       "\t<li>8760</li>\n",
       "\t<li>14</li>\n",
       "</ol>\n"
      ],
      "text/latex": [
       "\\begin{enumerate*}\n",
       "\\item 8760\n",
       "\\item 14\n",
       "\\end{enumerate*}\n"
      ],
      "text/markdown": [
       "1. 8760\n",
       "2. 14\n",
       "\n",
       "\n"
      ],
      "text/plain": [
       "[1] 8760   14"
      ]
     },
     "metadata": {},
     "output_type": "display_data"
    }
   ],
   "source": [
    "summary(bike_sharing_df)\n",
    "dim(bike_sharing_df)"
   ]
  },
  {
   "cell_type": "markdown",
   "metadata": {},
   "source": [
    "From the summary, we can observe that:\n",
    "\n",
    "Columns `RENTED_BIKE_COUNT`, `TEMPERATURE`, `HUMIDITY`, `WIND_SPEED`, `VISIBILITY`, `DEW_POINT_TEMPERATURE`, `SOLAR_RADIATION`, `RAINFALL`, `SNOWFALL` are numerical variables/columns and require normalization. Moreover, `RENTED_BIKE_COUNT` and `TEMPERATURE` have some missing values (NA's) that need to be handled properly.\n",
    "\n",
    "`SEASONS`, `HOLIDAY`, `FUNCTIONING_DAY` are categorical variables which need to be converted into indicator columns or dummy variables.\n",
    "Also, `HOUR` is read as a numerical variable but it is in fact a categorical variable with levels ranging from 0 to 23.\n",
    "\n",
    "Now that you have some basic ideas about how to process this bike-sharing demand dataset, let's start working on it!\n"
   ]
  },
  {
   "cell_type": "markdown",
   "metadata": {},
   "source": [
    "# TASK: Detect and handle missing values\n"
   ]
  },
  {
   "cell_type": "markdown",
   "metadata": {},
   "source": [
    "The `RENTED_BIKE_COUNT` column has about 295 missing values, and `TEMPERATURE` has about 11 missing values. Those missing values could be caused by not being recorded, or from malfunctioning bike-sharing systems or weather sensor networks. In any cases, the identified missing values have to be properly handled.\n"
   ]
  },
  {
   "cell_type": "markdown",
   "metadata": {},
   "source": [
    "Let's first handle missing values in `RENTED_BIKE_COUNT` column:\n"
   ]
  },
  {
   "cell_type": "markdown",
   "metadata": {},
   "source": [
    "Considering `RENTED_BIKE_COUNT` is the response variable/dependent variable, i.e., we want to predict the `RENTED_BIKE_COUNT` using other predictor/independent variables later, and we normally can not allow missing values for the response variable, so missing values for response variable must be either dropped or imputed properly.\n",
    "\n",
    "We can see that `RENTED_BIKE_COUNT` only has about 3% missing values (295 / 8760). As such, you can safely drop any rows whose `RENTED_BIKE_COUNT` has missing values.\n"
   ]
  },
  {
   "cell_type": "markdown",
   "metadata": {},
   "source": [
    "*TODO:* Drop rows with missing values in the `RENTED_BIKE_COUNT` column\n"
   ]
  },
  {
   "cell_type": "code",
   "execution_count": 5,
   "metadata": {},
   "outputs": [],
   "source": [
    "# Drop rows with `RENTED_BIKE_COUNT` column == NA\n",
    "bike_sharing_df <- bike_sharing_df %>% drop_na(RENTED_BIKE_COUNT)"
   ]
  },
  {
   "cell_type": "code",
   "execution_count": 6,
   "metadata": {},
   "outputs": [
    {
     "data": {
      "text/html": [
       "<ol class=list-inline>\n",
       "\t<li>8465</li>\n",
       "\t<li>14</li>\n",
       "</ol>\n"
      ],
      "text/latex": [
       "\\begin{enumerate*}\n",
       "\\item 8465\n",
       "\\item 14\n",
       "\\end{enumerate*}\n"
      ],
      "text/markdown": [
       "1. 8465\n",
       "2. 14\n",
       "\n",
       "\n"
      ],
      "text/plain": [
       "[1] 8465   14"
      ]
     },
     "metadata": {},
     "output_type": "display_data"
    }
   ],
   "source": [
    "# Print the dataset dimension again after those rows are dropped\n",
    "dim(bike_sharing_df)"
   ]
  },
  {
   "cell_type": "markdown",
   "metadata": {},
   "source": [
    "Now that you have handled  missing values in the `RENTED_BIKE_COUNT` variable, let's continue processing missing values for the `TEMPERATURE` column.\n"
   ]
  },
  {
   "cell_type": "markdown",
   "metadata": {},
   "source": [
    "Unlike the `RENTED_BIKE_COUNT` variable, `TEMPERATURE` is not a response variable. However, it is still an important predictor variable - as you could imagine, there may be a positve correlation between `TEMPERATURE` and `RENTED_BIKE_COUNT`. For example, in winter time with lower temperatures, people may not want to ride a bike, while in summer with nicer weather, they are more likely to rent a bike.\n"
   ]
  },
  {
   "cell_type": "markdown",
   "metadata": {},
   "source": [
    "How do we handle missing values for `TEMPERATURE`? We could simply remove the rows but it's better to impute them because `TEMPERATURE` should be relatively easy and reliable to estimate statistically.\n"
   ]
  },
  {
   "cell_type": "markdown",
   "metadata": {},
   "source": [
    "Let's first take a look at the missing values in the TEMPERATURE column.\n"
   ]
  },
  {
   "cell_type": "code",
   "execution_count": 7,
   "metadata": {},
   "outputs": [
    {
     "data": {
      "text/html": [
       "<table>\n",
       "<thead><tr><th scope=col>DATE</th><th scope=col>RENTED_BIKE_COUNT</th><th scope=col>HOUR</th><th scope=col>TEMPERATURE</th><th scope=col>HUMIDITY</th><th scope=col>WIND_SPEED</th><th scope=col>VISIBILITY</th><th scope=col>DEW_POINT_TEMPERATURE</th><th scope=col>SOLAR_RADIATION</th><th scope=col>RAINFALL</th><th scope=col>SNOWFALL</th><th scope=col>SEASONS</th><th scope=col>HOLIDAY</th><th scope=col>FUNCTIONING_DAY</th></tr></thead>\n",
       "<tbody>\n",
       "\t<tr><td>07/06/2018</td><td>3221      </td><td>18        </td><td>NA        </td><td>57        </td><td>2.7       </td><td>1217      </td><td>16.4      </td><td>0.96      </td><td>0.0       </td><td>0         </td><td>Summer    </td><td>No Holiday</td><td>Yes       </td></tr>\n",
       "\t<tr><td>12/06/2018</td><td>1246      </td><td>14        </td><td>NA        </td><td>45        </td><td>2.2       </td><td>1961      </td><td>12.7      </td><td>1.39      </td><td>0.0       </td><td>0         </td><td>Summer    </td><td>No Holiday</td><td>Yes       </td></tr>\n",
       "\t<tr><td>13/06/2018</td><td>2664      </td><td>17        </td><td>NA        </td><td>57        </td><td>3.3       </td><td> 919      </td><td>16.4      </td><td>0.87      </td><td>0.0       </td><td>0         </td><td>Summer    </td><td>No Holiday</td><td>Yes       </td></tr>\n",
       "\t<tr><td>17/06/2018</td><td>2330      </td><td>17        </td><td>NA        </td><td>58        </td><td>3.3       </td><td> 865      </td><td>16.7      </td><td>0.66      </td><td>0.0       </td><td>0         </td><td>Summer    </td><td>No Holiday</td><td>Yes       </td></tr>\n",
       "\t<tr><td>20/06/2018</td><td>2741      </td><td>19        </td><td>NA        </td><td>61        </td><td>2.7       </td><td>1236      </td><td>17.5      </td><td>0.60      </td><td>0.0       </td><td>0         </td><td>Summer    </td><td>No Holiday</td><td>Yes       </td></tr>\n",
       "\t<tr><td>30/06/2018</td><td>1144      </td><td>13        </td><td>NA        </td><td>87        </td><td>1.7       </td><td> 390      </td><td>23.2      </td><td>0.71      </td><td>3.5       </td><td>0         </td><td>Summer    </td><td>No Holiday</td><td>Yes       </td></tr>\n",
       "\t<tr><td>05/07/2018</td><td> 827      </td><td>10        </td><td>NA        </td><td>75        </td><td>1.1       </td><td>1028      </td><td>20.8      </td><td>1.22      </td><td>0.0       </td><td>0         </td><td>Summer    </td><td>No Holiday</td><td>Yes       </td></tr>\n",
       "\t<tr><td>11/07/2018</td><td> 634      </td><td> 9        </td><td>NA        </td><td>96        </td><td>0.6       </td><td> 450      </td><td>24.9      </td><td>0.41      </td><td>0.0       </td><td>0         </td><td>Summer    </td><td>No Holiday</td><td>Yes       </td></tr>\n",
       "\t<tr><td>12/07/2018</td><td> 593      </td><td> 6        </td><td>NA        </td><td>93        </td><td>1.1       </td><td> 852      </td><td>24.3      </td><td>0.01      </td><td>0.0       </td><td>0         </td><td>Summer    </td><td>No Holiday</td><td>Yes       </td></tr>\n",
       "\t<tr><td>21/07/2018</td><td> 347      </td><td> 4        </td><td>NA        </td><td>77        </td><td>1.2       </td><td>1203      </td><td>21.2      </td><td>0.00      </td><td>0.0       </td><td>0         </td><td>Summer    </td><td>No Holiday</td><td>Yes       </td></tr>\n",
       "\t<tr><td>21/08/2018</td><td>1277      </td><td>23        </td><td>NA        </td><td>75        </td><td>0.1       </td><td>1892      </td><td>20.8      </td><td>0.00      </td><td>0.0       </td><td>0         </td><td>Summer    </td><td>No Holiday</td><td>Yes       </td></tr>\n",
       "</tbody>\n",
       "</table>\n"
      ],
      "text/latex": [
       "\\begin{tabular}{r|llllllllllllll}\n",
       " DATE & RENTED\\_BIKE\\_COUNT & HOUR & TEMPERATURE & HUMIDITY & WIND\\_SPEED & VISIBILITY & DEW\\_POINT\\_TEMPERATURE & SOLAR\\_RADIATION & RAINFALL & SNOWFALL & SEASONS & HOLIDAY & FUNCTIONING\\_DAY\\\\\n",
       "\\hline\n",
       "\t 07/06/2018 & 3221       & 18         & NA         & 57         & 2.7        & 1217       & 16.4       & 0.96       & 0.0        & 0          & Summer     & No Holiday & Yes       \\\\\n",
       "\t 12/06/2018 & 1246       & 14         & NA         & 45         & 2.2        & 1961       & 12.7       & 1.39       & 0.0        & 0          & Summer     & No Holiday & Yes       \\\\\n",
       "\t 13/06/2018 & 2664       & 17         & NA         & 57         & 3.3        &  919       & 16.4       & 0.87       & 0.0        & 0          & Summer     & No Holiday & Yes       \\\\\n",
       "\t 17/06/2018 & 2330       & 17         & NA         & 58         & 3.3        &  865       & 16.7       & 0.66       & 0.0        & 0          & Summer     & No Holiday & Yes       \\\\\n",
       "\t 20/06/2018 & 2741       & 19         & NA         & 61         & 2.7        & 1236       & 17.5       & 0.60       & 0.0        & 0          & Summer     & No Holiday & Yes       \\\\\n",
       "\t 30/06/2018 & 1144       & 13         & NA         & 87         & 1.7        &  390       & 23.2       & 0.71       & 3.5        & 0          & Summer     & No Holiday & Yes       \\\\\n",
       "\t 05/07/2018 &  827       & 10         & NA         & 75         & 1.1        & 1028       & 20.8       & 1.22       & 0.0        & 0          & Summer     & No Holiday & Yes       \\\\\n",
       "\t 11/07/2018 &  634       &  9         & NA         & 96         & 0.6        &  450       & 24.9       & 0.41       & 0.0        & 0          & Summer     & No Holiday & Yes       \\\\\n",
       "\t 12/07/2018 &  593       &  6         & NA         & 93         & 1.1        &  852       & 24.3       & 0.01       & 0.0        & 0          & Summer     & No Holiday & Yes       \\\\\n",
       "\t 21/07/2018 &  347       &  4         & NA         & 77         & 1.2        & 1203       & 21.2       & 0.00       & 0.0        & 0          & Summer     & No Holiday & Yes       \\\\\n",
       "\t 21/08/2018 & 1277       & 23         & NA         & 75         & 0.1        & 1892       & 20.8       & 0.00       & 0.0        & 0          & Summer     & No Holiday & Yes       \\\\\n",
       "\\end{tabular}\n"
      ],
      "text/markdown": [
       "\n",
       "| DATE | RENTED_BIKE_COUNT | HOUR | TEMPERATURE | HUMIDITY | WIND_SPEED | VISIBILITY | DEW_POINT_TEMPERATURE | SOLAR_RADIATION | RAINFALL | SNOWFALL | SEASONS | HOLIDAY | FUNCTIONING_DAY |\n",
       "|---|---|---|---|---|---|---|---|---|---|---|---|---|---|\n",
       "| 07/06/2018 | 3221       | 18         | NA         | 57         | 2.7        | 1217       | 16.4       | 0.96       | 0.0        | 0          | Summer     | No Holiday | Yes        |\n",
       "| 12/06/2018 | 1246       | 14         | NA         | 45         | 2.2        | 1961       | 12.7       | 1.39       | 0.0        | 0          | Summer     | No Holiday | Yes        |\n",
       "| 13/06/2018 | 2664       | 17         | NA         | 57         | 3.3        |  919       | 16.4       | 0.87       | 0.0        | 0          | Summer     | No Holiday | Yes        |\n",
       "| 17/06/2018 | 2330       | 17         | NA         | 58         | 3.3        |  865       | 16.7       | 0.66       | 0.0        | 0          | Summer     | No Holiday | Yes        |\n",
       "| 20/06/2018 | 2741       | 19         | NA         | 61         | 2.7        | 1236       | 17.5       | 0.60       | 0.0        | 0          | Summer     | No Holiday | Yes        |\n",
       "| 30/06/2018 | 1144       | 13         | NA         | 87         | 1.7        |  390       | 23.2       | 0.71       | 3.5        | 0          | Summer     | No Holiday | Yes        |\n",
       "| 05/07/2018 |  827       | 10         | NA         | 75         | 1.1        | 1028       | 20.8       | 1.22       | 0.0        | 0          | Summer     | No Holiday | Yes        |\n",
       "| 11/07/2018 |  634       |  9         | NA         | 96         | 0.6        |  450       | 24.9       | 0.41       | 0.0        | 0          | Summer     | No Holiday | Yes        |\n",
       "| 12/07/2018 |  593       |  6         | NA         | 93         | 1.1        |  852       | 24.3       | 0.01       | 0.0        | 0          | Summer     | No Holiday | Yes        |\n",
       "| 21/07/2018 |  347       |  4         | NA         | 77         | 1.2        | 1203       | 21.2       | 0.00       | 0.0        | 0          | Summer     | No Holiday | Yes        |\n",
       "| 21/08/2018 | 1277       | 23         | NA         | 75         | 0.1        | 1892       | 20.8       | 0.00       | 0.0        | 0          | Summer     | No Holiday | Yes        |\n",
       "\n"
      ],
      "text/plain": [
       "   DATE       RENTED_BIKE_COUNT HOUR TEMPERATURE HUMIDITY WIND_SPEED VISIBILITY\n",
       "1  07/06/2018 3221              18   NA          57       2.7        1217      \n",
       "2  12/06/2018 1246              14   NA          45       2.2        1961      \n",
       "3  13/06/2018 2664              17   NA          57       3.3         919      \n",
       "4  17/06/2018 2330              17   NA          58       3.3         865      \n",
       "5  20/06/2018 2741              19   NA          61       2.7        1236      \n",
       "6  30/06/2018 1144              13   NA          87       1.7         390      \n",
       "7  05/07/2018  827              10   NA          75       1.1        1028      \n",
       "8  11/07/2018  634               9   NA          96       0.6         450      \n",
       "9  12/07/2018  593               6   NA          93       1.1         852      \n",
       "10 21/07/2018  347               4   NA          77       1.2        1203      \n",
       "11 21/08/2018 1277              23   NA          75       0.1        1892      \n",
       "   DEW_POINT_TEMPERATURE SOLAR_RADIATION RAINFALL SNOWFALL SEASONS HOLIDAY   \n",
       "1  16.4                  0.96            0.0      0        Summer  No Holiday\n",
       "2  12.7                  1.39            0.0      0        Summer  No Holiday\n",
       "3  16.4                  0.87            0.0      0        Summer  No Holiday\n",
       "4  16.7                  0.66            0.0      0        Summer  No Holiday\n",
       "5  17.5                  0.60            0.0      0        Summer  No Holiday\n",
       "6  23.2                  0.71            3.5      0        Summer  No Holiday\n",
       "7  20.8                  1.22            0.0      0        Summer  No Holiday\n",
       "8  24.9                  0.41            0.0      0        Summer  No Holiday\n",
       "9  24.3                  0.01            0.0      0        Summer  No Holiday\n",
       "10 21.2                  0.00            0.0      0        Summer  No Holiday\n",
       "11 20.8                  0.00            0.0      0        Summer  No Holiday\n",
       "   FUNCTIONING_DAY\n",
       "1  Yes            \n",
       "2  Yes            \n",
       "3  Yes            \n",
       "4  Yes            \n",
       "5  Yes            \n",
       "6  Yes            \n",
       "7  Yes            \n",
       "8  Yes            \n",
       "9  Yes            \n",
       "10 Yes            \n",
       "11 Yes            "
      ]
     },
     "metadata": {},
     "output_type": "display_data"
    }
   ],
   "source": [
    "bike_sharing_df %>% \n",
    "                filter(is.na(TEMPERATURE))"
   ]
  },
  {
   "cell_type": "markdown",
   "metadata": {},
   "source": [
    "It seems that all of the missing values for `TEMPERATURE` are found in `SEASONS == Summer`, so it is reasonable to impute those missing values with the summer average temperature.\n"
   ]
  },
  {
   "cell_type": "markdown",
   "metadata": {},
   "source": [
    "*TODO:* Impute missing values for the TEMPERATURE column using its mean value.\n"
   ]
  },
  {
   "cell_type": "code",
   "execution_count": 8,
   "metadata": {},
   "outputs": [
    {
     "data": {
      "text/html": [
       "26.5877105143377"
      ],
      "text/latex": [
       "26.5877105143377"
      ],
      "text/markdown": [
       "26.5877105143377"
      ],
      "text/plain": [
       "[1] 26.58771"
      ]
     },
     "metadata": {},
     "output_type": "display_data"
    }
   ],
   "source": [
    "# Calculate the summer average temperature\n",
    "#summeravg <- mean(bike_sharing_df$TEMPERATURE, na.rm = TRUE)\n",
    "summeravg <- subset(bike_sharing_df, \n",
    "                    SEASONS == \"Summer\")\n",
    "summeravg <- mean(summeravg$TEMPERATURE, na.rm = TRUE)\n",
    "summeravg"
   ]
  },
  {
   "cell_type": "code",
   "execution_count": 9,
   "metadata": {},
   "outputs": [],
   "source": [
    "# Impute missing values for TEMPERATURE column with summer average temperature\n",
    "bike_sharing_df <- bike_sharing_df %>% replace_na(list(TEMPERATURE = summeravg))"
   ]
  },
  {
   "cell_type": "code",
   "execution_count": 10,
   "metadata": {},
   "outputs": [
    {
     "data": {
      "text/plain": [
       "     DATE           RENTED_BIKE_COUNT      HOUR        TEMPERATURE    \n",
       " Length:8465        Min.   :   2.0    Min.   : 0.00   Min.   :-17.80  \n",
       " Class :character   1st Qu.: 214.0    1st Qu.: 6.00   1st Qu.:  3.00  \n",
       " Mode  :character   Median : 542.0    Median :12.00   Median : 13.50  \n",
       "                    Mean   : 729.2    Mean   :11.51   Mean   : 12.77  \n",
       "                    3rd Qu.:1084.0    3rd Qu.:18.00   3rd Qu.: 22.70  \n",
       "                    Max.   :3556.0    Max.   :23.00   Max.   : 39.40  \n",
       "    HUMIDITY       WIND_SPEED      VISIBILITY   DEW_POINT_TEMPERATURE\n",
       " Min.   : 0.00   Min.   :0.000   Min.   :  27   Min.   :-30.600      \n",
       " 1st Qu.:42.00   1st Qu.:0.900   1st Qu.: 935   1st Qu.: -5.100      \n",
       " Median :57.00   Median :1.500   Median :1690   Median :  4.700      \n",
       " Mean   :58.15   Mean   :1.726   Mean   :1434   Mean   :  3.945      \n",
       " 3rd Qu.:74.00   3rd Qu.:2.300   3rd Qu.:2000   3rd Qu.: 15.200      \n",
       " Max.   :98.00   Max.   :7.400   Max.   :2000   Max.   : 27.200      \n",
       " SOLAR_RADIATION     RAINFALL          SNOWFALL         SEASONS         \n",
       " Min.   :0.0000   Min.   : 0.0000   Min.   :0.00000   Length:8465       \n",
       " 1st Qu.:0.0000   1st Qu.: 0.0000   1st Qu.:0.00000   Class :character  \n",
       " Median :0.0100   Median : 0.0000   Median :0.00000   Mode  :character  \n",
       " Mean   :0.5679   Mean   : 0.1491   Mean   :0.07769                     \n",
       " 3rd Qu.:0.9300   3rd Qu.: 0.0000   3rd Qu.:0.00000                     \n",
       " Max.   :3.5200   Max.   :35.0000   Max.   :8.80000                     \n",
       "   HOLIDAY          FUNCTIONING_DAY   \n",
       " Length:8465        Length:8465       \n",
       " Class :character   Class :character  \n",
       " Mode  :character   Mode  :character  \n",
       "                                      \n",
       "                                      \n",
       "                                      "
      ]
     },
     "metadata": {},
     "output_type": "display_data"
    }
   ],
   "source": [
    "# Print the summary of the dataset again to make sure no missing values in all columns\n",
    "summary(bike_sharing_df)"
   ]
  },
  {
   "cell_type": "code",
   "execution_count": 11,
   "metadata": {},
   "outputs": [],
   "source": [
    "# Save the dataset as `seoul_bike_sharing.csv`\n",
    "write.csv(bike_sharing_df, \"seoul_bike_sharing.csv\")"
   ]
  },
  {
   "cell_type": "markdown",
   "metadata": {},
   "source": [
    "# TASK: Create indicator (dummy) variables for categorical variables\n"
   ]
  },
  {
   "cell_type": "markdown",
   "metadata": {},
   "source": [
    "Regression models can not process categorical variables directly, thus we need to convert them into indicator variables.\n"
   ]
  },
  {
   "cell_type": "markdown",
   "metadata": {},
   "source": [
    "In the bike-sharing demand dataset, `SEASONS`, `HOLIDAY`, `FUNCTIONING_DAY` are categorical variables.\n",
    "Also, `HOUR` is read as a numerical variable but it is in fact a categorical variable with levels ranged from 0 to 23.\n"
   ]
  },
  {
   "cell_type": "markdown",
   "metadata": {},
   "source": [
    "*TODO:* Convert `HOUR` column from numeric into character first:\n"
   ]
  },
  {
   "cell_type": "code",
   "execution_count": 12,
   "metadata": {},
   "outputs": [
    {
     "name": "stdout",
     "output_type": "stream",
     "text": [
      " chr [1:8465] \"0\" \"1\" \"2\" \"3\" \"4\" \"5\" \"6\" \"7\" \"8\" \"9\" \"10\" \"11\" \"12\" \"13\" ...\n"
     ]
    }
   ],
   "source": [
    "# Using mutate() function to convert HOUR column into character type\n",
    "bike_sharing_df <- bike_sharing_df %>% mutate(HOUR = as.character(HOUR))\n",
    "glimpse(bike_sharing_df$HOUR)"
   ]
  },
  {
   "cell_type": "markdown",
   "metadata": {},
   "source": [
    "`SEASONS`, `HOLIDAY`, `FUNCTIONING_DAY`,  `HOUR` are all character columns now and are ready to be converted into indicator variables.\n",
    "\n",
    "For example, `SEASONS` has four categorical values: `Spring`, `Summer`, `Autumn`, `Winter`. We thus need to create four indicator/dummy variables `Spring`, `Summer`, `Autumn`, and `Winter` which only have the value 0 or 1.\n",
    "\n",
    "So, given a data entry with the value `Spring` in the `SEASONS` column, the values for the four new columns `Spring`, `Summer`, `Autumn`, and `Winter` will be set to 1 for `Spring` and 0 for the others:\n",
    "\n",
    "|Spring|Summer|Autumn|Winter|\n",
    "|----- |------|------|------|\n",
    "|     1|     0|     0|     0|\n"
   ]
  },
  {
   "cell_type": "markdown",
   "metadata": {},
   "source": [
    "*TODO:* Convert `SEASONS`, `HOLIDAY`, `FUNCTIONING_DAY`, and `HOUR` columns into indicator columns.\n",
    "\n",
    "Note that if `FUNCTIONING_DAY` only contains one categorical value after missing values removal, then you don't need to convert it to an indicator column.\n"
   ]
  },
  {
   "cell_type": "code",
   "execution_count": 13,
   "metadata": {},
   "outputs": [],
   "source": [
    "# Convert SEASONS, HOLIDAY, FUNCTIONING_DAY, and HOUR columns into indicator columns.\n",
    "df1 <- bike_sharing_df\n",
    "\n",
    "df1 <- bike_sharing_df %>% mutate(dummy = 1) %>% \n",
    "spread(key = c(SEASONS), value = dummy, fill = 0)\n",
    "\n",
    "df2 <- df1 %>% mutate(dummy = 1) %>% \n",
    "spread(key = c(HOLIDAY), value = dummy, fill = 0)\n",
    "\n",
    "df3 <- df2 %>% mutate(dummy = 1) %>% \n",
    "spread(key = c(HOUR), value = dummy, fill = 0)"
   ]
  },
  {
   "cell_type": "code",
   "execution_count": 14,
   "metadata": {},
   "outputs": [
    {
     "data": {
      "text/plain": [
       "     DATE           RENTED_BIKE_COUNT  TEMPERATURE        HUMIDITY    \n",
       " Length:8465        Min.   :   2.0    Min.   :-17.80   Min.   : 0.00  \n",
       " Class :character   1st Qu.: 214.0    1st Qu.:  3.00   1st Qu.:42.00  \n",
       " Mode  :character   Median : 542.0    Median : 13.50   Median :57.00  \n",
       "                    Mean   : 729.2    Mean   : 12.77   Mean   :58.15  \n",
       "                    3rd Qu.:1084.0    3rd Qu.: 22.70   3rd Qu.:74.00  \n",
       "                    Max.   :3556.0    Max.   : 39.40   Max.   :98.00  \n",
       "   WIND_SPEED      VISIBILITY   DEW_POINT_TEMPERATURE SOLAR_RADIATION \n",
       " Min.   :0.000   Min.   :  27   Min.   :-30.600       Min.   :0.0000  \n",
       " 1st Qu.:0.900   1st Qu.: 935   1st Qu.: -5.100       1st Qu.:0.0000  \n",
       " Median :1.500   Median :1690   Median :  4.700       Median :0.0100  \n",
       " Mean   :1.726   Mean   :1434   Mean   :  3.945       Mean   :0.5679  \n",
       " 3rd Qu.:2.300   3rd Qu.:2000   3rd Qu.: 15.200       3rd Qu.:0.9300  \n",
       " Max.   :7.400   Max.   :2000   Max.   : 27.200       Max.   :3.5200  \n",
       "    RAINFALL          SNOWFALL       FUNCTIONING_DAY        Autumn      \n",
       " Min.   : 0.0000   Min.   :0.00000   Length:8465        Min.   :0.0000  \n",
       " 1st Qu.: 0.0000   1st Qu.:0.00000   Class :character   1st Qu.:0.0000  \n",
       " Median : 0.0000   Median :0.00000   Mode  :character   Median :0.0000  \n",
       " Mean   : 0.1491   Mean   :0.07769                      Mean   :0.2288  \n",
       " 3rd Qu.: 0.0000   3rd Qu.:0.00000                      3rd Qu.:0.0000  \n",
       " Max.   :35.0000   Max.   :8.80000                      Max.   :1.0000  \n",
       "     Spring           Summer           Winter          Holiday      \n",
       " Min.   :0.0000   Min.   :0.0000   Min.   :0.0000   Min.   :0.0000  \n",
       " 1st Qu.:0.0000   1st Qu.:0.0000   1st Qu.:0.0000   1st Qu.:0.0000  \n",
       " Median :0.0000   Median :0.0000   Median :0.0000   Median :0.0000  \n",
       " Mean   :0.2552   Mean   :0.2608   Mean   :0.2552   Mean   :0.0482  \n",
       " 3rd Qu.:1.0000   3rd Qu.:1.0000   3rd Qu.:1.0000   3rd Qu.:0.0000  \n",
       " Max.   :1.0000   Max.   :1.0000   Max.   :1.0000   Max.   :1.0000  \n",
       "   No Holiday           0                 1                 10        \n",
       " Min.   :0.0000   Min.   :0.00000   Min.   :0.00000   Min.   :0.0000  \n",
       " 1st Qu.:1.0000   1st Qu.:0.00000   1st Qu.:0.00000   1st Qu.:0.0000  \n",
       " Median :1.0000   Median :0.00000   Median :0.00000   Median :0.0000  \n",
       " Mean   :0.9518   Mean   :0.04158   Mean   :0.04158   Mean   :0.0417  \n",
       " 3rd Qu.:1.0000   3rd Qu.:0.00000   3rd Qu.:0.00000   3rd Qu.:0.0000  \n",
       " Max.   :1.0000   Max.   :1.00000   Max.   :1.00000   Max.   :1.0000  \n",
       "       11               12               13               14        \n",
       " Min.   :0.0000   Min.   :0.0000   Min.   :0.0000   Min.   :0.0000  \n",
       " 1st Qu.:0.0000   1st Qu.:0.0000   1st Qu.:0.0000   1st Qu.:0.0000  \n",
       " Median :0.0000   Median :0.0000   Median :0.0000   Median :0.0000  \n",
       " Mean   :0.0417   Mean   :0.0417   Mean   :0.0417   Mean   :0.0417  \n",
       " 3rd Qu.:0.0000   3rd Qu.:0.0000   3rd Qu.:0.0000   3rd Qu.:0.0000  \n",
       " Max.   :1.0000   Max.   :1.0000   Max.   :1.0000   Max.   :1.0000  \n",
       "       15               16               17               18        \n",
       " Min.   :0.0000   Min.   :0.0000   Min.   :0.0000   Min.   :0.0000  \n",
       " 1st Qu.:0.0000   1st Qu.:0.0000   1st Qu.:0.0000   1st Qu.:0.0000  \n",
       " Median :0.0000   Median :0.0000   Median :0.0000   Median :0.0000  \n",
       " Mean   :0.0417   Mean   :0.0417   Mean   :0.0417   Mean   :0.0417  \n",
       " 3rd Qu.:0.0000   3rd Qu.:0.0000   3rd Qu.:0.0000   3rd Qu.:0.0000  \n",
       " Max.   :1.0000   Max.   :1.0000   Max.   :1.0000   Max.   :1.0000  \n",
       "       19               2                 20               21        \n",
       " Min.   :0.0000   Min.   :0.00000   Min.   :0.0000   Min.   :0.0000  \n",
       " 1st Qu.:0.0000   1st Qu.:0.00000   1st Qu.:0.0000   1st Qu.:0.0000  \n",
       " Median :0.0000   Median :0.00000   Median :0.0000   Median :0.0000  \n",
       " Mean   :0.0417   Mean   :0.04158   Mean   :0.0417   Mean   :0.0417  \n",
       " 3rd Qu.:0.0000   3rd Qu.:0.00000   3rd Qu.:0.0000   3rd Qu.:0.0000  \n",
       " Max.   :1.0000   Max.   :1.00000   Max.   :1.0000   Max.   :1.0000  \n",
       "       22               23               3                 4          \n",
       " Min.   :0.0000   Min.   :0.0000   Min.   :0.00000   Min.   :0.00000  \n",
       " 1st Qu.:0.0000   1st Qu.:0.0000   1st Qu.:0.00000   1st Qu.:0.00000  \n",
       " Median :0.0000   Median :0.0000   Median :0.00000   Median :0.00000  \n",
       " Mean   :0.0417   Mean   :0.0417   Mean   :0.04158   Mean   :0.04158  \n",
       " 3rd Qu.:0.0000   3rd Qu.:0.0000   3rd Qu.:0.00000   3rd Qu.:0.00000  \n",
       " Max.   :1.0000   Max.   :1.0000   Max.   :1.00000   Max.   :1.00000  \n",
       "       5                 6                 7                8         \n",
       " Min.   :0.00000   Min.   :0.00000   Min.   :0.0000   Min.   :0.0000  \n",
       " 1st Qu.:0.00000   1st Qu.:0.00000   1st Qu.:0.0000   1st Qu.:0.0000  \n",
       " Median :0.00000   Median :0.00000   Median :0.0000   Median :0.0000  \n",
       " Mean   :0.04158   Mean   :0.04158   Mean   :0.0417   Mean   :0.0417  \n",
       " 3rd Qu.:0.00000   3rd Qu.:0.00000   3rd Qu.:0.0000   3rd Qu.:0.0000  \n",
       " Max.   :1.00000   Max.   :1.00000   Max.   :1.0000   Max.   :1.0000  \n",
       "       9         \n",
       " Min.   :0.0000  \n",
       " 1st Qu.:0.0000  \n",
       " Median :0.0000  \n",
       " Mean   :0.0417  \n",
       " 3rd Qu.:0.0000  \n",
       " Max.   :1.0000  "
      ]
     },
     "metadata": {},
     "output_type": "display_data"
    }
   ],
   "source": [
    "# Print the dataset summary again to make sure the indicator columns are created properly\n",
    "summary(df3)"
   ]
  },
  {
   "cell_type": "code",
   "execution_count": 15,
   "metadata": {},
   "outputs": [],
   "source": [
    "# Save the dataset as `seoul_bike_sharing_converted.csv`\n",
    "write_csv(df3, \"seoul_bike_sharing_converted.csv\")"
   ]
  },
  {
   "cell_type": "markdown",
   "metadata": {},
   "source": [
    "# TASK: Normalize data\n"
   ]
  },
  {
   "cell_type": "markdown",
   "metadata": {},
   "source": [
    "Columns `RENTED_BIKE_COUNT`, `TEMPERATURE`, `HUMIDITY`, `WIND_SPEED`, `VISIBILITY`, `DEW_POINT_TEMPERATURE`, `SOLAR_RADIATION`, `RAINFALL`, `SNOWFALL` are numerical variables/columns with different value units and range. Columns with large values may adversely influence (bias) the predictive models and degrade model accuracy. Thus, we need to perform normalization on these numeric columns to transfer them into a similar range.\n"
   ]
  },
  {
   "cell_type": "markdown",
   "metadata": {},
   "source": [
    "In this project, you are asked to use Min-max normalization:\n",
    "\n",
    "**Min-max** rescales each value in a column by first subtracting the minimum value of the column from each value, and then divides the result by the difference between the maximum and minimum values of the column. So the column gets re-scaled such that the minimum becomes 0 and the maximum becomes 1.\n",
    "\n",
    "$$x\\_{new} = \\frac{x\\_{old} - x\\_{min}}{x\\_{max} - x\\_{min}}$$\n"
   ]
  },
  {
   "cell_type": "markdown",
   "metadata": {},
   "source": [
    "*TODO:* Apply min-max normalization on `RENTED_BIKE_COUNT`, `TEMPERATURE`, `HUMIDITY`, `WIND_SPEED`, `VISIBILITY`, `DEW_POINT_TEMPERATURE`, `SOLAR_RADIATION`, `RAINFALL`, `SNOWFALL`\n"
   ]
  },
  {
   "cell_type": "code",
   "execution_count": 16,
   "metadata": {},
   "outputs": [
    {
     "data": {
      "text/html": [
       "<table>\n",
       "<thead><tr><th scope=col>DATE</th><th scope=col>RENTED_BIKE_COUNT</th><th scope=col>TEMPERATURE</th><th scope=col>HUMIDITY</th><th scope=col>WIND_SPEED</th><th scope=col>VISIBILITY</th><th scope=col>DEW_POINT_TEMPERATURE</th><th scope=col>SOLAR_RADIATION</th><th scope=col>RAINFALL</th><th scope=col>SNOWFALL</th><th scope=col>...</th><th scope=col>21</th><th scope=col>22</th><th scope=col>23</th><th scope=col>3</th><th scope=col>4</th><th scope=col>5</th><th scope=col>6</th><th scope=col>7</th><th scope=col>8</th><th scope=col>9</th></tr></thead>\n",
       "<tbody>\n",
       "\t<tr><td>01/12/2017</td><td>0.07090602</td><td>0.2202797 </td><td>0.3775510 </td><td>0.2972973 </td><td>1         </td><td>0.2249135 </td><td>0         </td><td>0         </td><td>0         </td><td>...       </td><td>0         </td><td>0         </td><td>0         </td><td>0         </td><td>0         </td><td>0         </td><td>0         </td><td>0         </td><td>0         </td><td>0         </td></tr>\n",
       "\t<tr><td>01/12/2017</td><td>0.05683737</td><td>0.2150350 </td><td>0.3877551 </td><td>0.1081081 </td><td>1         </td><td>0.2249135 </td><td>0         </td><td>0         </td><td>0         </td><td>...       </td><td>0         </td><td>0         </td><td>0         </td><td>0         </td><td>0         </td><td>0         </td><td>0         </td><td>0         </td><td>0         </td><td>0         </td></tr>\n",
       "\t<tr><td>01/12/2017</td><td>0.04811480</td><td>0.2062937 </td><td>0.3979592 </td><td>0.1351351 </td><td>1         </td><td>0.2231834 </td><td>0         </td><td>0         </td><td>0         </td><td>...       </td><td>0         </td><td>0         </td><td>0         </td><td>0         </td><td>0         </td><td>0         </td><td>0         </td><td>0         </td><td>0         </td><td>0         </td></tr>\n",
       "\t<tr><td>01/12/2017</td><td>0.02954418</td><td>0.2027972 </td><td>0.4081633 </td><td>0.1216216 </td><td>1         </td><td>0.2249135 </td><td>0         </td><td>0         </td><td>0         </td><td>...       </td><td>0         </td><td>0         </td><td>0         </td><td>1         </td><td>0         </td><td>0         </td><td>0         </td><td>0         </td><td>0         </td><td>0         </td></tr>\n",
       "\t<tr><td>01/12/2017</td><td>0.02138436</td><td>0.2062937 </td><td>0.3673469 </td><td>0.3108108 </td><td>1         </td><td>0.2076125 </td><td>0         </td><td>0         </td><td>0         </td><td>...       </td><td>0         </td><td>0         </td><td>0         </td><td>0         </td><td>1         </td><td>0         </td><td>0         </td><td>0         </td><td>0         </td><td>0         </td></tr>\n",
       "\t<tr><td>01/12/2017</td><td>0.02757456</td><td>0.1993007 </td><td>0.3775510 </td><td>0.2027027 </td><td>1         </td><td>0.2058824 </td><td>0         </td><td>0         </td><td>0         </td><td>...       </td><td>0         </td><td>0         </td><td>0         </td><td>0         </td><td>0         </td><td>1         </td><td>0         </td><td>0         </td><td>0         </td><td>0         </td></tr>\n",
       "</tbody>\n",
       "</table>\n"
      ],
      "text/latex": [
       "\\begin{tabular}{r|lllllllllllllllllllllllllllllllllllllllll}\n",
       " DATE & RENTED\\_BIKE\\_COUNT & TEMPERATURE & HUMIDITY & WIND\\_SPEED & VISIBILITY & DEW\\_POINT\\_TEMPERATURE & SOLAR\\_RADIATION & RAINFALL & SNOWFALL & ... & 21 & 22 & 23 & 3 & 4 & 5 & 6 & 7 & 8 & 9\\\\\n",
       "\\hline\n",
       "\t 01/12/2017 & 0.07090602 & 0.2202797  & 0.3775510  & 0.2972973  & 1          & 0.2249135  & 0          & 0          & 0          & ...        & 0          & 0          & 0          & 0          & 0          & 0          & 0          & 0          & 0          & 0         \\\\\n",
       "\t 01/12/2017 & 0.05683737 & 0.2150350  & 0.3877551  & 0.1081081  & 1          & 0.2249135  & 0          & 0          & 0          & ...        & 0          & 0          & 0          & 0          & 0          & 0          & 0          & 0          & 0          & 0         \\\\\n",
       "\t 01/12/2017 & 0.04811480 & 0.2062937  & 0.3979592  & 0.1351351  & 1          & 0.2231834  & 0          & 0          & 0          & ...        & 0          & 0          & 0          & 0          & 0          & 0          & 0          & 0          & 0          & 0         \\\\\n",
       "\t 01/12/2017 & 0.02954418 & 0.2027972  & 0.4081633  & 0.1216216  & 1          & 0.2249135  & 0          & 0          & 0          & ...        & 0          & 0          & 0          & 1          & 0          & 0          & 0          & 0          & 0          & 0         \\\\\n",
       "\t 01/12/2017 & 0.02138436 & 0.2062937  & 0.3673469  & 0.3108108  & 1          & 0.2076125  & 0          & 0          & 0          & ...        & 0          & 0          & 0          & 0          & 1          & 0          & 0          & 0          & 0          & 0         \\\\\n",
       "\t 01/12/2017 & 0.02757456 & 0.1993007  & 0.3775510  & 0.2027027  & 1          & 0.2058824  & 0          & 0          & 0          & ...        & 0          & 0          & 0          & 0          & 0          & 1          & 0          & 0          & 0          & 0         \\\\\n",
       "\\end{tabular}\n"
      ],
      "text/markdown": [
       "\n",
       "| DATE | RENTED_BIKE_COUNT | TEMPERATURE | HUMIDITY | WIND_SPEED | VISIBILITY | DEW_POINT_TEMPERATURE | SOLAR_RADIATION | RAINFALL | SNOWFALL | ... | 21 | 22 | 23 | 3 | 4 | 5 | 6 | 7 | 8 | 9 |\n",
       "|---|---|---|---|---|---|---|---|---|---|---|---|---|---|---|---|---|---|---|---|---|\n",
       "| 01/12/2017 | 0.07090602 | 0.2202797  | 0.3775510  | 0.2972973  | 1          | 0.2249135  | 0          | 0          | 0          | ...        | 0          | 0          | 0          | 0          | 0          | 0          | 0          | 0          | 0          | 0          |\n",
       "| 01/12/2017 | 0.05683737 | 0.2150350  | 0.3877551  | 0.1081081  | 1          | 0.2249135  | 0          | 0          | 0          | ...        | 0          | 0          | 0          | 0          | 0          | 0          | 0          | 0          | 0          | 0          |\n",
       "| 01/12/2017 | 0.04811480 | 0.2062937  | 0.3979592  | 0.1351351  | 1          | 0.2231834  | 0          | 0          | 0          | ...        | 0          | 0          | 0          | 0          | 0          | 0          | 0          | 0          | 0          | 0          |\n",
       "| 01/12/2017 | 0.02954418 | 0.2027972  | 0.4081633  | 0.1216216  | 1          | 0.2249135  | 0          | 0          | 0          | ...        | 0          | 0          | 0          | 1          | 0          | 0          | 0          | 0          | 0          | 0          |\n",
       "| 01/12/2017 | 0.02138436 | 0.2062937  | 0.3673469  | 0.3108108  | 1          | 0.2076125  | 0          | 0          | 0          | ...        | 0          | 0          | 0          | 0          | 1          | 0          | 0          | 0          | 0          | 0          |\n",
       "| 01/12/2017 | 0.02757456 | 0.1993007  | 0.3775510  | 0.2027027  | 1          | 0.2058824  | 0          | 0          | 0          | ...        | 0          | 0          | 0          | 0          | 0          | 1          | 0          | 0          | 0          | 0          |\n",
       "\n"
      ],
      "text/plain": [
       "  DATE       RENTED_BIKE_COUNT TEMPERATURE HUMIDITY  WIND_SPEED VISIBILITY\n",
       "1 01/12/2017 0.07090602        0.2202797   0.3775510 0.2972973  1         \n",
       "2 01/12/2017 0.05683737        0.2150350   0.3877551 0.1081081  1         \n",
       "3 01/12/2017 0.04811480        0.2062937   0.3979592 0.1351351  1         \n",
       "4 01/12/2017 0.02954418        0.2027972   0.4081633 0.1216216  1         \n",
       "5 01/12/2017 0.02138436        0.2062937   0.3673469 0.3108108  1         \n",
       "6 01/12/2017 0.02757456        0.1993007   0.3775510 0.2027027  1         \n",
       "  DEW_POINT_TEMPERATURE SOLAR_RADIATION RAINFALL SNOWFALL ... 21 22 23 3 4 5 6\n",
       "1 0.2249135             0               0        0        ... 0  0  0  0 0 0 0\n",
       "2 0.2249135             0               0        0        ... 0  0  0  0 0 0 0\n",
       "3 0.2231834             0               0        0        ... 0  0  0  0 0 0 0\n",
       "4 0.2249135             0               0        0        ... 0  0  0  1 0 0 0\n",
       "5 0.2076125             0               0        0        ... 0  0  0  0 1 0 0\n",
       "6 0.2058824             0               0        0        ... 0  0  0  0 0 1 0\n",
       "  7 8 9\n",
       "1 0 0 0\n",
       "2 0 0 0\n",
       "3 0 0 0\n",
       "4 0 0 0\n",
       "5 0 0 0\n",
       "6 0 0 0"
      ]
     },
     "metadata": {},
     "output_type": "display_data"
    }
   ],
   "source": [
    "# Use the `mutate()` function to apply min-max normalization on columns \n",
    "# `RENTED_BIKE_COUNT`, `TEMPERATURE`, `HUMIDITY`, `WIND_SPEED`, `VISIBILITY`, `DEW_POINT_TEMPERATURE`, `SOLAR_RADIATION`, `RAINFALL`, `SNOWFALL`\n",
    "\n",
    "normalize <- function(x, na.rm = TRUE) {\n",
    "    return((x-min(x)) / (max(x)-min(x)))\n",
    "}\n",
    "\n",
    "n1 <- normalize(df3$RENTED_BIKE_COUNT)\n",
    "n2 <- normalize(df3$TEMPERATURE)\n",
    "n3 <- normalize(df3$HUMIDITY)\n",
    "n4 <- normalize(df3$WIND_SPEED)\n",
    "n5 <- normalize(df3$VISIBILITY)\n",
    "n6 <- normalize(df3$DEW_POINT_TEMPERATURE)\n",
    "n7 <- normalize(df3$SOLAR_RADIATION)\n",
    "n8 <- normalize(df3$RAINFALL)\n",
    "n9 <- normalize(df3$SNOWFALL)\n",
    "\n",
    "\n",
    "df4 <- df3 %>% mutate(RENTED_BIKE_COUNT = n1) %>% \n",
    "mutate(TEMPERATURE = n2) %>% \n",
    "mutate(HUMIDITY = n3) %>% \n",
    "mutate(WIND_SPEED = n4) %>% \n",
    "mutate(VISIBILITY = n5) %>% \n",
    "mutate(DEW_POINT_TEMPERATURE = n6) %>% \n",
    "mutate(SOLAR_RADIATION = n7) %>% \n",
    "mutate(RAINFALL = n8) %>% \n",
    "mutate(SNOWFALL = n9)\n",
    "\n",
    "head(df4)"
   ]
  },
  {
   "cell_type": "code",
   "execution_count": 17,
   "metadata": {},
   "outputs": [
    {
     "data": {
      "text/plain": [
       "     DATE           RENTED_BIKE_COUNT  TEMPERATURE        HUMIDITY     \n",
       " Length:8465        Min.   :0.00000   Min.   :0.0000   Min.   :0.0000  \n",
       " Class :character   1st Qu.:0.05965   1st Qu.:0.3636   1st Qu.:0.4286  \n",
       " Mode  :character   Median :0.15194   Median :0.5472   Median :0.5816  \n",
       "                    Mean   :0.20460   Mean   :0.5345   Mean   :0.5933  \n",
       "                    3rd Qu.:0.30445   3rd Qu.:0.7080   3rd Qu.:0.7551  \n",
       "                    Max.   :1.00000   Max.   :1.0000   Max.   :1.0000  \n",
       "   WIND_SPEED       VISIBILITY     DEW_POINT_TEMPERATURE SOLAR_RADIATION   \n",
       " Min.   :0.0000   Min.   :0.0000   Min.   :0.0000        Min.   :0.000000  \n",
       " 1st Qu.:0.1216   1st Qu.:0.4602   1st Qu.:0.4412        1st Qu.:0.000000  \n",
       " Median :0.2027   Median :0.8429   Median :0.6107        Median :0.002841  \n",
       " Mean   :0.2332   Mean   :0.7131   Mean   :0.5977        Mean   :0.161326  \n",
       " 3rd Qu.:0.3108   3rd Qu.:1.0000   3rd Qu.:0.7924        3rd Qu.:0.264205  \n",
       " Max.   :1.0000   Max.   :1.0000   Max.   :1.0000        Max.   :1.000000  \n",
       "    RAINFALL           SNOWFALL        FUNCTIONING_DAY        Autumn      \n",
       " Min.   :0.000000   Min.   :0.000000   Length:8465        Min.   :0.0000  \n",
       " 1st Qu.:0.000000   1st Qu.:0.000000   Class :character   1st Qu.:0.0000  \n",
       " Median :0.000000   Median :0.000000   Mode  :character   Median :0.0000  \n",
       " Mean   :0.004261   Mean   :0.008828                      Mean   :0.2288  \n",
       " 3rd Qu.:0.000000   3rd Qu.:0.000000                      3rd Qu.:0.0000  \n",
       " Max.   :1.000000   Max.   :1.000000                      Max.   :1.0000  \n",
       "     Spring           Summer           Winter          Holiday      \n",
       " Min.   :0.0000   Min.   :0.0000   Min.   :0.0000   Min.   :0.0000  \n",
       " 1st Qu.:0.0000   1st Qu.:0.0000   1st Qu.:0.0000   1st Qu.:0.0000  \n",
       " Median :0.0000   Median :0.0000   Median :0.0000   Median :0.0000  \n",
       " Mean   :0.2552   Mean   :0.2608   Mean   :0.2552   Mean   :0.0482  \n",
       " 3rd Qu.:1.0000   3rd Qu.:1.0000   3rd Qu.:1.0000   3rd Qu.:0.0000  \n",
       " Max.   :1.0000   Max.   :1.0000   Max.   :1.0000   Max.   :1.0000  \n",
       "   No Holiday           0                 1                 10        \n",
       " Min.   :0.0000   Min.   :0.00000   Min.   :0.00000   Min.   :0.0000  \n",
       " 1st Qu.:1.0000   1st Qu.:0.00000   1st Qu.:0.00000   1st Qu.:0.0000  \n",
       " Median :1.0000   Median :0.00000   Median :0.00000   Median :0.0000  \n",
       " Mean   :0.9518   Mean   :0.04158   Mean   :0.04158   Mean   :0.0417  \n",
       " 3rd Qu.:1.0000   3rd Qu.:0.00000   3rd Qu.:0.00000   3rd Qu.:0.0000  \n",
       " Max.   :1.0000   Max.   :1.00000   Max.   :1.00000   Max.   :1.0000  \n",
       "       11               12               13               14        \n",
       " Min.   :0.0000   Min.   :0.0000   Min.   :0.0000   Min.   :0.0000  \n",
       " 1st Qu.:0.0000   1st Qu.:0.0000   1st Qu.:0.0000   1st Qu.:0.0000  \n",
       " Median :0.0000   Median :0.0000   Median :0.0000   Median :0.0000  \n",
       " Mean   :0.0417   Mean   :0.0417   Mean   :0.0417   Mean   :0.0417  \n",
       " 3rd Qu.:0.0000   3rd Qu.:0.0000   3rd Qu.:0.0000   3rd Qu.:0.0000  \n",
       " Max.   :1.0000   Max.   :1.0000   Max.   :1.0000   Max.   :1.0000  \n",
       "       15               16               17               18        \n",
       " Min.   :0.0000   Min.   :0.0000   Min.   :0.0000   Min.   :0.0000  \n",
       " 1st Qu.:0.0000   1st Qu.:0.0000   1st Qu.:0.0000   1st Qu.:0.0000  \n",
       " Median :0.0000   Median :0.0000   Median :0.0000   Median :0.0000  \n",
       " Mean   :0.0417   Mean   :0.0417   Mean   :0.0417   Mean   :0.0417  \n",
       " 3rd Qu.:0.0000   3rd Qu.:0.0000   3rd Qu.:0.0000   3rd Qu.:0.0000  \n",
       " Max.   :1.0000   Max.   :1.0000   Max.   :1.0000   Max.   :1.0000  \n",
       "       19               2                 20               21        \n",
       " Min.   :0.0000   Min.   :0.00000   Min.   :0.0000   Min.   :0.0000  \n",
       " 1st Qu.:0.0000   1st Qu.:0.00000   1st Qu.:0.0000   1st Qu.:0.0000  \n",
       " Median :0.0000   Median :0.00000   Median :0.0000   Median :0.0000  \n",
       " Mean   :0.0417   Mean   :0.04158   Mean   :0.0417   Mean   :0.0417  \n",
       " 3rd Qu.:0.0000   3rd Qu.:0.00000   3rd Qu.:0.0000   3rd Qu.:0.0000  \n",
       " Max.   :1.0000   Max.   :1.00000   Max.   :1.0000   Max.   :1.0000  \n",
       "       22               23               3                 4          \n",
       " Min.   :0.0000   Min.   :0.0000   Min.   :0.00000   Min.   :0.00000  \n",
       " 1st Qu.:0.0000   1st Qu.:0.0000   1st Qu.:0.00000   1st Qu.:0.00000  \n",
       " Median :0.0000   Median :0.0000   Median :0.00000   Median :0.00000  \n",
       " Mean   :0.0417   Mean   :0.0417   Mean   :0.04158   Mean   :0.04158  \n",
       " 3rd Qu.:0.0000   3rd Qu.:0.0000   3rd Qu.:0.00000   3rd Qu.:0.00000  \n",
       " Max.   :1.0000   Max.   :1.0000   Max.   :1.00000   Max.   :1.00000  \n",
       "       5                 6                 7                8         \n",
       " Min.   :0.00000   Min.   :0.00000   Min.   :0.0000   Min.   :0.0000  \n",
       " 1st Qu.:0.00000   1st Qu.:0.00000   1st Qu.:0.0000   1st Qu.:0.0000  \n",
       " Median :0.00000   Median :0.00000   Median :0.0000   Median :0.0000  \n",
       " Mean   :0.04158   Mean   :0.04158   Mean   :0.0417   Mean   :0.0417  \n",
       " 3rd Qu.:0.00000   3rd Qu.:0.00000   3rd Qu.:0.0000   3rd Qu.:0.0000  \n",
       " Max.   :1.00000   Max.   :1.00000   Max.   :1.0000   Max.   :1.0000  \n",
       "       9         \n",
       " Min.   :0.0000  \n",
       " 1st Qu.:0.0000  \n",
       " Median :0.0000  \n",
       " Mean   :0.0417  \n",
       " 3rd Qu.:0.0000  \n",
       " Max.   :1.0000  "
      ]
     },
     "metadata": {},
     "output_type": "display_data"
    }
   ],
   "source": [
    "# Print the summary of the dataset again to make sure the numeric columns range between 0 and 1\n",
    "summary(df4)"
   ]
  },
  {
   "cell_type": "code",
   "execution_count": 18,
   "metadata": {},
   "outputs": [],
   "source": [
    "# Save the dataset as `seoul_bike_sharing_converted_normalized.csv`\n",
    "write_csv(df4, \"seoul_bike_sharing_converted_normalized.csv\")"
   ]
  },
  {
   "cell_type": "markdown",
   "metadata": {},
   "source": [
    "## Standardize the column names again for the new datasets\n"
   ]
  },
  {
   "cell_type": "markdown",
   "metadata": {},
   "source": [
    "Since you have added many new indicator variables, you need to standardize their column names again by using the following code:\n"
   ]
  },
  {
   "cell_type": "code",
   "execution_count": 19,
   "metadata": {},
   "outputs": [
    {
     "name": "stderr",
     "output_type": "stream",
     "text": [
      "Warning message:\n",
      "\"Missing column names filled in: 'X1' [1]\"Parsed with column specification:\n",
      "cols(\n",
      "  X1 = col_double(),\n",
      "  DATE = col_character(),\n",
      "  RENTED_BIKE_COUNT = col_double(),\n",
      "  HOUR = col_double(),\n",
      "  TEMPERATURE = col_double(),\n",
      "  HUMIDITY = col_double(),\n",
      "  WIND_SPEED = col_double(),\n",
      "  VISIBILITY = col_double(),\n",
      "  DEW_POINT_TEMPERATURE = col_double(),\n",
      "  SOLAR_RADIATION = col_double(),\n",
      "  RAINFALL = col_double(),\n",
      "  SNOWFALL = col_double(),\n",
      "  SEASONS = col_character(),\n",
      "  HOLIDAY = col_character(),\n",
      "  FUNCTIONING_DAY = col_character()\n",
      ")\n",
      "Parsed with column specification:\n",
      "cols(\n",
      "  .default = col_double(),\n",
      "  DATE = col_character(),\n",
      "  FUNCTIONING_DAY = col_character()\n",
      ")\n",
      "See spec(...) for full column specifications.\n",
      "Parsed with column specification:\n",
      "cols(\n",
      "  .default = col_double(),\n",
      "  DATE = col_character(),\n",
      "  FUNCTIONING_DAY = col_character()\n",
      ")\n",
      "See spec(...) for full column specifications.\n"
     ]
    }
   ],
   "source": [
    "# Dataset list\n",
    "dataset_list <- c('seoul_bike_sharing.csv', 'seoul_bike_sharing_converted.csv', 'seoul_bike_sharing_converted_normalized.csv')\n",
    "\n",
    "for (dataset_name in dataset_list){\n",
    "    # Read dataset\n",
    "    dataset <- read_csv(dataset_name)\n",
    "    # Standardized its columns:\n",
    "    # Convert all columns names to uppercase\n",
    "    names(dataset) <- toupper(names(dataset))\n",
    "    # Replace any white space separators by underscore, using str_replace_all function\n",
    "    names(dataset) <- str_replace_all(names(dataset), \" \", \"_\")\n",
    "    # Save the dataset back\n",
    "    write.csv(dataset, dataset_name, row.names=FALSE)\n",
    "}"
   ]
  },
  {
   "cell_type": "markdown",
   "metadata": {},
   "source": [
    "# Next Steps\n"
   ]
  },
  {
   "cell_type": "markdown",
   "metadata": {},
   "source": [
    "Great! Now that you have processed all of the necessary datasets, you are ready to perform exploratory data analysis to get some inital insights from them.\n"
   ]
  },
  {
   "cell_type": "markdown",
   "metadata": {},
   "source": [
    "## Authors\n",
    "\n",
    "<a href=\"https://www.linkedin.com/in/yan-luo-96288783/?utm_medium=Exinfluencer&utm_source=Exinfluencer&utm_content=000026UJ&utm_term=10006555&utm_id=NA-SkillsNetwork-Channel-SkillsNetworkCoursesIBMDeveloperSkillsNetworkRP0321ENSkillsNetwork25371262-2021-01-01\" target=\"_blank\">Yan Luo</a>\n"
   ]
  },
  {
   "cell_type": "markdown",
   "metadata": {},
   "source": [
    "### Other Contributors\n",
    "\n",
    "Jeff Grossman\n"
   ]
  },
  {
   "cell_type": "markdown",
   "metadata": {},
   "source": [
    "## Change Log\n",
    "\n",
    "| Date (YYYY-MM-DD) | Version | Changed By | Change Description           |\n",
    "| ----------------- | ------- | ---------- | ---------------------------- |\n",
    "| 2021-04-08        | 1.0     | Yan        | Initial version created      |\n",
    "|                   |         |            |                              |\n",
    "|                   |         |            |                              |\n",
    "\n",
    "## <h3 align=\"center\"> © IBM Corporation 2021. All rights reserved. <h3/>\n"
   ]
  }
 ],
 "metadata": {
  "kernelspec": {
   "display_name": "R",
   "language": "R",
   "name": "ir"
  },
  "language_info": {
   "codemirror_mode": "r",
   "file_extension": ".r",
   "mimetype": "text/x-r-source",
   "name": "R",
   "pygments_lexer": "r",
   "version": "3.6.1"
  }
 },
 "nbformat": 4,
 "nbformat_minor": 4
}
