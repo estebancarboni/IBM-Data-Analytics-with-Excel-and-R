{
 "cells": [
  {
   "cell_type": "markdown",
   "metadata": {},
   "source": [
    "<center>\n",
    "    <img src=\"https://s3-api.us-geo.objectstorage.softlayer.net/cf-courses-data/CognitiveClass/Logos/organization_logo/organization_logo.png\" width=\"1000\" alt=\"cognitiveclass.ai logo\"  />\n",
    "</center>\n",
    "\n",
    "# Assignment: Exploratory Data Analysis with SQL\n",
    "\n",
    "Estimated time needed: 60 minutes\n",
    "\n",
    "# Introduction\n",
    "\n",
    "Using this R notebook you will perform exploratory data analysis tasks using SQL queries with the RODBC R package. You will not be graded here, but you will be asked to present some of these results in your final assignment, where you will be graded on the accuracy of your results as well as the content of your SQL queries.\n"
   ]
  },
  {
   "cell_type": "markdown",
   "metadata": {},
   "source": [
    "### Establish your Db2 connection\n",
    "\n",
    "Load the 'RODBC' library, and use the 'odbcConnect( )' function as you did in the previous lab to establish the connection to your Db2 assets.\\\n",
    "Provided you successfully loaded your data into the tables in that lab, you are now ready to start running SQL queries using the RODBC library as you did in Course 3.\n"
   ]
  },
  {
   "cell_type": "code",
   "execution_count": 1,
   "metadata": {},
   "outputs": [],
   "source": [
    "# DELETED CELL"
   ]
  },
  {
   "cell_type": "markdown",
   "metadata": {},
   "source": [
    "## Task 1 - Record Count\n",
    "\n",
    "#### Determine how many records are in the seoul_bike_sharing dataset.\n"
   ]
  },
  {
   "cell_type": "markdown",
   "metadata": {},
   "source": [
    "### Solution 1\n"
   ]
  },
  {
   "cell_type": "code",
   "execution_count": 2,
   "metadata": {
    "scrolled": true
   },
   "outputs": [
    {
     "data": {
      "text/html": [
       "<table>\n",
       "<caption>A data.frame: 1 × 1</caption>\n",
       "<thead>\n",
       "\t<tr><th></th><th scope=col>1</th></tr>\n",
       "\t<tr><th></th><th scope=col>&lt;int&gt;</th></tr>\n",
       "</thead>\n",
       "<tbody>\n",
       "\t<tr><th scope=row>1</th><td>8465</td></tr>\n",
       "</tbody>\n",
       "</table>\n"
      ],
      "text/latex": [
       "A data.frame: 1 × 1\n",
       "\\begin{tabular}{r|l}\n",
       "  & 1\\\\\n",
       "  & <int>\\\\\n",
       "\\hline\n",
       "\t1 & 8465\\\\\n",
       "\\end{tabular}\n"
      ],
      "text/markdown": [
       "\n",
       "A data.frame: 1 × 1\n",
       "\n",
       "| <!--/--> | 1 &lt;int&gt; |\n",
       "|---|---|\n",
       "| 1 | 8465 |\n",
       "\n"
      ],
      "text/plain": [
       "  1   \n",
       "1 8465"
      ]
     },
     "metadata": {},
     "output_type": "display_data"
    }
   ],
   "source": [
    "# provide your solution here\n",
    "query <- \"SELECT COUNT(*) FROM SEOUL_BIKE_SHARING\"\n",
    "view <- sqlQuery(conn,query)\n",
    "view"
   ]
  },
  {
   "cell_type": "markdown",
   "metadata": {},
   "source": [
    "## Task 2 - Operational Hours\n",
    "\n",
    "#### Determine how many hours had non-zero rented bike count.\n"
   ]
  },
  {
   "cell_type": "markdown",
   "metadata": {},
   "source": [
    "### Solution 2\n"
   ]
  },
  {
   "cell_type": "code",
   "execution_count": 3,
   "metadata": {
    "scrolled": true
   },
   "outputs": [
    {
     "data": {
      "text/html": [
       "<table>\n",
       "<caption>A data.frame: 1 × 1</caption>\n",
       "<thead>\n",
       "\t<tr><th></th><th scope=col>1</th></tr>\n",
       "\t<tr><th></th><th scope=col>&lt;int&gt;</th></tr>\n",
       "</thead>\n",
       "<tbody>\n",
       "\t<tr><th scope=row>1</th><td>8465</td></tr>\n",
       "</tbody>\n",
       "</table>\n"
      ],
      "text/latex": [
       "A data.frame: 1 × 1\n",
       "\\begin{tabular}{r|l}\n",
       "  & 1\\\\\n",
       "  & <int>\\\\\n",
       "\\hline\n",
       "\t1 & 8465\\\\\n",
       "\\end{tabular}\n"
      ],
      "text/markdown": [
       "\n",
       "A data.frame: 1 × 1\n",
       "\n",
       "| <!--/--> | 1 &lt;int&gt; |\n",
       "|---|---|\n",
       "| 1 | 8465 |\n",
       "\n"
      ],
      "text/plain": [
       "  1   \n",
       "1 8465"
      ]
     },
     "metadata": {},
     "output_type": "display_data"
    }
   ],
   "source": [
    "# provide your solution here\n",
    "query <- \"SELECT COUNT(HOUR) FROM SEOUL_BIKE_SHARING WHERE RENTED_BIKE_COUNT <> 0\"\n",
    "view <- sqlQuery(conn,query)\n",
    "view"
   ]
  },
  {
   "cell_type": "markdown",
   "metadata": {},
   "source": [
    "## Task 3 - Weather Outlook\n",
    "\n",
    "#### Query the the weather forecast for Seoul over the next 3 hours.\n",
    "\n",
    "Recall that the records in the CITIES_WEATHER_FORECAST dataset are 3 hours apart, so we just need the first record from the query.\n"
   ]
  },
  {
   "cell_type": "markdown",
   "metadata": {},
   "source": [
    "### Solution 3\n"
   ]
  },
  {
   "cell_type": "code",
   "execution_count": 4,
   "metadata": {},
   "outputs": [
    {
     "data": {
      "text/html": [
       "<table>\n",
       "<caption>A data.frame: 1 × 12</caption>\n",
       "<thead>\n",
       "\t<tr><th></th><th scope=col>CITY</th><th scope=col>WEATHER</th><th scope=col>VISIBILITY</th><th scope=col>TEMP</th><th scope=col>TEMP_MIN</th><th scope=col>TEMP_MAX</th><th scope=col>PRESSURE</th><th scope=col>HUMIDITY</th><th scope=col>WIND_SPEED</th><th scope=col>WIND_DEG</th><th scope=col>SEASON</th><th scope=col>FORECAST_DATETIME</th></tr>\n",
       "\t<tr><th></th><th scope=col>&lt;fct&gt;</th><th scope=col>&lt;fct&gt;</th><th scope=col>&lt;int&gt;</th><th scope=col>&lt;dbl&gt;</th><th scope=col>&lt;dbl&gt;</th><th scope=col>&lt;dbl&gt;</th><th scope=col>&lt;int&gt;</th><th scope=col>&lt;int&gt;</th><th scope=col>&lt;dbl&gt;</th><th scope=col>&lt;int&gt;</th><th scope=col>&lt;fct&gt;</th><th scope=col>&lt;fct&gt;</th></tr>\n",
       "</thead>\n",
       "<tbody>\n",
       "\t<tr><th scope=row>1</th><td>Seoul</td><td>Clouds</td><td>10000</td><td>25.1</td><td>25.1</td><td>25.1</td><td>1020</td><td>17</td><td>1.54</td><td>262</td><td>Spring</td><td>2021-04-21 09:00:00</td></tr>\n",
       "</tbody>\n",
       "</table>\n"
      ],
      "text/latex": [
       "A data.frame: 1 × 12\n",
       "\\begin{tabular}{r|llllllllllll}\n",
       "  & CITY & WEATHER & VISIBILITY & TEMP & TEMP\\_MIN & TEMP\\_MAX & PRESSURE & HUMIDITY & WIND\\_SPEED & WIND\\_DEG & SEASON & FORECAST\\_DATETIME\\\\\n",
       "  & <fct> & <fct> & <int> & <dbl> & <dbl> & <dbl> & <int> & <int> & <dbl> & <int> & <fct> & <fct>\\\\\n",
       "\\hline\n",
       "\t1 & Seoul & Clouds & 10000 & 25.1 & 25.1 & 25.1 & 1020 & 17 & 1.54 & 262 & Spring & 2021-04-21 09:00:00\\\\\n",
       "\\end{tabular}\n"
      ],
      "text/markdown": [
       "\n",
       "A data.frame: 1 × 12\n",
       "\n",
       "| <!--/--> | CITY &lt;fct&gt; | WEATHER &lt;fct&gt; | VISIBILITY &lt;int&gt; | TEMP &lt;dbl&gt; | TEMP_MIN &lt;dbl&gt; | TEMP_MAX &lt;dbl&gt; | PRESSURE &lt;int&gt; | HUMIDITY &lt;int&gt; | WIND_SPEED &lt;dbl&gt; | WIND_DEG &lt;int&gt; | SEASON &lt;fct&gt; | FORECAST_DATETIME &lt;fct&gt; |\n",
       "|---|---|---|---|---|---|---|---|---|---|---|---|---|\n",
       "| 1 | Seoul | Clouds | 10000 | 25.1 | 25.1 | 25.1 | 1020 | 17 | 1.54 | 262 | Spring | 2021-04-21 09:00:00 |\n",
       "\n"
      ],
      "text/plain": [
       "  CITY  WEATHER VISIBILITY TEMP TEMP_MIN TEMP_MAX PRESSURE HUMIDITY WIND_SPEED\n",
       "1 Seoul Clouds  10000      25.1 25.1     25.1     1020     17       1.54      \n",
       "  WIND_DEG SEASON FORECAST_DATETIME  \n",
       "1 262      Spring 2021-04-21 09:00:00"
      ]
     },
     "metadata": {},
     "output_type": "display_data"
    }
   ],
   "source": [
    "# provide your solution here\n",
    "query <- \"SELECT * FROM CITIES_WEATHER_FORECAST ORDER BY FORECAST_DATETIME DESC LIMIT 1\"\n",
    "view <- sqlQuery(conn,query)\n",
    "view"
   ]
  },
  {
   "cell_type": "markdown",
   "metadata": {},
   "source": [
    "## Task 4 - Seasons\n",
    "\n",
    "#### Find which seasons are included in the seoul bike sharing dataset.\n"
   ]
  },
  {
   "cell_type": "markdown",
   "metadata": {},
   "source": [
    "### Solution 4\n"
   ]
  },
  {
   "cell_type": "code",
   "execution_count": 5,
   "metadata": {},
   "outputs": [
    {
     "data": {
      "text/html": [
       "<table>\n",
       "<caption>A data.frame: 4 × 1</caption>\n",
       "<thead>\n",
       "\t<tr><th></th><th scope=col>SEASONS</th></tr>\n",
       "\t<tr><th></th><th scope=col>&lt;fct&gt;</th></tr>\n",
       "</thead>\n",
       "<tbody>\n",
       "\t<tr><th scope=row>1</th><td>Autumn</td></tr>\n",
       "\t<tr><th scope=row>2</th><td>Spring</td></tr>\n",
       "\t<tr><th scope=row>3</th><td>Summer</td></tr>\n",
       "\t<tr><th scope=row>4</th><td>Winter</td></tr>\n",
       "</tbody>\n",
       "</table>\n"
      ],
      "text/latex": [
       "A data.frame: 4 × 1\n",
       "\\begin{tabular}{r|l}\n",
       "  & SEASONS\\\\\n",
       "  & <fct>\\\\\n",
       "\\hline\n",
       "\t1 & Autumn\\\\\n",
       "\t2 & Spring\\\\\n",
       "\t3 & Summer\\\\\n",
       "\t4 & Winter\\\\\n",
       "\\end{tabular}\n"
      ],
      "text/markdown": [
       "\n",
       "A data.frame: 4 × 1\n",
       "\n",
       "| <!--/--> | SEASONS &lt;fct&gt; |\n",
       "|---|---|\n",
       "| 1 | Autumn |\n",
       "| 2 | Spring |\n",
       "| 3 | Summer |\n",
       "| 4 | Winter |\n",
       "\n"
      ],
      "text/plain": [
       "  SEASONS\n",
       "1 Autumn \n",
       "2 Spring \n",
       "3 Summer \n",
       "4 Winter "
      ]
     },
     "metadata": {},
     "output_type": "display_data"
    }
   ],
   "source": [
    "# provide your solution here\n",
    "query <- \"SELECT DISTINCT SEASONS FROM SEOUL_BIKE_SHARING\"\n",
    "view <- sqlQuery(conn,query)\n",
    "view"
   ]
  },
  {
   "cell_type": "markdown",
   "metadata": {},
   "source": [
    "## Task 5 - Date Range\n",
    "\n",
    "#### Find the first and last dates in the Seoul Bike Sharing dataset.\n"
   ]
  },
  {
   "cell_type": "markdown",
   "metadata": {},
   "source": [
    "### Solution 5\n"
   ]
  },
  {
   "cell_type": "code",
   "execution_count": 6,
   "metadata": {},
   "outputs": [
    {
     "data": {
      "text/html": [
       "<table>\n",
       "<caption>A data.frame: 1 × 2</caption>\n",
       "<thead>\n",
       "\t<tr><th></th><th scope=col>FIRST_DATE</th><th scope=col>LAST_DATE</th></tr>\n",
       "\t<tr><th></th><th scope=col>&lt;date&gt;</th><th scope=col>&lt;date&gt;</th></tr>\n",
       "</thead>\n",
       "<tbody>\n",
       "\t<tr><th scope=row>1</th><td>2017-12-01</td><td>2018-11-30</td></tr>\n",
       "</tbody>\n",
       "</table>\n"
      ],
      "text/latex": [
       "A data.frame: 1 × 2\n",
       "\\begin{tabular}{r|ll}\n",
       "  & FIRST\\_DATE & LAST\\_DATE\\\\\n",
       "  & <date> & <date>\\\\\n",
       "\\hline\n",
       "\t1 & 2017-12-01 & 2018-11-30\\\\\n",
       "\\end{tabular}\n"
      ],
      "text/markdown": [
       "\n",
       "A data.frame: 1 × 2\n",
       "\n",
       "| <!--/--> | FIRST_DATE &lt;date&gt; | LAST_DATE &lt;date&gt; |\n",
       "|---|---|---|\n",
       "| 1 | 2017-12-01 | 2018-11-30 |\n",
       "\n"
      ],
      "text/plain": [
       "  FIRST_DATE LAST_DATE \n",
       "1 2017-12-01 2018-11-30"
      ]
     },
     "metadata": {},
     "output_type": "display_data"
    }
   ],
   "source": [
    "# provide your solution here\n",
    "query <- \"SELECT MIN(DATE) FIRST_DATE, MAX(DATE) LAST_DATE FROM SEOUL_BIKE_SHARING\"\n",
    "view <- sqlQuery(conn,query)\n",
    "view"
   ]
  },
  {
   "cell_type": "markdown",
   "metadata": {},
   "source": [
    "## Task 6 - Subquery - 'all-time high'\n",
    "\n",
    "#### determine which date and hour had the most bike rentals.\n"
   ]
  },
  {
   "cell_type": "markdown",
   "metadata": {},
   "source": [
    "### Solution 6\n"
   ]
  },
  {
   "cell_type": "code",
   "execution_count": 7,
   "metadata": {},
   "outputs": [
    {
     "data": {
      "text/html": [
       "<table>\n",
       "<caption>A data.frame: 1 × 3</caption>\n",
       "<thead>\n",
       "\t<tr><th></th><th scope=col>DATE</th><th scope=col>HOUR</th><th scope=col>RENTED_BIKE_COUNT</th></tr>\n",
       "\t<tr><th></th><th scope=col>&lt;date&gt;</th><th scope=col>&lt;int&gt;</th><th scope=col>&lt;int&gt;</th></tr>\n",
       "</thead>\n",
       "<tbody>\n",
       "\t<tr><th scope=row>1</th><td>2018-06-19</td><td>18</td><td>3556</td></tr>\n",
       "</tbody>\n",
       "</table>\n"
      ],
      "text/latex": [
       "A data.frame: 1 × 3\n",
       "\\begin{tabular}{r|lll}\n",
       "  & DATE & HOUR & RENTED\\_BIKE\\_COUNT\\\\\n",
       "  & <date> & <int> & <int>\\\\\n",
       "\\hline\n",
       "\t1 & 2018-06-19 & 18 & 3556\\\\\n",
       "\\end{tabular}\n"
      ],
      "text/markdown": [
       "\n",
       "A data.frame: 1 × 3\n",
       "\n",
       "| <!--/--> | DATE &lt;date&gt; | HOUR &lt;int&gt; | RENTED_BIKE_COUNT &lt;int&gt; |\n",
       "|---|---|---|---|\n",
       "| 1 | 2018-06-19 | 18 | 3556 |\n",
       "\n"
      ],
      "text/plain": [
       "  DATE       HOUR RENTED_BIKE_COUNT\n",
       "1 2018-06-19 18   3556             "
      ]
     },
     "metadata": {},
     "output_type": "display_data"
    }
   ],
   "source": [
    "# provide your solution here\n",
    "query <- \"SELECT DATE, HOUR, RENTED_BIKE_COUNT FROM SEOUL_BIKE_SHARING ORDER BY RENTED_BIKE_COUNT DESC LIMIT 1\"\n",
    "view <- sqlQuery(conn,query)\n",
    "view"
   ]
  },
  {
   "cell_type": "markdown",
   "metadata": {},
   "source": [
    "## Task 7 - Hourly popularity and temperature by season\n",
    "\n",
    "#### Determine the average hourly temperature and the average number of bike rentals per hour over each season. List the top ten results by average bike count.\n"
   ]
  },
  {
   "cell_type": "markdown",
   "metadata": {},
   "source": [
    "### Solution 7\n"
   ]
  },
  {
   "cell_type": "code",
   "execution_count": 8,
   "metadata": {},
   "outputs": [
    {
     "data": {
      "text/html": [
       "<table>\n",
       "<caption>A data.frame: 10 × 4</caption>\n",
       "<thead>\n",
       "\t<tr><th></th><th scope=col>HOUR</th><th scope=col>AVG_TEMP</th><th scope=col>AVG_BIKES</th><th scope=col>SEASONS</th></tr>\n",
       "\t<tr><th></th><th scope=col>&lt;int&gt;</th><th scope=col>&lt;dbl&gt;</th><th scope=col>&lt;dbl&gt;</th><th scope=col>&lt;fct&gt;</th></tr>\n",
       "</thead>\n",
       "<tbody>\n",
       "\t<tr><th scope=row>1</th><td>18</td><td>29.38791</td><td>2135.141</td><td>Summer</td></tr>\n",
       "\t<tr><th scope=row>2</th><td>18</td><td>16.03185</td><td>1983.333</td><td>Autumn</td></tr>\n",
       "\t<tr><th scope=row>3</th><td>19</td><td>28.27378</td><td>1889.250</td><td>Summer</td></tr>\n",
       "\t<tr><th scope=row>4</th><td>20</td><td>27.06630</td><td>1801.924</td><td>Summer</td></tr>\n",
       "\t<tr><th scope=row>5</th><td>21</td><td>26.27826</td><td>1754.065</td><td>Summer</td></tr>\n",
       "\t<tr><th scope=row>6</th><td>18</td><td>15.97222</td><td>1689.311</td><td>Spring</td></tr>\n",
       "\t<tr><th scope=row>7</th><td>22</td><td>25.69891</td><td>1567.870</td><td>Summer</td></tr>\n",
       "\t<tr><th scope=row>8</th><td>17</td><td>17.27778</td><td>1562.877</td><td>Autumn</td></tr>\n",
       "\t<tr><th scope=row>9</th><td>17</td><td>30.07691</td><td>1526.293</td><td>Summer</td></tr>\n",
       "\t<tr><th scope=row>10</th><td>19</td><td>15.06346</td><td>1515.568</td><td>Autumn</td></tr>\n",
       "</tbody>\n",
       "</table>\n"
      ],
      "text/latex": [
       "A data.frame: 10 × 4\n",
       "\\begin{tabular}{r|llll}\n",
       "  & HOUR & AVG\\_TEMP & AVG\\_BIKES & SEASONS\\\\\n",
       "  & <int> & <dbl> & <dbl> & <fct>\\\\\n",
       "\\hline\n",
       "\t1 & 18 & 29.38791 & 2135.141 & Summer\\\\\n",
       "\t2 & 18 & 16.03185 & 1983.333 & Autumn\\\\\n",
       "\t3 & 19 & 28.27378 & 1889.250 & Summer\\\\\n",
       "\t4 & 20 & 27.06630 & 1801.924 & Summer\\\\\n",
       "\t5 & 21 & 26.27826 & 1754.065 & Summer\\\\\n",
       "\t6 & 18 & 15.97222 & 1689.311 & Spring\\\\\n",
       "\t7 & 22 & 25.69891 & 1567.870 & Summer\\\\\n",
       "\t8 & 17 & 17.27778 & 1562.877 & Autumn\\\\\n",
       "\t9 & 17 & 30.07691 & 1526.293 & Summer\\\\\n",
       "\t10 & 19 & 15.06346 & 1515.568 & Autumn\\\\\n",
       "\\end{tabular}\n"
      ],
      "text/markdown": [
       "\n",
       "A data.frame: 10 × 4\n",
       "\n",
       "| <!--/--> | HOUR &lt;int&gt; | AVG_TEMP &lt;dbl&gt; | AVG_BIKES &lt;dbl&gt; | SEASONS &lt;fct&gt; |\n",
       "|---|---|---|---|---|\n",
       "| 1 | 18 | 29.38791 | 2135.141 | Summer |\n",
       "| 2 | 18 | 16.03185 | 1983.333 | Autumn |\n",
       "| 3 | 19 | 28.27378 | 1889.250 | Summer |\n",
       "| 4 | 20 | 27.06630 | 1801.924 | Summer |\n",
       "| 5 | 21 | 26.27826 | 1754.065 | Summer |\n",
       "| 6 | 18 | 15.97222 | 1689.311 | Spring |\n",
       "| 7 | 22 | 25.69891 | 1567.870 | Summer |\n",
       "| 8 | 17 | 17.27778 | 1562.877 | Autumn |\n",
       "| 9 | 17 | 30.07691 | 1526.293 | Summer |\n",
       "| 10 | 19 | 15.06346 | 1515.568 | Autumn |\n",
       "\n"
      ],
      "text/plain": [
       "   HOUR AVG_TEMP AVG_BIKES SEASONS\n",
       "1  18   29.38791 2135.141  Summer \n",
       "2  18   16.03185 1983.333  Autumn \n",
       "3  19   28.27378 1889.250  Summer \n",
       "4  20   27.06630 1801.924  Summer \n",
       "5  21   26.27826 1754.065  Summer \n",
       "6  18   15.97222 1689.311  Spring \n",
       "7  22   25.69891 1567.870  Summer \n",
       "8  17   17.27778 1562.877  Autumn \n",
       "9  17   30.07691 1526.293  Summer \n",
       "10 19   15.06346 1515.568  Autumn "
      ]
     },
     "metadata": {},
     "output_type": "display_data"
    }
   ],
   "source": [
    "# provide your solution here\n",
    "query <- \"SELECT HOUR, AVG(TEMPERATURE) AVG_TEMP, AVG(RENTED_BIKE_COUNT) AVG_BIKES, SEASONS \n",
    "            FROM SEOUL_BIKE_SHARING\n",
    "            GROUP BY HOUR, SEASONS\n",
    "            ORDER BY AVG_BIKES DESC LIMIT 10\"\n",
    "view <- sqlQuery(conn,query)\n",
    "view"
   ]
  },
  {
   "cell_type": "markdown",
   "metadata": {},
   "source": [
    "## Task 8 - Rental Seasonality\n",
    "\n",
    "#### Find the average hourly bike count during each season.\n",
    "\n",
    "Also include the minimum, maximum, and standard deviation of the hourly bike count for each season.\n"
   ]
  },
  {
   "cell_type": "markdown",
   "metadata": {},
   "source": [
    "### Solution 8\n"
   ]
  },
  {
   "cell_type": "code",
   "execution_count": 9,
   "metadata": {},
   "outputs": [
    {
     "data": {
      "text/html": [
       "<table>\n",
       "<caption>A data.frame: 4 × 5</caption>\n",
       "<thead>\n",
       "\t<tr><th></th><th scope=col>AVG</th><th scope=col>MIN</th><th scope=col>MAX</th><th scope=col>STDDEV</th><th scope=col>SEASONS</th></tr>\n",
       "\t<tr><th></th><th scope=col>&lt;dbl&gt;</th><th scope=col>&lt;int&gt;</th><th scope=col>&lt;int&gt;</th><th scope=col>&lt;dbl&gt;</th><th scope=col>&lt;fct&gt;</th></tr>\n",
       "</thead>\n",
       "<tbody>\n",
       "\t<tr><th scope=row>1</th><td> 924.1105</td><td>2</td><td>3298</td><td>617.3885</td><td>Autumn</td></tr>\n",
       "\t<tr><th scope=row>2</th><td> 746.2542</td><td>2</td><td>3251</td><td>618.5247</td><td>Spring</td></tr>\n",
       "\t<tr><th scope=row>3</th><td>1034.0734</td><td>9</td><td>3556</td><td>690.0884</td><td>Summer</td></tr>\n",
       "\t<tr><th scope=row>4</th><td> 225.5412</td><td>3</td><td> 937</td><td>150.3374</td><td>Winter</td></tr>\n",
       "</tbody>\n",
       "</table>\n"
      ],
      "text/latex": [
       "A data.frame: 4 × 5\n",
       "\\begin{tabular}{r|lllll}\n",
       "  & AVG & MIN & MAX & STDDEV & SEASONS\\\\\n",
       "  & <dbl> & <int> & <int> & <dbl> & <fct>\\\\\n",
       "\\hline\n",
       "\t1 &  924.1105 & 2 & 3298 & 617.3885 & Autumn\\\\\n",
       "\t2 &  746.2542 & 2 & 3251 & 618.5247 & Spring\\\\\n",
       "\t3 & 1034.0734 & 9 & 3556 & 690.0884 & Summer\\\\\n",
       "\t4 &  225.5412 & 3 &  937 & 150.3374 & Winter\\\\\n",
       "\\end{tabular}\n"
      ],
      "text/markdown": [
       "\n",
       "A data.frame: 4 × 5\n",
       "\n",
       "| <!--/--> | AVG &lt;dbl&gt; | MIN &lt;int&gt; | MAX &lt;int&gt; | STDDEV &lt;dbl&gt; | SEASONS &lt;fct&gt; |\n",
       "|---|---|---|---|---|---|\n",
       "| 1 |  924.1105 | 2 | 3298 | 617.3885 | Autumn |\n",
       "| 2 |  746.2542 | 2 | 3251 | 618.5247 | Spring |\n",
       "| 3 | 1034.0734 | 9 | 3556 | 690.0884 | Summer |\n",
       "| 4 |  225.5412 | 3 |  937 | 150.3374 | Winter |\n",
       "\n"
      ],
      "text/plain": [
       "  AVG       MIN MAX  STDDEV   SEASONS\n",
       "1  924.1105 2   3298 617.3885 Autumn \n",
       "2  746.2542 2   3251 618.5247 Spring \n",
       "3 1034.0734 9   3556 690.0884 Summer \n",
       "4  225.5412 3    937 150.3374 Winter "
      ]
     },
     "metadata": {},
     "output_type": "display_data"
    }
   ],
   "source": [
    "# provide your solution here\n",
    "query <- \"SELECT AVG(RENTED_BIKE_COUNT) AVG, MIN(RENTED_BIKE_COUNT) MIN, MAX(RENTED_BIKE_COUNT) MAX, STDDEV(RENTED_BIKE_COUNT) STDDEV, SEASONS \n",
    "            FROM SEOUL_BIKE_SHARING\n",
    "            GROUP BY SEASONS\"\n",
    "view <- sqlQuery(conn,query)\n",
    "view"
   ]
  },
  {
   "cell_type": "markdown",
   "metadata": {},
   "source": [
    "Let's explore a bit and see what might be the most significant contributing factors in terms of the provided data.\n"
   ]
  },
  {
   "cell_type": "markdown",
   "metadata": {},
   "source": [
    "## Task 9 - Weather Seasonality\n",
    "\n",
    "#### Consider the weather over each season. On average, what were the TEMPERATURE, HUMIDITY, WIND_SPEED, VISIBILITY, DEW_POINT_TEMPERATURE, SOLAR_RADIATION, RAINFALL, and SNOWFALL per season?\n",
    "\n",
    "Include the average bike count as well , and rank the results by average bike count so you can see if it is correlated with the weather at all.\n"
   ]
  },
  {
   "cell_type": "markdown",
   "metadata": {},
   "source": [
    "### Solution 9\n"
   ]
  },
  {
   "cell_type": "code",
   "execution_count": 10,
   "metadata": {},
   "outputs": [
    {
     "data": {
      "text/html": [
       "<table>\n",
       "<caption>A data.frame: 4 × 10</caption>\n",
       "<thead>\n",
       "\t<tr><th></th><th scope=col>SEASONS</th><th scope=col>RENTED_BIKE_COUNT</th><th scope=col>TEMPERATURE</th><th scope=col>HUMIDITY</th><th scope=col>WIND_SPEED</th><th scope=col>VISIBILITY</th><th scope=col>DEW_POINT_TEMPERATURE</th><th scope=col>SOLAR_RADIATION</th><th scope=col>RAINFALL</th><th scope=col>SNOWFALL</th></tr>\n",
       "\t<tr><th></th><th scope=col>&lt;fct&gt;</th><th scope=col>&lt;dbl&gt;</th><th scope=col>&lt;dbl&gt;</th><th scope=col>&lt;dbl&gt;</th><th scope=col>&lt;dbl&gt;</th><th scope=col>&lt;dbl&gt;</th><th scope=col>&lt;dbl&gt;</th><th scope=col>&lt;dbl&gt;</th><th scope=col>&lt;dbl&gt;</th><th scope=col>&lt;dbl&gt;</th></tr>\n",
       "</thead>\n",
       "<tbody>\n",
       "\t<tr><th scope=row>1</th><td>Summer</td><td>1034.0734</td><td>26.587711</td><td>64.98143</td><td>1.609420</td><td>1501.745</td><td> 18.750136</td><td>0.7612545</td><td>0.25348732</td><td>0.00000000</td></tr>\n",
       "\t<tr><th scope=row>2</th><td>Autumn</td><td> 924.1105</td><td>13.821580</td><td>59.04491</td><td>1.492101</td><td>1558.174</td><td>  5.150594</td><td>0.5227827</td><td>0.11765617</td><td>0.06350026</td></tr>\n",
       "\t<tr><th scope=row>3</th><td>Spring</td><td> 746.2542</td><td>13.021685</td><td>58.75833</td><td>1.857778</td><td>1240.912</td><td>  4.091389</td><td>0.6803009</td><td>0.18694444</td><td>0.00000000</td></tr>\n",
       "\t<tr><th scope=row>4</th><td>Winter</td><td> 225.5412</td><td>-2.540463</td><td>49.74491</td><td>1.922685</td><td>1445.987</td><td>-12.416667</td><td>0.2981806</td><td>0.03282407</td><td>0.24750000</td></tr>\n",
       "</tbody>\n",
       "</table>\n"
      ],
      "text/latex": [
       "A data.frame: 4 × 10\n",
       "\\begin{tabular}{r|llllllllll}\n",
       "  & SEASONS & RENTED\\_BIKE\\_COUNT & TEMPERATURE & HUMIDITY & WIND\\_SPEED & VISIBILITY & DEW\\_POINT\\_TEMPERATURE & SOLAR\\_RADIATION & RAINFALL & SNOWFALL\\\\\n",
       "  & <fct> & <dbl> & <dbl> & <dbl> & <dbl> & <dbl> & <dbl> & <dbl> & <dbl> & <dbl>\\\\\n",
       "\\hline\n",
       "\t1 & Summer & 1034.0734 & 26.587711 & 64.98143 & 1.609420 & 1501.745 &  18.750136 & 0.7612545 & 0.25348732 & 0.00000000\\\\\n",
       "\t2 & Autumn &  924.1105 & 13.821580 & 59.04491 & 1.492101 & 1558.174 &   5.150594 & 0.5227827 & 0.11765617 & 0.06350026\\\\\n",
       "\t3 & Spring &  746.2542 & 13.021685 & 58.75833 & 1.857778 & 1240.912 &   4.091389 & 0.6803009 & 0.18694444 & 0.00000000\\\\\n",
       "\t4 & Winter &  225.5412 & -2.540463 & 49.74491 & 1.922685 & 1445.987 & -12.416667 & 0.2981806 & 0.03282407 & 0.24750000\\\\\n",
       "\\end{tabular}\n"
      ],
      "text/markdown": [
       "\n",
       "A data.frame: 4 × 10\n",
       "\n",
       "| <!--/--> | SEASONS &lt;fct&gt; | RENTED_BIKE_COUNT &lt;dbl&gt; | TEMPERATURE &lt;dbl&gt; | HUMIDITY &lt;dbl&gt; | WIND_SPEED &lt;dbl&gt; | VISIBILITY &lt;dbl&gt; | DEW_POINT_TEMPERATURE &lt;dbl&gt; | SOLAR_RADIATION &lt;dbl&gt; | RAINFALL &lt;dbl&gt; | SNOWFALL &lt;dbl&gt; |\n",
       "|---|---|---|---|---|---|---|---|---|---|---|\n",
       "| 1 | Summer | 1034.0734 | 26.587711 | 64.98143 | 1.609420 | 1501.745 |  18.750136 | 0.7612545 | 0.25348732 | 0.00000000 |\n",
       "| 2 | Autumn |  924.1105 | 13.821580 | 59.04491 | 1.492101 | 1558.174 |   5.150594 | 0.5227827 | 0.11765617 | 0.06350026 |\n",
       "| 3 | Spring |  746.2542 | 13.021685 | 58.75833 | 1.857778 | 1240.912 |   4.091389 | 0.6803009 | 0.18694444 | 0.00000000 |\n",
       "| 4 | Winter |  225.5412 | -2.540463 | 49.74491 | 1.922685 | 1445.987 | -12.416667 | 0.2981806 | 0.03282407 | 0.24750000 |\n",
       "\n"
      ],
      "text/plain": [
       "  SEASONS RENTED_BIKE_COUNT TEMPERATURE HUMIDITY WIND_SPEED VISIBILITY\n",
       "1 Summer  1034.0734         26.587711   64.98143 1.609420   1501.745  \n",
       "2 Autumn   924.1105         13.821580   59.04491 1.492101   1558.174  \n",
       "3 Spring   746.2542         13.021685   58.75833 1.857778   1240.912  \n",
       "4 Winter   225.5412         -2.540463   49.74491 1.922685   1445.987  \n",
       "  DEW_POINT_TEMPERATURE SOLAR_RADIATION RAINFALL   SNOWFALL  \n",
       "1  18.750136            0.7612545       0.25348732 0.00000000\n",
       "2   5.150594            0.5227827       0.11765617 0.06350026\n",
       "3   4.091389            0.6803009       0.18694444 0.00000000\n",
       "4 -12.416667            0.2981806       0.03282407 0.24750000"
      ]
     },
     "metadata": {},
     "output_type": "display_data"
    }
   ],
   "source": [
    "# provide your solution here\n",
    "query <- \"SELECT SEASONS, AVG(RENTED_BIKE_COUNT) RENTED_BIKE_COUNT, AVG(TEMPERATURE) TEMPERATURE, AVG(HUMIDITY) HUMIDITY, AVG(WIND_SPEED) WIND_SPEED, AVG(VISIBILITY) VISIBILITY, AVG(DEW_POINT_TEMPERATURE) DEW_POINT_TEMPERATURE, AVG(SOLAR_RADIATION) SOLAR_RADIATION, AVG(RAINFALL) RAINFALL, AVG(SNOWFALL) SNOWFALL\n",
    "            FROM SEOUL_BIKE_SHARING\n",
    "            GROUP BY SEASONS\n",
    "            ORDER BY RENTED_BIKE_COUNT DESC\"\n",
    "view <- sqlQuery(conn,query)\n",
    "view"
   ]
  },
  {
   "cell_type": "markdown",
   "metadata": {},
   "source": [
    "## Task 10 - Total Bike Count and City Info for Seoul\n",
    "\n",
    "#### Use an implicit join across the WORLD_CITIES and the BIKE_SHARING_SYSTEMS tables to determine the total number of bikes avaialble in Seoul, plus the following city information about Seoul: CITY, COUNTRY, LAT, LON, POPULATION, in a single view.\n",
    "\n",
    "Notice that in this case, the CITY column will work for the WORLD_CITIES table, but in general you would have to use the CITY_ASCII column.\n"
   ]
  },
  {
   "cell_type": "markdown",
   "metadata": {},
   "source": [
    "### Solution 10\n"
   ]
  },
  {
   "cell_type": "code",
   "execution_count": 11,
   "metadata": {},
   "outputs": [
    {
     "data": {
      "text/html": [
       "<table>\n",
       "<caption>A data.frame: 1 × 6</caption>\n",
       "<thead>\n",
       "\t<tr><th></th><th scope=col>CITY</th><th scope=col>COUNTRY</th><th scope=col>LAT</th><th scope=col>LNG</th><th scope=col>POPULATION</th><th scope=col>BICYCLES</th></tr>\n",
       "\t<tr><th></th><th scope=col>&lt;fct&gt;</th><th scope=col>&lt;fct&gt;</th><th scope=col>&lt;dbl&gt;</th><th scope=col>&lt;dbl&gt;</th><th scope=col>&lt;dbl&gt;</th><th scope=col>&lt;int&gt;</th></tr>\n",
       "</thead>\n",
       "<tbody>\n",
       "\t<tr><th scope=row>1</th><td>Seoul</td><td>South Korea</td><td>37.5833</td><td>127</td><td>21794000</td><td>20000</td></tr>\n",
       "</tbody>\n",
       "</table>\n"
      ],
      "text/latex": [
       "A data.frame: 1 × 6\n",
       "\\begin{tabular}{r|llllll}\n",
       "  & CITY & COUNTRY & LAT & LNG & POPULATION & BICYCLES\\\\\n",
       "  & <fct> & <fct> & <dbl> & <dbl> & <dbl> & <int>\\\\\n",
       "\\hline\n",
       "\t1 & Seoul & South Korea & 37.5833 & 127 & 21794000 & 20000\\\\\n",
       "\\end{tabular}\n"
      ],
      "text/markdown": [
       "\n",
       "A data.frame: 1 × 6\n",
       "\n",
       "| <!--/--> | CITY &lt;fct&gt; | COUNTRY &lt;fct&gt; | LAT &lt;dbl&gt; | LNG &lt;dbl&gt; | POPULATION &lt;dbl&gt; | BICYCLES &lt;int&gt; |\n",
       "|---|---|---|---|---|---|---|\n",
       "| 1 | Seoul | South Korea | 37.5833 | 127 | 21794000 | 20000 |\n",
       "\n"
      ],
      "text/plain": [
       "  CITY  COUNTRY     LAT     LNG POPULATION BICYCLES\n",
       "1 Seoul South Korea 37.5833 127 21794000   20000   "
      ]
     },
     "metadata": {},
     "output_type": "display_data"
    }
   ],
   "source": [
    "# provide your solution here\n",
    "query <- \"SELECT CITY_ASCII CITY, BIKE_SHARING_SYSTEMS.COUNTRY, LAT, LNG, POPULATION, BICYCLES\n",
    "            FROM WORLD_CITIES, BIKE_SHARING_SYSTEMS\n",
    "            WHERE WORLD_CITIES.CITY_ASCII = BIKE_SHARING_SYSTEMS.CITY\n",
    "            AND CITY_ASCII = 'Seoul'\"\n",
    "view <- sqlQuery(conn,query)\n",
    "view"
   ]
  },
  {
   "cell_type": "markdown",
   "metadata": {},
   "source": [
    "## Task 11 - Find all city names and coordinates with comparable bike scale to Seoul's bike sharing system\n",
    "\n",
    "#### Find all cities with total bike counts between 15000 and 20000. Return the city and country names, plus the coordinates (LAT, LNG), population, and number of bicycles for each city.\n",
    "\n",
    "Later we will ask you to visualize these similar cities on leaflet, with some weather data.\n"
   ]
  },
  {
   "cell_type": "markdown",
   "metadata": {},
   "source": [
    "### Solution 11\n"
   ]
  },
  {
   "cell_type": "code",
   "execution_count": 12,
   "metadata": {},
   "outputs": [
    {
     "data": {
      "text/html": [
       "<table>\n",
       "<caption>A data.frame: 7 × 6</caption>\n",
       "<thead>\n",
       "\t<tr><th></th><th scope=col>CITY</th><th scope=col>COUNTRY</th><th scope=col>LAT</th><th scope=col>LNG</th><th scope=col>POPULATION</th><th scope=col>BICYCLES</th></tr>\n",
       "\t<tr><th></th><th scope=col>&lt;fct&gt;</th><th scope=col>&lt;fct&gt;</th><th scope=col>&lt;dbl&gt;</th><th scope=col>&lt;dbl&gt;</th><th scope=col>&lt;dbl&gt;</th><th scope=col>&lt;int&gt;</th></tr>\n",
       "</thead>\n",
       "<tbody>\n",
       "\t<tr><th scope=row>1</th><td>Shanghai</td><td>China      </td><td>31.1667</td><td>121.4667</td><td>22120000</td><td>19165</td></tr>\n",
       "\t<tr><th scope=row>2</th><td>Seoul   </td><td>South Korea</td><td>37.5833</td><td>127.0000</td><td>21794000</td><td>20000</td></tr>\n",
       "\t<tr><th scope=row>3</th><td>Beijing </td><td>China      </td><td>39.9050</td><td>116.3914</td><td>19433000</td><td>16000</td></tr>\n",
       "\t<tr><th scope=row>4</th><td>Weifang </td><td>China      </td><td>36.7167</td><td>119.1000</td><td> 9373000</td><td>20000</td></tr>\n",
       "\t<tr><th scope=row>5</th><td>Ningbo  </td><td>China      </td><td>29.8750</td><td>121.5492</td><td> 7639000</td><td>15000</td></tr>\n",
       "\t<tr><th scope=row>6</th><td>Xi'an   </td><td>China      </td><td>34.2667</td><td>108.9000</td><td> 7135000</td><td>20000</td></tr>\n",
       "\t<tr><th scope=row>7</th><td>Zhuzhou </td><td>China      </td><td>27.8407</td><td>113.1469</td><td> 3855609</td><td>20000</td></tr>\n",
       "</tbody>\n",
       "</table>\n"
      ],
      "text/latex": [
       "A data.frame: 7 × 6\n",
       "\\begin{tabular}{r|llllll}\n",
       "  & CITY & COUNTRY & LAT & LNG & POPULATION & BICYCLES\\\\\n",
       "  & <fct> & <fct> & <dbl> & <dbl> & <dbl> & <int>\\\\\n",
       "\\hline\n",
       "\t1 & Shanghai & China       & 31.1667 & 121.4667 & 22120000 & 19165\\\\\n",
       "\t2 & Seoul    & South Korea & 37.5833 & 127.0000 & 21794000 & 20000\\\\\n",
       "\t3 & Beijing  & China       & 39.9050 & 116.3914 & 19433000 & 16000\\\\\n",
       "\t4 & Weifang  & China       & 36.7167 & 119.1000 &  9373000 & 20000\\\\\n",
       "\t5 & Ningbo   & China       & 29.8750 & 121.5492 &  7639000 & 15000\\\\\n",
       "\t6 & Xi'an    & China       & 34.2667 & 108.9000 &  7135000 & 20000\\\\\n",
       "\t7 & Zhuzhou  & China       & 27.8407 & 113.1469 &  3855609 & 20000\\\\\n",
       "\\end{tabular}\n"
      ],
      "text/markdown": [
       "\n",
       "A data.frame: 7 × 6\n",
       "\n",
       "| <!--/--> | CITY &lt;fct&gt; | COUNTRY &lt;fct&gt; | LAT &lt;dbl&gt; | LNG &lt;dbl&gt; | POPULATION &lt;dbl&gt; | BICYCLES &lt;int&gt; |\n",
       "|---|---|---|---|---|---|---|\n",
       "| 1 | Shanghai | China       | 31.1667 | 121.4667 | 22120000 | 19165 |\n",
       "| 2 | Seoul    | South Korea | 37.5833 | 127.0000 | 21794000 | 20000 |\n",
       "| 3 | Beijing  | China       | 39.9050 | 116.3914 | 19433000 | 16000 |\n",
       "| 4 | Weifang  | China       | 36.7167 | 119.1000 |  9373000 | 20000 |\n",
       "| 5 | Ningbo   | China       | 29.8750 | 121.5492 |  7639000 | 15000 |\n",
       "| 6 | Xi'an    | China       | 34.2667 | 108.9000 |  7135000 | 20000 |\n",
       "| 7 | Zhuzhou  | China       | 27.8407 | 113.1469 |  3855609 | 20000 |\n",
       "\n"
      ],
      "text/plain": [
       "  CITY     COUNTRY     LAT     LNG      POPULATION BICYCLES\n",
       "1 Shanghai China       31.1667 121.4667 22120000   19165   \n",
       "2 Seoul    South Korea 37.5833 127.0000 21794000   20000   \n",
       "3 Beijing  China       39.9050 116.3914 19433000   16000   \n",
       "4 Weifang  China       36.7167 119.1000  9373000   20000   \n",
       "5 Ningbo   China       29.8750 121.5492  7639000   15000   \n",
       "6 Xi'an    China       34.2667 108.9000  7135000   20000   \n",
       "7 Zhuzhou  China       27.8407 113.1469  3855609   20000   "
      ]
     },
     "metadata": {},
     "output_type": "display_data"
    }
   ],
   "source": [
    "# provide your solution here\n",
    "query <- \"SELECT BIKE_SHARING_SYSTEMS.CITY, BIKE_SHARING_SYSTEMS.COUNTRY, LAT, LNG, POPULATION, BICYCLES\n",
    "            FROM WORLD_CITIES, BIKE_SHARING_SYSTEMS\n",
    "            WHERE WORLD_CITIES.CITY_ASCII = BIKE_SHARING_SYSTEMS.CITY\n",
    "            AND BICYCLES BETWEEN 15000 AND 20000\"\n",
    "view <- sqlQuery(conn,query)\n",
    "view"
   ]
  },
  {
   "cell_type": "code",
   "execution_count": 13,
   "metadata": {},
   "outputs": [],
   "source": [
    "close(conn)"
   ]
  },
  {
   "cell_type": "markdown",
   "metadata": {},
   "source": [
    "## Author(s)\n",
    "\n",
    "<h4> Jeff Grossman </h4>\n",
    "\n",
    "## Contributor(s)\n",
    "\n",
    "<h4> Yan Luo, Rav Ahuja </h4>\n",
    "\n",
    "## Change log\n",
    "\n",
    "| Date       | Version | Changed by    | Change Description                                                                |\n",
    "| ---------- | ------- | ------------- | --------------------------------------------------------------------------------- |\n",
    "| 2021-05-04 | 0.2     | Jeff Grossman | Finalize                               |\n",
    "| 2021-04-22 | 0.2     | Jeff Grossman | Update as per peer review                               |\n",
    "| 2021-04-10 | 0.2     | Jeff Grossman | Add data sources and implicit joins                                  |\n",
    "| 2021-04-05 | 0.1     | Jeff Grossman | Start content creation                                                          |\n",
    "\n",
    "## <h3 align=\"center\"> © IBM Corporation 2021. All rights reserved. <h3/>\n"
   ]
  }
 ],
 "metadata": {
  "kernelspec": {
   "display_name": "R",
   "language": "R",
   "name": "ir"
  },
  "language_info": {
   "codemirror_mode": "r",
   "file_extension": ".r",
   "mimetype": "text/x-r-source",
   "name": "R",
   "pygments_lexer": "r",
   "version": "3.6.1"
  },
  "widgets": {
   "state": {},
   "version": "1.1.2"
  }
 },
 "nbformat": 4,
 "nbformat_minor": 4
}
