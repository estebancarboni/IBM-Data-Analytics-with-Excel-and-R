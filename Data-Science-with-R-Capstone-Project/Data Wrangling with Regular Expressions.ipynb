{
 "cells": [
  {
   "cell_type": "markdown",
   "metadata": {},
   "source": [
    "<a href=\"https://cognitiveclass.ai/?utm_medium=Exinfluencer&utm_source=Exinfluencer&utm_content=000026UJ&utm_term=10006555&utm_id=NA-SkillsNetwork-Channel-SkillsNetworkCoursesIBMDeveloperSkillsNetworkRP0321ENSkillsNetwork25371262-2021-01-01\">\n",
    "    <img src=\"https://cf-courses-data.s3.us.cloud-object-storage.appdomain.cloud/IBMDeveloperSkillsNetwork-RP0101EN-Coursera/v2/M1_R_Basics/images/IDSNlogo.png\" width=\"200\" align=\"center\">\n",
    "</a>\n"
   ]
  },
  {
   "cell_type": "markdown",
   "metadata": {},
   "source": [
    "<h1>Data Wrangling with Regular Expressions</h1>\n",
    "\n",
    "Estimated time needed: **40** minutes\n"
   ]
  },
  {
   "cell_type": "markdown",
   "metadata": {},
   "source": [
    "## Lab Overview:\n",
    "\n",
    "In the previous data collection labs, you collected some raw datasets from several different sources. In this lab, you need to perform data wrangling tasks in order to improve data quality.\n"
   ]
  },
  {
   "cell_type": "markdown",
   "metadata": {},
   "source": [
    "You will again use regular expressions, along with the `stringr` package (part of `tidyverse`), to clean up the bike-sharing systems data that you previously web scraped from the wiki page:\n",
    "\n",
    "https://en.wikipedia.org/wiki/List_of_bicycle-sharing_systems\n",
    "\n",
    "<a href=\"https://cognitiveclass.ai/?utm_medium=Exinfluencer&utm_source=Exinfluencer&utm_content=000026UJ&utm_term=10006555&utm_id=NA-SkillsNetwork-Channel-SkillsNetworkCoursesIBMDeveloperSkillsNetworkRP0321ENSkillsNetwork25371262-2021-01-01\">\n",
    "    <img src=\"https://cf-courses-data.s3.us.cloud-object-storage.appdomain.cloud/IBMDeveloperSkillsNetwork-RP0321EN-SkillsNetwork/labs/module_1/images/l2-list-bike-sharing-systems.png\" width=\"800\" align=\"center\">\n",
    "</a>\n"
   ]
  },
  {
   "cell_type": "markdown",
   "metadata": {},
   "source": [
    "One typical challenge of web scraping is that data extracted from HTML pages may contain unnecessary or inconsistently fomatted information.\\\n",
    "For example:\n",
    "\n",
    "*   Textual annotations in numeric fields: `1000 (Updated with 1050)`\n",
    "*   Attached reference links: `Bike sharing system [123]`\n",
    "*   Inconsistent data formats: `Yes` and `Y` for the logical value `TRUE` or `2021-04-09` and `Apr 09, 2021` for the same date\n",
    "*   HTML style tags: `<span style=\"color:blue\">Bike sharing system</span>`\n",
    "*   Special characters: `&nbsp` for a white space\n",
    "\n",
    "Many more such examples of noise may be encountered in real-world scraped data and most of such text related noises could be handled by regular expressions.\n"
   ]
  },
  {
   "cell_type": "markdown",
   "metadata": {},
   "source": [
    "To summarize, you will be using `stringr` (part of `tidyverse`) and regular expressions to perform the following data wrangling tasks:\n",
    "\n",
    "*   TASK: Standardize column names for all collected datasets\n",
    "*   TASK: Remove undesired reference links from the scraped bike-sharing systems dataset\n",
    "*   TASK: Extract only the numeric value from undesired text annotations\n"
   ]
  },
  {
   "cell_type": "markdown",
   "metadata": {},
   "source": [
    "Let's begin by importing the libraries you will use for these data wrangling tasks.\n"
   ]
  },
  {
   "cell_type": "code",
   "execution_count": 1,
   "metadata": {},
   "outputs": [
    {
     "name": "stderr",
     "output_type": "stream",
     "text": [
      "Loading required package: tidyverse\n",
      "Registered S3 method overwritten by 'rvest':\n",
      "  method            from\n",
      "  read_xml.response xml2\n",
      "-- Attaching packages --------------------------------------- tidyverse 1.2.1 --\n",
      "v ggplot2 3.3.5     v purrr   0.3.4\n",
      "v tibble  3.1.1     v dplyr   1.0.6\n",
      "v tidyr   1.1.3     v stringr 1.4.0\n",
      "v readr   1.3.1     v forcats 0.4.0\n",
      "Warning message:\n",
      "\"package 'tibble' was built under R version 3.6.3\"Warning message:\n",
      "\"package 'tidyr' was built under R version 3.6.3\"Warning message:\n",
      "\"package 'purrr' was built under R version 3.6.3\"Warning message:\n",
      "\"package 'dplyr' was built under R version 3.6.3\"-- Conflicts ------------------------------------------ tidyverse_conflicts() --\n",
      "x dplyr::filter() masks stats::filter()\n",
      "x dplyr::lag()    masks stats::lag()\n"
     ]
    }
   ],
   "source": [
    "# Check whether you need to install the `tidyverse` library\n",
    "require(\"tidyverse\")\n",
    "library(tidyverse)"
   ]
  },
  {
   "cell_type": "markdown",
   "metadata": {},
   "source": [
    "## TASK: Standardize column names for all collected datasets\n"
   ]
  },
  {
   "cell_type": "markdown",
   "metadata": {},
   "source": [
    "In the previous data collection labs, you collected four datasets in csv format:\n",
    "\n",
    "*   `raw_bike_sharing_systems.csv`:  A list of active bike-sharing systems across the world\n",
    "*   `raw_cities_weather_forecast.csv`: 5-day weather forecasts for a list of cities, from OpenWeather API\n",
    "*   `raw_worldcities.csv`: A list of major cities' info (such as name, latitude and longitude) across the world\n",
    "*   `raw_seoul_bike_sharing.csv`: Weather information (Temperature, Humidity, Windspeed, Visibility, Dewpoint, Solar radiation, Snowfall, Rainfall), the number of bikes rented per hour, and date information, from Seoul bike-sharing systems\n"
   ]
  },
  {
   "cell_type": "markdown",
   "metadata": {},
   "source": [
    "*Optional:* If you had some difficulties finishing the data collection labs, you may download the datasets directly from the following URLs:\n"
   ]
  },
  {
   "cell_type": "code",
   "execution_count": 2,
   "metadata": {},
   "outputs": [],
   "source": [
    "# Download raw_bike_sharing_systems.csv\n",
    "url <- \"https://cf-courses-data.s3.us.cloud-object-storage.appdomain.cloud/IBMDeveloperSkillsNetwork-RP0321EN-SkillsNetwork/labs/datasets/raw_bike_sharing_systems.csv\"\n",
    "download.file(url, destfile = \"raw_bike_sharing_systems.csv\")\n",
    "\n",
    "# Download raw_cities_weather_forecast.csv\n",
    "url <- \"https://cf-courses-data.s3.us.cloud-object-storage.appdomain.cloud/IBMDeveloperSkillsNetwork-RP0321EN-SkillsNetwork/labs/datasets/raw_cities_weather_forecast.csv\"\n",
    "download.file(url, destfile = \"raw_cities_weather_forecast.csv\")\n",
    "\n",
    "# Download raw_worldcities.csv\n",
    "url <- \"https://cf-courses-data.s3.us.cloud-object-storage.appdomain.cloud/IBMDeveloperSkillsNetwork-RP0321EN-SkillsNetwork/labs/datasets/raw_worldcities.csv\"\n",
    "download.file(url, destfile = \"raw_worldcities.csv\")\n",
    "\n",
    "# Download raw_seoul_bike_sharing.csv\n",
    "url <- \"https://cf-courses-data.s3.us.cloud-object-storage.appdomain.cloud/IBMDeveloperSkillsNetwork-RP0321EN-SkillsNetwork/labs/datasets/raw_seoul_bike_sharing.csv\"\n",
    "download.file(url, destfile = \"raw_seoul_bike_sharing.csv\")"
   ]
  },
  {
   "cell_type": "markdown",
   "metadata": {},
   "source": [
    "To improve dataset readbility by both human and computer systems, we first need to standardize the column names of the datasets above using the following naming convention:\n",
    "\n",
    "*   Column names need to be UPPERCASE\n",
    "*   The word separator needs to be an underscore, such as in `COLUMN_NAME`\n"
   ]
  },
  {
   "cell_type": "markdown",
   "metadata": {},
   "source": [
    "You can use the following dataset list and the `names()` function to get and set each of their column names, and convert them according to our defined naming convention.\n"
   ]
  },
  {
   "cell_type": "code",
   "execution_count": 3,
   "metadata": {},
   "outputs": [],
   "source": [
    "dataset_list <- c('raw_bike_sharing_systems.csv', 'raw_seoul_bike_sharing.csv', 'raw_cities_weather_forecast.csv', 'raw_worldcities.csv')"
   ]
  },
  {
   "cell_type": "markdown",
   "metadata": {},
   "source": [
    "*TODO*: Write a `for` loop to iterate over the above datasets and convert their column names\n"
   ]
  },
  {
   "cell_type": "code",
   "execution_count": 4,
   "metadata": {},
   "outputs": [
    {
     "name": "stderr",
     "output_type": "stream",
     "text": [
      "Parsed with column specification:\n",
      "cols(\n",
      "  COUNTRY = col_character(),\n",
      "  City = col_character(),\n",
      "  Name = col_character(),\n",
      "  SYSTEM = col_character(),\n",
      "  OPERATOR = col_character(),\n",
      "  LAUNCHED = col_character(),\n",
      "  DISCONTINUED = col_character(),\n",
      "  STATIONS = col_character(),\n",
      "  BICYCLES = col_character(),\n",
      "  DAILY_RIDERSHIP = col_character()\n",
      ")\n",
      "Parsed with column specification:\n",
      "cols(\n",
      "  Date = col_character(),\n",
      "  RENTED_BIKE_COUNT = col_double(),\n",
      "  Hour = col_double(),\n",
      "  TEMPERATURE = col_double(),\n",
      "  HUMIDITY = col_double(),\n",
      "  WIND_SPEED = col_double(),\n",
      "  Visibility = col_double(),\n",
      "  DEW_POINT_TEMPERATURE = col_double(),\n",
      "  SOLAR_RADIATION = col_double(),\n",
      "  RAINFALL = col_double(),\n",
      "  Snowfall = col_double(),\n",
      "  SEASONS = col_character(),\n",
      "  HOLIDAY = col_character(),\n",
      "  FUNCTIONING_DAY = col_character()\n",
      ")\n",
      "Parsed with column specification:\n",
      "cols(\n",
      "  city = col_character(),\n",
      "  weather = col_character(),\n",
      "  visibility = col_double(),\n",
      "  temp = col_double(),\n",
      "  temp_min = col_double(),\n",
      "  temp_max = col_double(),\n",
      "  pressure = col_double(),\n",
      "  humidity = col_double(),\n",
      "  wind_speed = col_double(),\n",
      "  wind_deg = col_double(),\n",
      "  season = col_character(),\n",
      "  forecast_datetime = col_datetime(format = \"\")\n",
      ")\n",
      "Parsed with column specification:\n",
      "cols(\n",
      "  City = col_character(),\n",
      "  CITY_ASCII = col_character(),\n",
      "  LAT = col_double(),\n",
      "  LNG = col_double(),\n",
      "  COUNTRY = col_character(),\n",
      "  ISO2 = col_character(),\n",
      "  ISO3 = col_character(),\n",
      "  ADMIN_NAME = col_character(),\n",
      "  CAPITAL = col_character(),\n",
      "  POPULATION = col_double(),\n",
      "  ID = col_double()\n",
      ")\n"
     ]
    }
   ],
   "source": [
    "for (dataset_name in dataset_list){\n",
    "    # Read dataset\n",
    "    dataset <- read_csv(dataset_name)\n",
    "    # Standardized its columns:\n",
    "    \n",
    "    # Convert all column names to uppercase\n",
    "    names(dataset) <- toupper(names(dataset))\n",
    "    # Replace any white space separators by underscores, using the str_replace_all function\n",
    "    names(dataset) <- str_replace_all(names(dataset), \" \", \"_\")\n",
    "    \n",
    "    # Save the dataset \n",
    "    write.csv(dataset, dataset_name, row.names=FALSE)\n",
    "}\n"
   ]
  },
  {
   "cell_type": "markdown",
   "metadata": {},
   "source": [
    "*TODO*: Read the resulting datasets back and check whether their column names follow the naming convention\n"
   ]
  },
  {
   "cell_type": "code",
   "execution_count": 5,
   "metadata": {},
   "outputs": [
    {
     "name": "stderr",
     "output_type": "stream",
     "text": [
      "Parsed with column specification:\n",
      "cols(\n",
      "  COUNTRY = col_character(),\n",
      "  CITY = col_character(),\n",
      "  NAME = col_character(),\n",
      "  SYSTEM = col_character(),\n",
      "  OPERATOR = col_character(),\n",
      "  LAUNCHED = col_character(),\n",
      "  DISCONTINUED = col_character(),\n",
      "  STATIONS = col_character(),\n",
      "  BICYCLES = col_character(),\n",
      "  DAILY_RIDERSHIP = col_character()\n",
      ")\n"
     ]
    },
    {
     "name": "stdout",
     "output_type": "stream",
     "text": [
      "   COUNTRY              CITY               NAME              SYSTEM         \n",
      " Length:480         Length:480         Length:480         Length:480        \n",
      " Class :character   Class :character   Class :character   Class :character  \n",
      " Mode  :character   Mode  :character   Mode  :character   Mode  :character  \n",
      "   OPERATOR           LAUNCHED         DISCONTINUED         STATIONS        \n",
      " Length:480         Length:480         Length:480         Length:480        \n",
      " Class :character   Class :character   Class :character   Class :character  \n",
      " Mode  :character   Mode  :character   Mode  :character   Mode  :character  \n",
      "   BICYCLES         DAILY_RIDERSHIP   \n",
      " Length:480         Length:480        \n",
      " Class :character   Class :character  \n",
      " Mode  :character   Mode  :character  \n"
     ]
    },
    {
     "name": "stderr",
     "output_type": "stream",
     "text": [
      "Parsed with column specification:\n",
      "cols(\n",
      "  DATE = col_character(),\n",
      "  RENTED_BIKE_COUNT = col_double(),\n",
      "  HOUR = col_double(),\n",
      "  TEMPERATURE = col_double(),\n",
      "  HUMIDITY = col_double(),\n",
      "  WIND_SPEED = col_double(),\n",
      "  VISIBILITY = col_double(),\n",
      "  DEW_POINT_TEMPERATURE = col_double(),\n",
      "  SOLAR_RADIATION = col_double(),\n",
      "  RAINFALL = col_double(),\n",
      "  SNOWFALL = col_double(),\n",
      "  SEASONS = col_character(),\n",
      "  HOLIDAY = col_character(),\n",
      "  FUNCTIONING_DAY = col_character()\n",
      ")\n"
     ]
    },
    {
     "name": "stdout",
     "output_type": "stream",
     "text": [
      "     DATE           RENTED_BIKE_COUNT      HOUR        TEMPERATURE    \n",
      " Length:8760        Min.   :   2.0    Min.   : 0.00   Min.   :-17.80  \n",
      " Class :character   1st Qu.: 214.0    1st Qu.: 5.75   1st Qu.:  3.40  \n",
      " Mode  :character   Median : 542.0    Median :11.50   Median : 13.70  \n",
      "                    Mean   : 729.2    Mean   :11.50   Mean   : 12.87  \n",
      "                    3rd Qu.:1084.0    3rd Qu.:17.25   3rd Qu.: 22.50  \n",
      "                    Max.   :3556.0    Max.   :23.00   Max.   : 39.40  \n",
      "                    NA's   :295                       NA's   :11      \n",
      "    HUMIDITY       WIND_SPEED      VISIBILITY   DEW_POINT_TEMPERATURE\n",
      " Min.   : 0.00   Min.   :0.000   Min.   :  27   Min.   :-30.600      \n",
      " 1st Qu.:42.00   1st Qu.:0.900   1st Qu.: 940   1st Qu.: -4.700      \n",
      " Median :57.00   Median :1.500   Median :1698   Median :  5.100      \n",
      " Mean   :58.23   Mean   :1.725   Mean   :1437   Mean   :  4.074      \n",
      " 3rd Qu.:74.00   3rd Qu.:2.300   3rd Qu.:2000   3rd Qu.: 14.800      \n",
      " Max.   :98.00   Max.   :7.400   Max.   :2000   Max.   : 27.200      \n",
      "                                                                     \n",
      " SOLAR_RADIATION     RAINFALL          SNOWFALL         SEASONS         \n",
      " Min.   :0.0000   Min.   : 0.0000   Min.   :0.00000   Length:8760       \n",
      " 1st Qu.:0.0000   1st Qu.: 0.0000   1st Qu.:0.00000   Class :character  \n",
      " Median :0.0100   Median : 0.0000   Median :0.00000   Mode  :character  \n",
      " Mean   :0.5691   Mean   : 0.1487   Mean   :0.07507                     \n",
      " 3rd Qu.:0.9300   3rd Qu.: 0.0000   3rd Qu.:0.00000                     \n",
      " Max.   :3.5200   Max.   :35.0000   Max.   :8.80000                     \n",
      "                                                                        \n",
      "   HOLIDAY          FUNCTIONING_DAY   \n",
      " Length:8760        Length:8760       \n",
      " Class :character   Class :character  \n",
      " Mode  :character   Mode  :character  \n",
      "                                      \n",
      "                                      \n",
      "                                      \n",
      "                                      \n"
     ]
    },
    {
     "name": "stderr",
     "output_type": "stream",
     "text": [
      "Parsed with column specification:\n",
      "cols(\n",
      "  CITY = col_character(),\n",
      "  WEATHER = col_character(),\n",
      "  VISIBILITY = col_double(),\n",
      "  TEMP = col_double(),\n",
      "  TEMP_MIN = col_double(),\n",
      "  TEMP_MAX = col_double(),\n",
      "  PRESSURE = col_double(),\n",
      "  HUMIDITY = col_double(),\n",
      "  WIND_SPEED = col_double(),\n",
      "  WIND_DEG = col_double(),\n",
      "  SEASON = col_character(),\n",
      "  FORECAST_DATETIME = col_datetime(format = \"\")\n",
      ")\n"
     ]
    },
    {
     "name": "stdout",
     "output_type": "stream",
     "text": [
      "     CITY             WEATHER            VISIBILITY         TEMP       \n",
      " Length:160         Length:160         Min.   : 9940   Min.   : 3.810  \n",
      " Class :character   Class :character   1st Qu.:10000   1st Qu.: 9.748  \n",
      " Mode  :character   Mode  :character   Median :10000   Median :12.765  \n",
      "                                       Mean   :10000   Mean   :13.505  \n",
      "                                       3rd Qu.:10000   3rd Qu.:16.747  \n",
      "                                       Max.   :10000   Max.   :26.130  \n",
      "    TEMP_MIN         TEMP_MAX         PRESSURE       HUMIDITY    \n",
      " Min.   : 3.810   Min.   : 3.810   Min.   : 954   Min.   :17.00  \n",
      " 1st Qu.: 9.725   1st Qu.: 9.953   1st Qu.:1016   1st Qu.:37.00  \n",
      " Median :12.765   Median :12.765   Median :1019   Median :49.00  \n",
      " Mean   :13.444   Mean   :13.539   Mean   :1018   Mean   :49.92  \n",
      " 3rd Qu.:16.635   3rd Qu.:16.977   3rd Qu.:1022   3rd Qu.:62.00  \n",
      " Max.   :26.130   Max.   :26.130   Max.   :1028   Max.   :94.00  \n",
      "   WIND_SPEED       WIND_DEG        SEASON         \n",
      " Min.   :0.180   Min.   :  2.0   Length:160        \n",
      " 1st Qu.:1.455   1st Qu.: 92.0   Class :character  \n",
      " Median :2.130   Median :141.0   Mode  :character  \n",
      " Mean   :2.778   Mean   :163.7                     \n",
      " 3rd Qu.:3.723   3rd Qu.:256.8                     \n",
      " Max.   :8.180   Max.   :352.0                     \n",
      " FORECAST_DATETIME            \n",
      " Min.   :2021-04-16 12:00:00  \n",
      " 1st Qu.:2021-04-17 17:15:00  \n",
      " Median :2021-04-18 22:30:00  \n",
      " Mean   :2021-04-18 22:30:00  \n",
      " 3rd Qu.:2021-04-20 03:45:00  \n",
      " Max.   :2021-04-21 09:00:00  \n"
     ]
    },
    {
     "name": "stderr",
     "output_type": "stream",
     "text": [
      "Parsed with column specification:\n",
      "cols(\n",
      "  CITY = col_character(),\n",
      "  CITY_ASCII = col_character(),\n",
      "  LAT = col_double(),\n",
      "  LNG = col_double(),\n",
      "  COUNTRY = col_character(),\n",
      "  ISO2 = col_character(),\n",
      "  ISO3 = col_character(),\n",
      "  ADMIN_NAME = col_character(),\n",
      "  CAPITAL = col_character(),\n",
      "  POPULATION = col_double(),\n",
      "  ID = col_double()\n",
      ")\n"
     ]
    },
    {
     "name": "stdout",
     "output_type": "stream",
     "text": [
      "     CITY            CITY_ASCII             LAT              LNG           \n",
      " Length:26569       Length:26569       Min.   :-54.93   Min.   :-179.5900  \n",
      " Class :character   Class :character   1st Qu.: 27.92   1st Qu.: -78.7794  \n",
      " Mode  :character   Mode  :character   Median : 40.22   Median :  -0.7689  \n",
      "                                       Mean   : 33.10   Mean   : -11.3639  \n",
      "                                       3rd Qu.: 47.99   3rd Qu.:  29.6833  \n",
      "                                       Max.   : 81.72   Max.   : 179.3667  \n",
      "                                                                           \n",
      "   COUNTRY              ISO2               ISO3            ADMIN_NAME       \n",
      " Length:26569       Length:26569       Length:26569       Length:26569      \n",
      " Class :character   Class :character   Class :character   Class :character  \n",
      " Mode  :character   Mode  :character   Mode  :character   Mode  :character  \n",
      "                                                                            \n",
      "                                                                            \n",
      "                                                                            \n",
      "                                                                            \n",
      "   CAPITAL            POPULATION             ID           \n",
      " Length:26569       Min.   :       0   Min.   :1.004e+09  \n",
      " Class :character   1st Qu.:    9246   1st Qu.:1.277e+09  \n",
      " Mode  :character   Median :   20080   Median :1.643e+09  \n",
      "                    Mean   :  162346   Mean   :1.556e+09  \n",
      "                    3rd Qu.:   59369   3rd Qu.:1.840e+09  \n",
      "                    Max.   :37977000   Max.   :1.934e+09  \n",
      "                    NA's   :973                           \n"
     ]
    }
   ],
   "source": [
    "for (dataset_name in dataset_list){\n",
    "    # Print a summary for each data set to check whether the column names were correctly converted\n",
    "    dataset <- read_csv(dataset_name)\n",
    "    print(summary(dataset))\n",
    "}"
   ]
  },
  {
   "cell_type": "markdown",
   "metadata": {},
   "source": [
    "## Process the web-scraped bike sharing system dataset\n"
   ]
  },
  {
   "cell_type": "markdown",
   "metadata": {},
   "source": [
    "By now we have standardized all column names. Next, we will focus on cleaning up the values in the web-scraped bike sharing systems dataset.\n"
   ]
  },
  {
   "cell_type": "code",
   "execution_count": 6,
   "metadata": {},
   "outputs": [
    {
     "name": "stderr",
     "output_type": "stream",
     "text": [
      "Parsed with column specification:\n",
      "cols(\n",
      "  COUNTRY = col_character(),\n",
      "  CITY = col_character(),\n",
      "  NAME = col_character(),\n",
      "  SYSTEM = col_character(),\n",
      "  OPERATOR = col_character(),\n",
      "  LAUNCHED = col_character(),\n",
      "  DISCONTINUED = col_character(),\n",
      "  STATIONS = col_character(),\n",
      "  BICYCLES = col_character(),\n",
      "  DAILY_RIDERSHIP = col_character()\n",
      ")\n"
     ]
    }
   ],
   "source": [
    "# First load the dataset\n",
    "bike_sharing_df <- read_csv(\"raw_bike_sharing_systems.csv\")"
   ]
  },
  {
   "cell_type": "code",
   "execution_count": 7,
   "metadata": {},
   "outputs": [
    {
     "data": {
      "text/html": [
       "<table>\n",
       "<thead><tr><th scope=col>COUNTRY</th><th scope=col>CITY</th><th scope=col>NAME</th><th scope=col>SYSTEM</th><th scope=col>OPERATOR</th><th scope=col>LAUNCHED</th><th scope=col>DISCONTINUED</th><th scope=col>STATIONS</th><th scope=col>BICYCLES</th><th scope=col>DAILY_RIDERSHIP</th></tr></thead>\n",
       "<tbody>\n",
       "\t<tr><td>Albania                       </td><td>Tirana                        </td><td>Ecovolis                      </td><td>NA                            </td><td>NA                            </td><td>March 2011                    </td><td>NA                            </td><td>8                             </td><td>200                           </td><td>NA                            </td></tr>\n",
       "\t<tr><td>Argentina                     </td><td>Mendoza                       </td><td>Metrobici                     </td><td>NA                            </td><td>NA                            </td><td>2014                          </td><td>NA                            </td><td>2                             </td><td>40                            </td><td>NA                            </td></tr>\n",
       "\t<tr><td>Argentina                     </td><td>San Lorenzo, Santa Fe         </td><td>Biciudad                      </td><td>Biciudad                      </td><td>NA                            </td><td>27 November 2016              </td><td>NA                            </td><td>8                             </td><td>80                            </td><td>NA                            </td></tr>\n",
       "\t<tr><td>Argentina                     </td><td>Buenos Aires                  </td><td>Ecobici                       </td><td>Serttel Brasil                </td><td>Bike In Baires Consortium.[10]</td><td>2010                          </td><td>NA                            </td><td>400                           </td><td>4000                          </td><td>21917                         </td></tr>\n",
       "\t<tr><td>Argentina                     </td><td>Rosario                       </td><td>Mi Bici Tu Bici[11]           </td><td>NA                            </td><td>NA                            </td><td>2 December 2015               </td><td>NA                            </td><td>47                            </td><td>480                           </td><td>NA                            </td></tr>\n",
       "\t<tr><td>Australia                                                             </td><td><span style=white-space:pre-wrap>Melbourne[12]        </span>         </td><td>Melbourne Bike Share                                                  </td><td><span style=white-space:pre-wrap>PBSC &amp; 8D     </span>            </td><td><span style=white-space:pre-wrap>Motivate                      </span></td><td><span style=white-space:pre-wrap>June 2010       </span>              </td><td>30 November 2019[13]                                                  </td><td>53                                                                    </td><td>676                                                                   </td><td><span style=white-space:pre-wrap>NA   </span>                         </td></tr>\n",
       "</tbody>\n",
       "</table>\n"
      ],
      "text/latex": [
       "\\begin{tabular}{r|llllllllll}\n",
       " COUNTRY & CITY & NAME & SYSTEM & OPERATOR & LAUNCHED & DISCONTINUED & STATIONS & BICYCLES & DAILY\\_RIDERSHIP\\\\\n",
       "\\hline\n",
       "\t Albania                        & Tirana                         & Ecovolis                       & NA                             & NA                             & March 2011                     & NA                             & 8                              & 200                            & NA                            \\\\\n",
       "\t Argentina                      & Mendoza                        & Metrobici                      & NA                             & NA                             & 2014                           & NA                             & 2                              & 40                             & NA                            \\\\\n",
       "\t Argentina                      & San Lorenzo, Santa Fe          & Biciudad                       & Biciudad                       & NA                             & 27 November 2016               & NA                             & 8                              & 80                             & NA                            \\\\\n",
       "\t Argentina                          & Buenos Aires                       & Ecobici                            & Serttel Brasil                     & Bike In Baires Consortium.{[}10{]} & 2010                               & NA                                 & 400                                & 4000                               & 21917                             \\\\\n",
       "\t Argentina                      & Rosario                        & Mi Bici Tu Bici{[}11{]}        & NA                             & NA                             & 2 December 2015                & NA                             & 47                             & 480                            & NA                            \\\\\n",
       "\t Australia                      & Melbourne{[}12{]}              & Melbourne Bike Share           & PBSC \\& 8D                    & Motivate                       & June 2010                      & 30 November 2019{[}13{]}       & 53                             & 676                            & NA                            \\\\\n",
       "\\end{tabular}\n"
      ],
      "text/markdown": [
       "\n",
       "| COUNTRY | CITY | NAME | SYSTEM | OPERATOR | LAUNCHED | DISCONTINUED | STATIONS | BICYCLES | DAILY_RIDERSHIP |\n",
       "|---|---|---|---|---|---|---|---|---|---|\n",
       "| Albania                        | Tirana                         | Ecovolis                       | NA                             | NA                             | March 2011                     | NA                             | 8                              | 200                            | NA                             |\n",
       "| Argentina                      | Mendoza                        | Metrobici                      | NA                             | NA                             | 2014                           | NA                             | 2                              | 40                             | NA                             |\n",
       "| Argentina                      | San Lorenzo, Santa Fe          | Biciudad                       | Biciudad                       | NA                             | 27 November 2016               | NA                             | 8                              | 80                             | NA                             |\n",
       "| Argentina                      | Buenos Aires                   | Ecobici                        | Serttel Brasil                 | Bike In Baires Consortium.[10] | 2010                           | NA                             | 400                            | 4000                           | 21917                          |\n",
       "| Argentina                      | Rosario                        | Mi Bici Tu Bici[11]            | NA                             | NA                             | 2 December 2015                | NA                             | 47                             | 480                            | NA                             |\n",
       "| Australia                      | Melbourne[12]                  | Melbourne Bike Share           | PBSC & 8D                      | Motivate                       | June 2010                      | 30 November 2019[13]           | 53                             | 676                            | NA                             |\n",
       "\n"
      ],
      "text/plain": [
       "  COUNTRY   CITY                  NAME                 SYSTEM        \n",
       "1 Albania   Tirana                Ecovolis             NA            \n",
       "2 Argentina Mendoza               Metrobici            NA            \n",
       "3 Argentina San Lorenzo, Santa Fe Biciudad             Biciudad      \n",
       "4 Argentina Buenos Aires          Ecobici              Serttel Brasil\n",
       "5 Argentina Rosario               Mi Bici Tu Bici[11]  NA            \n",
       "6 Australia Melbourne[12]         Melbourne Bike Share PBSC & 8D     \n",
       "  OPERATOR                       LAUNCHED         DISCONTINUED         STATIONS\n",
       "1 NA                             March 2011       NA                   8       \n",
       "2 NA                             2014             NA                   2       \n",
       "3 NA                             27 November 2016 NA                   8       \n",
       "4 Bike In Baires Consortium.[10] 2010             NA                   400     \n",
       "5 NA                             2 December 2015  NA                   47      \n",
       "6 Motivate                       June 2010        30 November 2019[13] 53      \n",
       "  BICYCLES DAILY_RIDERSHIP\n",
       "1 200      NA             \n",
       "2 40       NA             \n",
       "3 80       NA             \n",
       "4 4000     21917          \n",
       "5 480      NA             \n",
       "6 676      NA             "
      ]
     },
     "metadata": {},
     "output_type": "display_data"
    }
   ],
   "source": [
    "# Print its head\n",
    "head(bike_sharing_df)"
   ]
  },
  {
   "cell_type": "markdown",
   "metadata": {},
   "source": [
    "Even from the first few rows, you can see there is plenty of undesireable embedded textual content, such as the reference link included in `Melbourne[12]`.\n"
   ]
  },
  {
   "cell_type": "markdown",
   "metadata": {},
   "source": [
    "In this project, let's only focus on processing the following revelant columns (feel free to process the other columns for more practice):\n",
    "\n",
    "*   `COUNTRY`: Country name\n",
    "*   `CITY`: City name\n",
    "*   `SYSTEM`: Bike-sharing system name\n",
    "*   `BICYCLES`: Total number of bikes in the system\n"
   ]
  },
  {
   "cell_type": "code",
   "execution_count": 8,
   "metadata": {},
   "outputs": [],
   "source": [
    "# Select the four columns\n",
    "sub_bike_sharing_df <- bike_sharing_df %>% select(COUNTRY, CITY, SYSTEM, BICYCLES)"
   ]
  },
  {
   "cell_type": "markdown",
   "metadata": {},
   "source": [
    "Let's see the types of the selected columns\n"
   ]
  },
  {
   "cell_type": "code",
   "execution_count": 9,
   "metadata": {},
   "outputs": [
    {
     "data": {
      "text/html": [
       "<table>\n",
       "<thead><tr><th scope=col>variable</th><th scope=col>class</th></tr></thead>\n",
       "<tbody>\n",
       "\t<tr><td>COUNTRY  </td><td>character</td></tr>\n",
       "\t<tr><td>CITY     </td><td>character</td></tr>\n",
       "\t<tr><td>SYSTEM   </td><td>character</td></tr>\n",
       "\t<tr><td>BICYCLES </td><td>character</td></tr>\n",
       "</tbody>\n",
       "</table>\n"
      ],
      "text/latex": [
       "\\begin{tabular}{r|ll}\n",
       " variable & class\\\\\n",
       "\\hline\n",
       "\t COUNTRY   & character\\\\\n",
       "\t CITY      & character\\\\\n",
       "\t SYSTEM    & character\\\\\n",
       "\t BICYCLES  & character\\\\\n",
       "\\end{tabular}\n"
      ],
      "text/markdown": [
       "\n",
       "| variable | class |\n",
       "|---|---|\n",
       "| COUNTRY   | character |\n",
       "| CITY      | character |\n",
       "| SYSTEM    | character |\n",
       "| BICYCLES  | character |\n",
       "\n"
      ],
      "text/plain": [
       "  variable class    \n",
       "1 COUNTRY  character\n",
       "2 CITY     character\n",
       "3 SYSTEM   character\n",
       "4 BICYCLES character"
      ]
     },
     "metadata": {},
     "output_type": "display_data"
    }
   ],
   "source": [
    "sub_bike_sharing_df %>% \n",
    "    summarize_all(class) %>%\n",
    "    gather(variable, class)"
   ]
  },
  {
   "cell_type": "markdown",
   "metadata": {},
   "source": [
    "They are all interpreted as character columns, but we expect the `BICYCLES` column to be of numeric type. Let's see why it wasn't loaded as a numeric column - possibly some entries contain characters. Let's create a simple function called `find_character` to check that.\n"
   ]
  },
  {
   "cell_type": "code",
   "execution_count": 10,
   "metadata": {},
   "outputs": [],
   "source": [
    "# grepl searches a string for non-digital characters, and returns TRUE or FALSE\n",
    "# if it finds any non-digital characters, then the bicyle column is not purely numeric\n",
    "find_character <- function(strings) grepl(\"[^0-9]\", strings)"
   ]
  },
  {
   "cell_type": "markdown",
   "metadata": {},
   "source": [
    "Let's try to find any elements in the `Bicycles` column containing non-numeric characters.\n"
   ]
  },
  {
   "cell_type": "code",
   "execution_count": 11,
   "metadata": {},
   "outputs": [
    {
     "data": {
      "text/html": [
       "<table>\n",
       "<thead><tr><th scope=col>BICYCLES</th></tr></thead>\n",
       "<tbody>\n",
       "\t<tr><td>4115[22]                  </td></tr>\n",
       "\t<tr><td>310[59]                   </td></tr>\n",
       "\t<tr><td>500[72]                   </td></tr>\n",
       "\t<tr><td>[75]                      </td></tr>\n",
       "\t<tr><td>180[76]                   </td></tr>\n",
       "\t<tr><td>600[77]                   </td></tr>\n",
       "\t<tr><td>[78]                      </td></tr>\n",
       "\t<tr><td>initially 800 (later 2500)</td></tr>\n",
       "\t<tr><td>100 (220)                 </td></tr>\n",
       "\t<tr><td>370[114]                  </td></tr>\n",
       "</tbody>\n",
       "</table>\n"
      ],
      "text/latex": [
       "\\begin{tabular}{r|l}\n",
       " BICYCLES\\\\\n",
       "\\hline\n",
       "\t 4115{[}22{]}                  \\\\\n",
       "\t 310{[}59{]}                   \\\\\n",
       "\t 500{[}72{]}                   \\\\\n",
       "\t {[}75{]}                      \\\\\n",
       "\t 180{[}76{]}                   \\\\\n",
       "\t 600{[}77{]}                   \\\\\n",
       "\t {[}78{]}                      \\\\\n",
       "\t initially 800 (later 2500)\\\\\n",
       "\t 100 (220)                 \\\\\n",
       "\t 370{[}114{]}                  \\\\\n",
       "\\end{tabular}\n"
      ],
      "text/markdown": [
       "\n",
       "| BICYCLES |\n",
       "|---|\n",
       "| 4115[22]                   |\n",
       "| 310[59]                    |\n",
       "| 500[72]                    |\n",
       "| [75]                       |\n",
       "| 180[76]                    |\n",
       "| 600[77]                    |\n",
       "| [78]                       |\n",
       "| initially 800 (later 2500) |\n",
       "| 100 (220)                  |\n",
       "| 370[114]                   |\n",
       "\n"
      ],
      "text/plain": [
       "   BICYCLES                  \n",
       "1  4115[22]                  \n",
       "2  310[59]                   \n",
       "3  500[72]                   \n",
       "4  [75]                      \n",
       "5  180[76]                   \n",
       "6  600[77]                   \n",
       "7  [78]                      \n",
       "8  initially 800 (later 2500)\n",
       "9  100 (220)                 \n",
       "10 370[114]                  "
      ]
     },
     "metadata": {},
     "output_type": "display_data"
    }
   ],
   "source": [
    "sub_bike_sharing_df %>% \n",
    "    select(BICYCLES) %>% \n",
    "    filter(find_character(BICYCLES)) %>%\n",
    "    slice(0:10)"
   ]
  },
  {
   "cell_type": "markdown",
   "metadata": {},
   "source": [
    "As you can see, many rows have non-numeric characters, such as `32 (including 6 rollers) [162]` and `1000[253]`. This is actually very common for a table scraped from Wiki when no input validation is enforced.\n",
    "\n",
    "Later, you will use regular expressions to clean them up.\n"
   ]
  },
  {
   "cell_type": "markdown",
   "metadata": {},
   "source": [
    "Next, let's take a look at the other columns, namely `COUNTRY`, `CITY`, and `SYSTEM`, to see if they contain any undesired reference links, such as in `Melbourne[12]`.\n"
   ]
  },
  {
   "cell_type": "code",
   "execution_count": 12,
   "metadata": {},
   "outputs": [],
   "source": [
    "# Define a 'reference link' character class, \n",
    "# `[A-z0-9]` means at least one character \n",
    "# `\\\\[` and `\\\\]` means the character is wrapped by [], such as for [12] or [abc]\n",
    "ref_pattern <- \"\\\\[[A-z0-9]+\\\\]\"\n",
    "find_reference_pattern <- function(strings) grepl(ref_pattern, strings)"
   ]
  },
  {
   "cell_type": "code",
   "execution_count": 13,
   "metadata": {},
   "outputs": [
    {
     "data": {
      "text/html": [
       "<table>\n",
       "<thead><tr><th scope=col>COUNTRY</th></tr></thead>\n",
       "<tbody>\n",
       "</tbody>\n",
       "</table>\n"
      ],
      "text/latex": [
       "\\begin{tabular}{r|l}\n",
       " COUNTRY\\\\\n",
       "\\hline\n",
       "\\end{tabular}\n"
      ],
      "text/markdown": [
       "\n",
       "| COUNTRY |\n",
       "|---|\n",
       "\n"
      ],
      "text/plain": [
       "     COUNTRY"
      ]
     },
     "metadata": {},
     "output_type": "display_data"
    }
   ],
   "source": [
    "# Check whether the COUNTRY column has any reference links\n",
    "sub_bike_sharing_df %>% \n",
    "    select(COUNTRY) %>% \n",
    "    filter(find_reference_pattern(COUNTRY)) %>%\n",
    "    slice(0:10)"
   ]
  },
  {
   "cell_type": "markdown",
   "metadata": {},
   "source": [
    "Ok, looks like the `COUNTRY` column is clean. Let's check the `CITY` column.\n"
   ]
  },
  {
   "cell_type": "code",
   "execution_count": 14,
   "metadata": {},
   "outputs": [
    {
     "data": {
      "text/html": [
       "<table>\n",
       "<thead><tr><th scope=col>CITY</th></tr></thead>\n",
       "<tbody>\n",
       "\t<tr><td>Melbourne[12]        </td></tr>\n",
       "\t<tr><td>Brisbane[14][15]     </td></tr>\n",
       "\t<tr><td>Lower Austria[18]    </td></tr>\n",
       "\t<tr><td>Namur[19]            </td></tr>\n",
       "\t<tr><td>Brussels[21]         </td></tr>\n",
       "\t<tr><td>Salvador[23]         </td></tr>\n",
       "\t<tr><td>Belo Horizonte[24]   </td></tr>\n",
       "\t<tr><td><span style=white-space:pre-wrap>Jo&lt;e3&gt;o Pessoa[25]   </span></td></tr>\n",
       "\t<tr><td>(Pedro de) Toledo[26]</td></tr>\n",
       "\t<tr><td>Rio de Janeiro[27]   </td></tr>\n",
       "</tbody>\n",
       "</table>\n"
      ],
      "text/latex": [
       "\\begin{tabular}{r|l}\n",
       " CITY\\\\\n",
       "\\hline\n",
       "\t Melbourne{[}12{]}        \\\\\n",
       "\t Brisbane{[}14{]}{[}15{]}     \\\\\n",
       "\t Lower Austria{[}18{]}    \\\\\n",
       "\t Namur{[}19{]}            \\\\\n",
       "\t Brussels{[}21{]}         \\\\\n",
       "\t Salvador{[}23{]}         \\\\\n",
       "\t Belo Horizonte{[}24{]}   \\\\\n",
       "\t Jo<e3>o Pessoa{[}25{]}   \\\\\n",
       "\t (Pedro de) Toledo{[}26{]}\\\\\n",
       "\t Rio de Janeiro{[}27{]}   \\\\\n",
       "\\end{tabular}\n"
      ],
      "text/markdown": [
       "\n",
       "| CITY |\n",
       "|---|\n",
       "| Melbourne[12]         |\n",
       "| Brisbane[14][15]      |\n",
       "| Lower Austria[18]     |\n",
       "| Namur[19]             |\n",
       "| Brussels[21]          |\n",
       "| Salvador[23]          |\n",
       "| Belo Horizonte[24]    |\n",
       "| Jo<e3>o Pessoa[25]    |\n",
       "| (Pedro de) Toledo[26] |\n",
       "| Rio de Janeiro[27]    |\n",
       "\n"
      ],
      "text/plain": [
       "   CITY                 \n",
       "1  Melbourne[12]        \n",
       "2  Brisbane[14][15]     \n",
       "3  Lower Austria[18]    \n",
       "4  Namur[19]            \n",
       "5  Brussels[21]         \n",
       "6  Salvador[23]         \n",
       "7  Belo Horizonte[24]   \n",
       "8  Jo<e3>o Pessoa[25]   \n",
       "9  (Pedro de) Toledo[26]\n",
       "10 Rio de Janeiro[27]   "
      ]
     },
     "metadata": {},
     "output_type": "display_data"
    }
   ],
   "source": [
    "# Check whether the CITY column has any reference links\n",
    "sub_bike_sharing_df %>% \n",
    "    select(CITY) %>% \n",
    "    filter(find_reference_pattern(CITY)) %>%\n",
    "    slice(0:10)"
   ]
  },
  {
   "cell_type": "markdown",
   "metadata": {},
   "source": [
    "Hmm, looks like the `CITY` column has some reference links to be removed. Next, let's check the `SYSTEM` column.\n"
   ]
  },
  {
   "cell_type": "code",
   "execution_count": 15,
   "metadata": {},
   "outputs": [
    {
     "data": {
      "text/html": [
       "<table>\n",
       "<thead><tr><th scope=col>SYSTEM</th></tr></thead>\n",
       "<tbody>\n",
       "\t<tr><td>EasyBike[58]                     </td></tr>\n",
       "\t<tr><td>4 Gen.[61]                       </td></tr>\n",
       "\t<tr><td>3 Gen. SmooveKey[113]            </td></tr>\n",
       "\t<tr><td>3 Gen. Smoove[141][142][143][139]</td></tr>\n",
       "\t<tr><td>3 Gen. Smoove[179]               </td></tr>\n",
       "\t<tr><td>3 Gen. Smoove[181]               </td></tr>\n",
       "\t<tr><td>3 Gen. Smoove[183]               </td></tr>\n",
       "</tbody>\n",
       "</table>\n"
      ],
      "text/latex": [
       "\\begin{tabular}{r|l}\n",
       " SYSTEM\\\\\n",
       "\\hline\n",
       "\t EasyBike{[}58{]}                     \\\\\n",
       "\t 4 Gen.{[}61{]}                       \\\\\n",
       "\t 3 Gen. SmooveKey{[}113{]}            \\\\\n",
       "\t 3 Gen. Smoove{[}141{]}{[}142{]}{[}143{]}{[}139{]}\\\\\n",
       "\t 3 Gen. Smoove{[}179{]}               \\\\\n",
       "\t 3 Gen. Smoove{[}181{]}               \\\\\n",
       "\t 3 Gen. Smoove{[}183{]}               \\\\\n",
       "\\end{tabular}\n"
      ],
      "text/markdown": [
       "\n",
       "| SYSTEM |\n",
       "|---|\n",
       "| EasyBike[58]                      |\n",
       "| 4 Gen.[61]                        |\n",
       "| 3 Gen. SmooveKey[113]             |\n",
       "| 3 Gen. Smoove[141][142][143][139] |\n",
       "| 3 Gen. Smoove[179]                |\n",
       "| 3 Gen. Smoove[181]                |\n",
       "| 3 Gen. Smoove[183]                |\n",
       "\n"
      ],
      "text/plain": [
       "  SYSTEM                           \n",
       "1 EasyBike[58]                     \n",
       "2 4 Gen.[61]                       \n",
       "3 3 Gen. SmooveKey[113]            \n",
       "4 3 Gen. Smoove[141][142][143][139]\n",
       "5 3 Gen. Smoove[179]               \n",
       "6 3 Gen. Smoove[181]               \n",
       "7 3 Gen. Smoove[183]               "
      ]
     },
     "metadata": {},
     "output_type": "display_data"
    }
   ],
   "source": [
    "# Check whether the System column has any reference links\n",
    "sub_bike_sharing_df %>% \n",
    "    select(SYSTEM) %>% \n",
    "    filter(find_reference_pattern(SYSTEM)) %>%\n",
    "    slice(0:10)"
   ]
  },
  {
   "cell_type": "markdown",
   "metadata": {},
   "source": [
    "So the `SYSTEM` column also has some reference links.\n"
   ]
  },
  {
   "cell_type": "markdown",
   "metadata": {},
   "source": [
    "After some preliminary investigations, we identified that the `CITY` and `SYSTEM` columns have some undesired reference links, and the `BICYCLES` column has both reference links and some\n",
    "textual annotations.\n",
    "\n",
    "Next, you need to use regular expressions to clean up the unexpected reference links and text annotations in numeric values.\n"
   ]
  },
  {
   "cell_type": "markdown",
   "metadata": {},
   "source": [
    "# TASK: Remove undesired reference links using regular expressions\n"
   ]
  },
  {
   "cell_type": "markdown",
   "metadata": {},
   "source": [
    "*TODO:* Write a custom function using `stringr::str_replace_all` to replace all reference links with an empty character for columns `CITY` and `SYSTEM`\n"
   ]
  },
  {
   "cell_type": "code",
   "execution_count": 16,
   "metadata": {},
   "outputs": [],
   "source": [
    "# remove reference link\n",
    "remove_ref <- function(strings) {\n",
    "    ref_pattern <- \"\\\\[[A-z0-9]+\\\\]\"\n",
    "    # Replace all matched substrings with a white space using str_replace_all()\n",
    "    # result <- \n",
    "    str_replace_all(string = strings, \n",
    "                              pattern = ref_pattern, \n",
    "                              replacement = \"\")\n",
    "    # Trim the result if you want\n",
    "    #str_trim((string = strings), side = \"both\")\n",
    "    \n",
    "    #return(result)\n",
    "    \n",
    "}"
   ]
  },
  {
   "cell_type": "markdown",
   "metadata": {},
   "source": [
    "*TODO:* Use the `dplyr::mutate()` function to apply the `remove_ref` function to the `CITY` and `SYSTEM` columns\n"
   ]
  },
  {
   "cell_type": "code",
   "execution_count": 17,
   "metadata": {},
   "outputs": [
    {
     "data": {
      "text/html": [
       "<table>\n",
       "<thead><tr><th scope=col>COUNTRY</th><th scope=col>CITY</th><th scope=col>SYSTEM</th><th scope=col>BICYCLES</th></tr></thead>\n",
       "<tbody>\n",
       "\t<tr><td>Albania              </td><td>Tirana               </td><td>NA                   </td><td>200                  </td></tr>\n",
       "\t<tr><td>Argentina            </td><td>Mendoza              </td><td>NA                   </td><td>40                   </td></tr>\n",
       "\t<tr><td>Argentina            </td><td>San Lorenzo, Santa Fe</td><td>Biciudad             </td><td>80                   </td></tr>\n",
       "\t<tr><td>Argentina            </td><td>Buenos Aires         </td><td>Serttel Brasil       </td><td>4000                 </td></tr>\n",
       "\t<tr><td>Argentina            </td><td>Rosario              </td><td>NA                   </td><td>480                  </td></tr>\n",
       "\t<tr><td>Australia                                                    </td><td><span style=white-space:pre-wrap>Melbourne            </span></td><td><span style=white-space:pre-wrap>PBSC &amp; 8D       </span> </td><td><span style=white-space:pre-wrap>676     </span>             </td></tr>\n",
       "\t<tr><td>Australia            </td><td>Brisbane             </td><td>3 Gen. Cyclocity     </td><td>2000                 </td></tr>\n",
       "\t<tr><td>Australia            </td><td>Melbourne            </td><td>4 Gen. oBike         </td><td>1250                 </td></tr>\n",
       "\t<tr><td>Australia            </td><td>Sydney               </td><td>4 Gen. oBike         </td><td>1250                 </td></tr>\n",
       "\t<tr><td>Australia            </td><td>Sydney               </td><td>4 Gen. Ofo           </td><td>600                  </td></tr>\n",
       "\t<tr><td>Australia            </td><td>Sydney               </td><td>Reddy Go             </td><td>2000                 </td></tr>\n",
       "\t<tr><td>Austria              </td><td>Vienna               </td><td>3 Gen. Cyclocity     </td><td>1500                 </td></tr>\n",
       "\t<tr><td>Austria              </td><td>Burgenland           </td><td>3 Gen. nextbike      </td><td>NA                   </td></tr>\n",
       "\t<tr><td>Austria              </td><td>Lower Austria        </td><td>3 Gen. nextbike      </td><td>1300                 </td></tr>\n",
       "\t<tr><td>Austria              </td><td>Salzburg             </td><td>3 Gen. nextbike      </td><td>NA                   </td></tr>\n",
       "\t<tr><td>Austria              </td><td>Vienna               </td><td>2 Gen.               </td><td>1500                 </td></tr>\n",
       "\t<tr><td>Austria              </td><td>Vorarlberg           </td><td>3 Gen. nextbike      </td><td>70                   </td></tr>\n",
       "\t<tr><td>Bangladesh           </td><td>Dhaka                </td><td>JoBike               </td><td>300                  </td></tr>\n",
       "\t<tr><td>Belgium              </td><td>Namur                </td><td>3 Gen. Cyclocity     </td><td>200                  </td></tr>\n",
       "\t<tr><td>Belgium              </td><td>Antwerp              </td><td>3 Gen. Clear CC      </td><td>3600                 </td></tr>\n",
       "\t<tr><td>Belgium              </td><td>Brussels             </td><td>3 Gen. Cyclocity     </td><td>4115[22]             </td></tr>\n",
       "\t<tr><td>Brazil               </td><td>Salvador             </td><td>tembici              </td><td>NA                   </td></tr>\n",
       "\t<tr><td>Brazil               </td><td>Belo Horizonte       </td><td>Mobilicidade         </td><td>400                  </td></tr>\n",
       "\t<tr><td>Brazil               </td><td>Fortaleza            </td><td>Mobilicidade         </td><td>800                  </td></tr>\n",
       "\t<tr><td><span style=white-space:pre-wrap>Brazil    </span>                 </td><td><span style=white-space:pre-wrap>Jo&lt;U+FFFD&gt;o Pessoa   </span></td><td><span style=white-space:pre-wrap>Mobilicidade    </span>           </td><td><span style=white-space:pre-wrap>20      </span>                   </td></tr>\n",
       "\t<tr><td>Brazil               </td><td>(Pedro de) Toledo    </td><td>Toopedalando         </td><td>60                   </td></tr>\n",
       "\t<tr><td>Brazil               </td><td>Rio de Janeiro       </td><td>tembici              </td><td>300                  </td></tr>\n",
       "\t<tr><td><span style=white-space:pre-wrap>Brazil    </span>                 </td><td><span style=white-space:pre-wrap>S&lt;U+FFFD&gt;o Paulo     </span></td><td><span style=white-space:pre-wrap>tembici         </span>           </td><td><span style=white-space:pre-wrap>600     </span>                   </td></tr>\n",
       "\t<tr><td>Brazil               </td><td>Sorocaba             </td><td>tembici              </td><td>120                  </td></tr>\n",
       "\t<tr><td>Bulgaria             </td><td>Burgas               </td><td>Mobilicidade         </td><td>120                  </td></tr>\n",
       "\t<tr><td>...</td><td>...</td><td>...</td><td>...</td></tr>\n",
       "\t<tr><td>United States                                   </td><td>Fullerton, California                           </td><td>Bike Nation                                     </td><td>75                                              </td></tr>\n",
       "\t<tr><td>United States                                   </td><td>Hoboken, New Jersey                             </td><td>3 Gen. nextbike                                 </td><td>250                                             </td></tr>\n",
       "\t<tr><td>United States                                   </td><td>Houston, Texas                                  </td><td>3 Gen. B-Cycle                                  </td><td>400                                             </td></tr>\n",
       "\t<tr><td>United States                                   </td><td>Jersey City                                     </td><td>8D                                              </td><td>500                                             </td></tr>\n",
       "\t<tr><td>United States                                   </td><td>Kailua, Hawaii                                  </td><td>3 Gen. B-Cycle                                  </td><td>12                                              </td></tr>\n",
       "\t<tr><td>United States                                   </td><td>Kansas City, Missouri                           </td><td>3 Gen. B-Cycle                                  </td><td>300                                             </td></tr>\n",
       "\t<tr><td>United States                                   </td><td>Kona District, Hawaii                           </td><td>PBSC                                            </td><td>30                                              </td></tr>\n",
       "\t<tr><td>United States                                   </td><td>Lansing, MI                                     </td><td>A2B Bikeshare                                   </td><td>20                                              </td></tr>\n",
       "\t<tr><td>United States                                   </td><td>Lincoln, Nebraska                               </td><td>3 Gen. B-Cycle                                  </td><td>100                                             </td></tr>\n",
       "\t<tr><td>United States                                   </td><td>Los Angeles                                     </td><td>3 Gen. B-Cycle                                  </td><td>1000                                            </td></tr>\n",
       "\t<tr><td>United States                                   </td><td>Madison, Wisconsin                              </td><td>3 Gen. B-Cycle                                  </td><td>350                                             </td></tr>\n",
       "\t<tr><td>United States                                   </td><td>Milwaukee, Wisconsin                            </td><td>3 Gen. B-Cycle                                  </td><td>400+                                            </td></tr>\n",
       "\t<tr><td>United States                                                                  </td><td>Minneapolis, Minnesota and Saint Paul, Minnesota                               </td><td><span style=white-space:pre-wrap>PBSC &amp; 8D                          </span></td><td>1833                                                                           </td></tr>\n",
       "\t<tr><td>United States                                   </td><td>Oklahoma City, Oklahoma                         </td><td>Spokies                                         </td><td>100                                             </td></tr>\n",
       "\t<tr><td>United States                                   </td><td>Omaha, Nebraska                                 </td><td>3 Gen. B-Cycle                                  </td><td>35                                              </td></tr>\n",
       "\t<tr><td>United States                                   </td><td>Philadelphia, Pennsylvania                      </td><td>3 Gen. B-Cycle                                  </td><td>1000                                            </td></tr>\n",
       "\t<tr><td>United States                                   </td><td>Phoenix, Arizona                                </td><td>3 Gen. CycleHop and Social Bicycles             </td><td>500                                             </td></tr>\n",
       "\t<tr><td>United States                                   </td><td>Pittsburgh, Pennsylvania                        </td><td>3 Gen. nextbike                                 </td><td>500                                             </td></tr>\n",
       "\t<tr><td>United States                                   </td><td>Portland, Oregon                                </td><td>NA                                              </td><td>1000                                            </td></tr>\n",
       "\t<tr><td>United States                                   </td><td>Portland, Oregon                                </td><td>1 Gen. WhiteBikes                               </td><td>1000                                            </td></tr>\n",
       "\t<tr><td>United States                                   </td><td>Salt Lake City, Utah                            </td><td>3 Gen. B-Cycle                                  </td><td>100                                             </td></tr>\n",
       "\t<tr><td>United States                                   </td><td>San Antonio, Texas                              </td><td>3 Gen. B-Cycle                                  </td><td>600                                             </td></tr>\n",
       "\t<tr><td>United States                                   </td><td>San Diego                                       </td><td>DecoBike                                        </td><td>1800                                            </td></tr>\n",
       "\t<tr><td>United States                                   </td><td>San Francisco Bay Area                          </td><td>NA                                              </td><td>NA                                              </td></tr>\n",
       "\t<tr><td>United States                                   </td><td>San Francisco Bay Area                          </td><td>8D                                              </td><td>7000                                            </td></tr>\n",
       "\t<tr><td>United States                                   </td><td>Santa Monica, California                        </td><td>3 Gen. CycleHop and Social Bicycles             </td><td>500                                             </td></tr>\n",
       "\t<tr><td>United States                                   </td><td>Savannah, Georgia                               </td><td>3 Gen. B-Cycle                                  </td><td>16                                              </td></tr>\n",
       "\t<tr><td>United States                                   </td><td>Seattle, Washington                             </td><td>8D                                              </td><td>500                                             </td></tr>\n",
       "\t<tr><td>United States                                   </td><td>Spartanburg, South Carolina                     </td><td>3 Gen. B-Cycle                                  </td><td>40                                              </td></tr>\n",
       "\t<tr><td>United States                                   </td><td>St. Paul                                        </td><td>1 Gen. w/ BikeCard                              </td><td>NA                                              </td></tr>\n",
       "</tbody>\n",
       "</table>\n"
      ],
      "text/latex": [
       "\\begin{tabular}{r|llll}\n",
       " COUNTRY & CITY & SYSTEM & BICYCLES\\\\\n",
       "\\hline\n",
       "\t Albania               & Tirana                & NA                    & 200                  \\\\\n",
       "\t Argentina             & Mendoza               & NA                    & 40                   \\\\\n",
       "\t Argentina             & San Lorenzo, Santa Fe & Biciudad              & 80                   \\\\\n",
       "\t Argentina             & Buenos Aires          & Serttel Brasil        & 4000                 \\\\\n",
       "\t Argentina             & Rosario               & NA                    & 480                  \\\\\n",
       "\t Australia             & Melbourne             & PBSC \\& 8D           & 676                  \\\\\n",
       "\t Australia             & Brisbane              & 3 Gen. Cyclocity      & 2000                 \\\\\n",
       "\t Australia             & Melbourne             & 4 Gen. oBike          & 1250                 \\\\\n",
       "\t Australia             & Sydney                & 4 Gen. oBike          & 1250                 \\\\\n",
       "\t Australia             & Sydney                & 4 Gen. Ofo            & 600                  \\\\\n",
       "\t Australia             & Sydney                & Reddy Go              & 2000                 \\\\\n",
       "\t Austria               & Vienna                & 3 Gen. Cyclocity      & 1500                 \\\\\n",
       "\t Austria               & Burgenland            & 3 Gen. nextbike       & NA                   \\\\\n",
       "\t Austria               & Lower Austria         & 3 Gen. nextbike       & 1300                 \\\\\n",
       "\t Austria               & Salzburg              & 3 Gen. nextbike       & NA                   \\\\\n",
       "\t Austria               & Vienna                & 2 Gen.                & 1500                 \\\\\n",
       "\t Austria               & Vorarlberg            & 3 Gen. nextbike       & 70                   \\\\\n",
       "\t Bangladesh            & Dhaka                 & JoBike                & 300                  \\\\\n",
       "\t Belgium               & Namur                 & 3 Gen. Cyclocity      & 200                  \\\\\n",
       "\t Belgium               & Antwerp               & 3 Gen. Clear CC       & 3600                 \\\\\n",
       "\t Belgium               & Brussels              & 3 Gen. Cyclocity      & 4115{[}22{]}         \\\\\n",
       "\t Brazil                & Salvador              & tembici               & NA                   \\\\\n",
       "\t Brazil                & Belo Horizonte        & Mobilicidade          & 400                  \\\\\n",
       "\t Brazil                & Fortaleza             & Mobilicidade          & 800                  \\\\\n",
       "\t Brazil                & Jo<U+FFFD>o Pessoa    & Mobilicidade          & 20                   \\\\\n",
       "\t Brazil                & (Pedro de) Toledo     & Toopedalando          & 60                   \\\\\n",
       "\t Brazil                & Rio de Janeiro        & tembici               & 300                  \\\\\n",
       "\t Brazil                & S<U+FFFD>o Paulo      & tembici               & 600                  \\\\\n",
       "\t Brazil                & Sorocaba              & tembici               & 120                  \\\\\n",
       "\t Bulgaria              & Burgas                & Mobilicidade          & 120                  \\\\\n",
       "\t ... & ... & ... & ...\\\\\n",
       "\t United States                                    & Fullerton, California                            & Bike Nation                                      & 75                                              \\\\\n",
       "\t United States                                    & Hoboken, New Jersey                              & 3 Gen. nextbike                                  & 250                                             \\\\\n",
       "\t United States                                    & Houston, Texas                                   & 3 Gen. B-Cycle                                   & 400                                             \\\\\n",
       "\t United States                                    & Jersey City                                      & 8D                                               & 500                                             \\\\\n",
       "\t United States                                    & Kailua, Hawaii                                   & 3 Gen. B-Cycle                                   & 12                                              \\\\\n",
       "\t United States                                    & Kansas City, Missouri                            & 3 Gen. B-Cycle                                   & 300                                             \\\\\n",
       "\t United States                                    & Kona District, Hawaii                            & PBSC                                             & 30                                              \\\\\n",
       "\t United States                                    & Lansing, MI                                      & A2B Bikeshare                                    & 20                                              \\\\\n",
       "\t United States                                    & Lincoln, Nebraska                                & 3 Gen. B-Cycle                                   & 100                                             \\\\\n",
       "\t United States                                    & Los Angeles                                      & 3 Gen. B-Cycle                                   & 1000                                            \\\\\n",
       "\t United States                                    & Madison, Wisconsin                               & 3 Gen. B-Cycle                                   & 350                                             \\\\\n",
       "\t United States                                    & Milwaukee, Wisconsin                             & 3 Gen. B-Cycle                                   & 400+                                            \\\\\n",
       "\t United States                                    & Minneapolis, Minnesota and Saint Paul, Minnesota & PBSC \\& 8D                                      & 1833                                            \\\\\n",
       "\t United States                                    & Oklahoma City, Oklahoma                          & Spokies                                          & 100                                             \\\\\n",
       "\t United States                                    & Omaha, Nebraska                                  & 3 Gen. B-Cycle                                   & 35                                              \\\\\n",
       "\t United States                                    & Philadelphia, Pennsylvania                       & 3 Gen. B-Cycle                                   & 1000                                            \\\\\n",
       "\t United States                                    & Phoenix, Arizona                                 & 3 Gen. CycleHop and Social Bicycles              & 500                                             \\\\\n",
       "\t United States                                    & Pittsburgh, Pennsylvania                         & 3 Gen. nextbike                                  & 500                                             \\\\\n",
       "\t United States                                    & Portland, Oregon                                 & NA                                               & 1000                                            \\\\\n",
       "\t United States                                    & Portland, Oregon                                 & 1 Gen. WhiteBikes                                & 1000                                            \\\\\n",
       "\t United States                                    & Salt Lake City, Utah                             & 3 Gen. B-Cycle                                   & 100                                             \\\\\n",
       "\t United States                                    & San Antonio, Texas                               & 3 Gen. B-Cycle                                   & 600                                             \\\\\n",
       "\t United States                                    & San Diego                                        & DecoBike                                         & 1800                                            \\\\\n",
       "\t United States                                    & San Francisco Bay Area                           & NA                                               & NA                                              \\\\\n",
       "\t United States                                    & San Francisco Bay Area                           & 8D                                               & 7000                                            \\\\\n",
       "\t United States                                    & Santa Monica, California                         & 3 Gen. CycleHop and Social Bicycles              & 500                                             \\\\\n",
       "\t United States                                    & Savannah, Georgia                                & 3 Gen. B-Cycle                                   & 16                                              \\\\\n",
       "\t United States                                    & Seattle, Washington                              & 8D                                               & 500                                             \\\\\n",
       "\t United States                                    & Spartanburg, South Carolina                      & 3 Gen. B-Cycle                                   & 40                                              \\\\\n",
       "\t United States                                    & St. Paul                                         & 1 Gen. w/ BikeCard                               & NA                                              \\\\\n",
       "\\end{tabular}\n"
      ],
      "text/markdown": [
       "\n",
       "| COUNTRY | CITY | SYSTEM | BICYCLES |\n",
       "|---|---|---|---|\n",
       "| Albania               | Tirana                | NA                    | 200                   |\n",
       "| Argentina             | Mendoza               | NA                    | 40                    |\n",
       "| Argentina             | San Lorenzo, Santa Fe | Biciudad              | 80                    |\n",
       "| Argentina             | Buenos Aires          | Serttel Brasil        | 4000                  |\n",
       "| Argentina             | Rosario               | NA                    | 480                   |\n",
       "| Australia             | Melbourne             | PBSC & 8D             | 676                   |\n",
       "| Australia             | Brisbane              | 3 Gen. Cyclocity      | 2000                  |\n",
       "| Australia             | Melbourne             | 4 Gen. oBike          | 1250                  |\n",
       "| Australia             | Sydney                | 4 Gen. oBike          | 1250                  |\n",
       "| Australia             | Sydney                | 4 Gen. Ofo            | 600                   |\n",
       "| Australia             | Sydney                | Reddy Go              | 2000                  |\n",
       "| Austria               | Vienna                | 3 Gen. Cyclocity      | 1500                  |\n",
       "| Austria               | Burgenland            | 3 Gen. nextbike       | NA                    |\n",
       "| Austria               | Lower Austria         | 3 Gen. nextbike       | 1300                  |\n",
       "| Austria               | Salzburg              | 3 Gen. nextbike       | NA                    |\n",
       "| Austria               | Vienna                | 2 Gen.                | 1500                  |\n",
       "| Austria               | Vorarlberg            | 3 Gen. nextbike       | 70                    |\n",
       "| Bangladesh            | Dhaka                 | JoBike                | 300                   |\n",
       "| Belgium               | Namur                 | 3 Gen. Cyclocity      | 200                   |\n",
       "| Belgium               | Antwerp               | 3 Gen. Clear CC       | 3600                  |\n",
       "| Belgium               | Brussels              | 3 Gen. Cyclocity      | 4115[22]              |\n",
       "| Brazil                | Salvador              | tembici               | NA                    |\n",
       "| Brazil                | Belo Horizonte        | Mobilicidade          | 400                   |\n",
       "| Brazil                | Fortaleza             | Mobilicidade          | 800                   |\n",
       "| Brazil                | Jo<U+FFFD>o Pessoa    | Mobilicidade          | 20                    |\n",
       "| Brazil                | (Pedro de) Toledo     | Toopedalando          | 60                    |\n",
       "| Brazil                | Rio de Janeiro        | tembici               | 300                   |\n",
       "| Brazil                | S<U+FFFD>o Paulo      | tembici               | 600                   |\n",
       "| Brazil                | Sorocaba              | tembici               | 120                   |\n",
       "| Bulgaria              | Burgas                | Mobilicidade          | 120                   |\n",
       "| ... | ... | ... | ... |\n",
       "| United States                                    | Fullerton, California                            | Bike Nation                                      | 75                                               |\n",
       "| United States                                    | Hoboken, New Jersey                              | 3 Gen. nextbike                                  | 250                                              |\n",
       "| United States                                    | Houston, Texas                                   | 3 Gen. B-Cycle                                   | 400                                              |\n",
       "| United States                                    | Jersey City                                      | 8D                                               | 500                                              |\n",
       "| United States                                    | Kailua, Hawaii                                   | 3 Gen. B-Cycle                                   | 12                                               |\n",
       "| United States                                    | Kansas City, Missouri                            | 3 Gen. B-Cycle                                   | 300                                              |\n",
       "| United States                                    | Kona District, Hawaii                            | PBSC                                             | 30                                               |\n",
       "| United States                                    | Lansing, MI                                      | A2B Bikeshare                                    | 20                                               |\n",
       "| United States                                    | Lincoln, Nebraska                                | 3 Gen. B-Cycle                                   | 100                                              |\n",
       "| United States                                    | Los Angeles                                      | 3 Gen. B-Cycle                                   | 1000                                             |\n",
       "| United States                                    | Madison, Wisconsin                               | 3 Gen. B-Cycle                                   | 350                                              |\n",
       "| United States                                    | Milwaukee, Wisconsin                             | 3 Gen. B-Cycle                                   | 400+                                             |\n",
       "| United States                                    | Minneapolis, Minnesota and Saint Paul, Minnesota | PBSC & 8D                                        | 1833                                             |\n",
       "| United States                                    | Oklahoma City, Oklahoma                          | Spokies                                          | 100                                              |\n",
       "| United States                                    | Omaha, Nebraska                                  | 3 Gen. B-Cycle                                   | 35                                               |\n",
       "| United States                                    | Philadelphia, Pennsylvania                       | 3 Gen. B-Cycle                                   | 1000                                             |\n",
       "| United States                                    | Phoenix, Arizona                                 | 3 Gen. CycleHop and Social Bicycles              | 500                                              |\n",
       "| United States                                    | Pittsburgh, Pennsylvania                         | 3 Gen. nextbike                                  | 500                                              |\n",
       "| United States                                    | Portland, Oregon                                 | NA                                               | 1000                                             |\n",
       "| United States                                    | Portland, Oregon                                 | 1 Gen. WhiteBikes                                | 1000                                             |\n",
       "| United States                                    | Salt Lake City, Utah                             | 3 Gen. B-Cycle                                   | 100                                              |\n",
       "| United States                                    | San Antonio, Texas                               | 3 Gen. B-Cycle                                   | 600                                              |\n",
       "| United States                                    | San Diego                                        | DecoBike                                         | 1800                                             |\n",
       "| United States                                    | San Francisco Bay Area                           | NA                                               | NA                                               |\n",
       "| United States                                    | San Francisco Bay Area                           | 8D                                               | 7000                                             |\n",
       "| United States                                    | Santa Monica, California                         | 3 Gen. CycleHop and Social Bicycles              | 500                                              |\n",
       "| United States                                    | Savannah, Georgia                                | 3 Gen. B-Cycle                                   | 16                                               |\n",
       "| United States                                    | Seattle, Washington                              | 8D                                               | 500                                              |\n",
       "| United States                                    | Spartanburg, South Carolina                      | 3 Gen. B-Cycle                                   | 40                                               |\n",
       "| United States                                    | St. Paul                                         | 1 Gen. w/ BikeCard                               | NA                                               |\n",
       "\n"
      ],
      "text/plain": [
       "    COUNTRY       CITY                                            \n",
       "1   Albania       Tirana                                          \n",
       "2   Argentina     Mendoza                                         \n",
       "3   Argentina     San Lorenzo, Santa Fe                           \n",
       "4   Argentina     Buenos Aires                                    \n",
       "5   Argentina     Rosario                                         \n",
       "6   Australia     Melbourne                                       \n",
       "7   Australia     Brisbane                                        \n",
       "8   Australia     Melbourne                                       \n",
       "9   Australia     Sydney                                          \n",
       "10  Australia     Sydney                                          \n",
       "11  Australia     Sydney                                          \n",
       "12  Austria       Vienna                                          \n",
       "13  Austria       Burgenland                                      \n",
       "14  Austria       Lower Austria                                   \n",
       "15  Austria       Salzburg                                        \n",
       "16  Austria       Vienna                                          \n",
       "17  Austria       Vorarlberg                                      \n",
       "18  Bangladesh    Dhaka                                           \n",
       "19  Belgium       Namur                                           \n",
       "20  Belgium       Antwerp                                         \n",
       "21  Belgium       Brussels                                        \n",
       "22  Brazil        Salvador                                        \n",
       "23  Brazil        Belo Horizonte                                  \n",
       "24  Brazil        Fortaleza                                       \n",
       "25  Brazil        Jo<U+FFFD>o Pessoa                              \n",
       "26  Brazil        (Pedro de) Toledo                               \n",
       "27  Brazil        Rio de Janeiro                                  \n",
       "28  Brazil        S<U+FFFD>o Paulo                                \n",
       "29  Brazil        Sorocaba                                        \n",
       "30  Bulgaria      Burgas                                          \n",
       "... ...           ...                                             \n",
       "451 United States Fullerton, California                           \n",
       "452 United States Hoboken, New Jersey                             \n",
       "453 United States Houston, Texas                                  \n",
       "454 United States Jersey City                                     \n",
       "455 United States Kailua, Hawaii                                  \n",
       "456 United States Kansas City, Missouri                           \n",
       "457 United States Kona District, Hawaii                           \n",
       "458 United States Lansing, MI                                     \n",
       "459 United States Lincoln, Nebraska                               \n",
       "460 United States Los Angeles                                     \n",
       "461 United States Madison, Wisconsin                              \n",
       "462 United States Milwaukee, Wisconsin                            \n",
       "463 United States Minneapolis, Minnesota and Saint Paul, Minnesota\n",
       "464 United States Oklahoma City, Oklahoma                         \n",
       "465 United States Omaha, Nebraska                                 \n",
       "466 United States Philadelphia, Pennsylvania                      \n",
       "467 United States Phoenix, Arizona                                \n",
       "468 United States Pittsburgh, Pennsylvania                        \n",
       "469 United States Portland, Oregon                                \n",
       "470 United States Portland, Oregon                                \n",
       "471 United States Salt Lake City, Utah                            \n",
       "472 United States San Antonio, Texas                              \n",
       "473 United States San Diego                                       \n",
       "474 United States San Francisco Bay Area                          \n",
       "475 United States San Francisco Bay Area                          \n",
       "476 United States Santa Monica, California                        \n",
       "477 United States Savannah, Georgia                               \n",
       "478 United States Seattle, Washington                             \n",
       "479 United States Spartanburg, South Carolina                     \n",
       "480 United States St. Paul                                        \n",
       "    SYSTEM                              BICYCLES\n",
       "1   NA                                  200     \n",
       "2   NA                                  40      \n",
       "3   Biciudad                            80      \n",
       "4   Serttel Brasil                      4000    \n",
       "5   NA                                  480     \n",
       "6   PBSC & 8D                           676     \n",
       "7   3 Gen. Cyclocity                    2000    \n",
       "8   4 Gen. oBike                        1250    \n",
       "9   4 Gen. oBike                        1250    \n",
       "10  4 Gen. Ofo                          600     \n",
       "11  Reddy Go                            2000    \n",
       "12  3 Gen. Cyclocity                    1500    \n",
       "13  3 Gen. nextbike                     NA      \n",
       "14  3 Gen. nextbike                     1300    \n",
       "15  3 Gen. nextbike                     NA      \n",
       "16  2 Gen.                              1500    \n",
       "17  3 Gen. nextbike                     70      \n",
       "18  JoBike                              300     \n",
       "19  3 Gen. Cyclocity                    200     \n",
       "20  3 Gen. Clear CC                     3600    \n",
       "21  3 Gen. Cyclocity                    4115[22]\n",
       "22  tembici                             NA      \n",
       "23  Mobilicidade                        400     \n",
       "24  Mobilicidade                        800     \n",
       "25  Mobilicidade                        20      \n",
       "26  Toopedalando                        60      \n",
       "27  tembici                             300     \n",
       "28  tembici                             600     \n",
       "29  tembici                             120     \n",
       "30  Mobilicidade                        120     \n",
       "... ...                                 ...     \n",
       "451 Bike Nation                         75      \n",
       "452 3 Gen. nextbike                     250     \n",
       "453 3 Gen. B-Cycle                      400     \n",
       "454 8D                                  500     \n",
       "455 3 Gen. B-Cycle                      12      \n",
       "456 3 Gen. B-Cycle                      300     \n",
       "457 PBSC                                30      \n",
       "458 A2B Bikeshare                       20      \n",
       "459 3 Gen. B-Cycle                      100     \n",
       "460 3 Gen. B-Cycle                      1000    \n",
       "461 3 Gen. B-Cycle                      350     \n",
       "462 3 Gen. B-Cycle                      400+    \n",
       "463 PBSC & 8D                           1833    \n",
       "464 Spokies                             100     \n",
       "465 3 Gen. B-Cycle                      35      \n",
       "466 3 Gen. B-Cycle                      1000    \n",
       "467 3 Gen. CycleHop and Social Bicycles 500     \n",
       "468 3 Gen. nextbike                     500     \n",
       "469 NA                                  1000    \n",
       "470 1 Gen. WhiteBikes                   1000    \n",
       "471 3 Gen. B-Cycle                      100     \n",
       "472 3 Gen. B-Cycle                      600     \n",
       "473 DecoBike                            1800    \n",
       "474 NA                                  NA      \n",
       "475 8D                                  7000    \n",
       "476 3 Gen. CycleHop and Social Bicycles 500     \n",
       "477 3 Gen. B-Cycle                      16      \n",
       "478 8D                                  500     \n",
       "479 3 Gen. B-Cycle                      40      \n",
       "480 1 Gen. w/ BikeCard                  NA      "
      ]
     },
     "metadata": {},
     "output_type": "display_data"
    }
   ],
   "source": [
    "result <- sub_bike_sharing_df %>% mutate(CITY=remove_ref(CITY), SYSTEM=remove_ref(SYSTEM))\n",
    "result"
   ]
  },
  {
   "cell_type": "markdown",
   "metadata": {},
   "source": [
    "*TODO:* Use the following code to check whether all reference links are removed:\n"
   ]
  },
  {
   "cell_type": "code",
   "execution_count": 18,
   "metadata": {},
   "outputs": [
    {
     "data": {
      "text/html": [
       "<table>\n",
       "<thead><tr><th scope=col>CITY</th><th scope=col>SYSTEM</th><th scope=col>BICYCLES</th></tr></thead>\n",
       "<tbody>\n",
       "\t<tr><td>Brussels                                                                               </td><td>3 Gen. Cyclocity                                                                       </td><td>4115[22]                                                                               </td></tr>\n",
       "\t<tr><td>Limassol (&amp; Agios Dometios, Aglandjia, Dali, Engomi, Latsia, Pallouriotissa, Strovolos)</td><td><span style=white-space:pre-wrap>3 Gen. Smoove                  </span>                    </td><td><span style=white-space:pre-wrap>310[59]                        </span>                    </td></tr>\n",
       "\t<tr><td>Prague                                                                                 </td><td>NA                                                                                     </td><td>500[72]                                                                                </td></tr>\n",
       "\t<tr><td>Prague 7                                                                               </td><td>4 Gen. Ofo                                                                             </td><td>[75]                                                                                   </td></tr>\n",
       "\t<tr><td>Prostejov                                                                              </td><td>3 Gen. nextbike                                                                        </td><td>180[76]                                                                                </td></tr>\n",
       "\t<tr><td>Ostrava                                                                                </td><td>3 Gen. nextbike                                                                        </td><td>600[77]                                                                                </td></tr>\n",
       "\t<tr><td><span style=white-space:pre-wrap>Fars&lt;U+FFFD&gt;                                                                           </span></td><td><span style=white-space:pre-wrap>2 Gen                          </span>                                                              </td><td><span style=white-space:pre-wrap>[78]                           </span>                                                              </td></tr>\n",
       "\t<tr><td>Batumi                                                                                 </td><td>3 Gen. SmooveKey                                                                       </td><td>370[114]                                                                               </td></tr>\n",
       "\t<tr><td><span style=white-space:pre-wrap>Darmstadt                                                                              </span></td><td><span style=white-space:pre-wrap>3 &amp; 4 Gen. Call a Bike flex    </span>                                                    </td><td><span style=white-space:pre-wrap>350 [125]                      </span>                                                        </td></tr>\n",
       "\t<tr><td>Corfu                                                                                  </td><td>3 Gen. Smoove                                                                          </td><td>100[58]                                                                                </td></tr>\n",
       "\t<tr><td>Budapest                                                                               </td><td>3 Gen.                                                                                 </td><td>1526[159]                                                                              </td></tr>\n",
       "\t<tr><td>Gyor                                                                                   </td><td>NA                                                                                     </td><td>180[161]                                                                               </td></tr>\n",
       "\t<tr><td><span style=white-space:pre-wrap>Kaposv&lt;U+FFFD&gt;r                                                                        </span></td><td><span style=white-space:pre-wrap>NA                             </span>                                                              </td><td><span style=white-space:pre-wrap>32 (including 6 rollers)  [162]</span>                                                              </td></tr>\n",
       "\t<tr><td>Milan                                                                                  </td><td>3 Gen. Clear CC                                                                        </td><td>4650 (1000 E)[174]                                                                     </td></tr>\n",
       "\t<tr><td>Towns and cities in the Netherlands: all over the country, mainly at railway stations  </td><td>OV-Fiets/Nederlandse Spoorwegen                                                        </td><td>21700 [187]                                                                            </td></tr>\n",
       "\t<tr><td>Kazan                                                                                  </td><td>3 Gen. Cyclocity                                                                       </td><td>120[206]                                                                               </td></tr>\n",
       "\t<tr><td>Bratislava                                                                             </td><td>NA                                                                                     </td><td>400[208]                                                                               </td></tr>\n",
       "\t<tr><td><span style=white-space:pre-wrap>Ko&lt;U+FFFD&gt;ice                                                                          </span></td><td><span style=white-space:pre-wrap>NA                             </span>                                                              </td><td><span style=white-space:pre-wrap>200[212]                       </span>                                                              </td></tr>\n",
       "\t<tr><td>Moldava nad Bodvou                                                                     </td><td>NA                                                                                     </td><td>25[214]                                                                                </td></tr>\n",
       "\t<tr><td>Poprad                                                                                 </td><td>NA                                                                                     </td><td>85[217]                                                                                </td></tr>\n",
       "\t<tr><td><span style=white-space:pre-wrap>&lt;U+FFFD&gt;ilina                                                                          </span></td><td><span style=white-space:pre-wrap>nextbike                       </span>                                                              </td><td><span style=white-space:pre-wrap>120[221]                       </span>                                                              </td></tr>\n",
       "\t<tr><td>Changwon                                                                               </td><td>NA                                                                                     </td><td>2348[230]                                                                              </td></tr>\n",
       "\t<tr><td>Glasgow (Scotland)                                                                     </td><td>3 Gen. nextbike                                                                        </td><td>400[251]                                                                               </td></tr>\n",
       "\t<tr><td>Edinburgh (Scotland)                                                                   </td><td>Urban Sharing                                                                          </td><td>500[252]                                                                               </td></tr>\n",
       "\t<tr><td>Liverpool (England)                                                                    </td><td>NA                                                                                     </td><td>1000[253]                                                                              </td></tr>\n",
       "</tbody>\n",
       "</table>\n"
      ],
      "text/latex": [
       "\\begin{tabular}{r|lll}\n",
       " CITY & SYSTEM & BICYCLES\\\\\n",
       "\\hline\n",
       "\t Brussels                                                                                & 3 Gen. Cyclocity                                                                        & 4115{[}22{]}                                                                           \\\\\n",
       "\t Limassol (\\& Agios Dometios, Aglandjia, Dali, Engomi, Latsia, Pallouriotissa, Strovolos) & 3 Gen. Smoove                                                                             & 310{[}59{]}                                                                              \\\\\n",
       "\t Prague                                                                                  & NA                                                                                      & 500{[}72{]}                                                                            \\\\\n",
       "\t Prague 7                                                                                & 4 Gen. Ofo                                                                              & {[}75{]}                                                                               \\\\\n",
       "\t Prostejov                                                                               & 3 Gen. nextbike                                                                         & 180{[}76{]}                                                                            \\\\\n",
       "\t Ostrava                                                                                 & 3 Gen. nextbike                                                                         & 600{[}77{]}                                                                            \\\\\n",
       "\t Fars<U+FFFD>                                                                            & 2 Gen                                                                                   & {[}78{]}                                                                               \\\\\n",
       "\t Batumi                                                                                  & 3 Gen. SmooveKey                                                                        & 370{[}114{]}                                                                           \\\\\n",
       "\t Darmstadt                                                                               & 3 \\& 4 Gen. Call a Bike flex                                                           & 350 {[}125{]}                                                                          \\\\\n",
       "\t Corfu                                                                                   & 3 Gen. Smoove                                                                           & 100{[}58{]}                                                                            \\\\\n",
       "\t Budapest                                                                                & 3 Gen.                                                                                  & 1526{[}159{]}                                                                          \\\\\n",
       "\t Gyor                                                                                    & NA                                                                                      & 180{[}161{]}                                                                           \\\\\n",
       "\t Kaposv<U+FFFD>r                                                                         & NA                                                                                      & 32 (including 6 rollers)  {[}162{]}                                                    \\\\\n",
       "\t Milan                                                                                   & 3 Gen. Clear CC                                                                         & 4650 (1000 E){[}174{]}                                                                 \\\\\n",
       "\t Towns and cities in the Netherlands: all over the country, mainly at railway stations   & OV-Fiets/Nederlandse Spoorwegen                                                         & 21700 {[}187{]}                                                                        \\\\\n",
       "\t Kazan                                                                                   & 3 Gen. Cyclocity                                                                        & 120{[}206{]}                                                                           \\\\\n",
       "\t Bratislava                                                                              & NA                                                                                      & 400{[}208{]}                                                                           \\\\\n",
       "\t Ko<U+FFFD>ice                                                                           & NA                                                                                      & 200{[}212{]}                                                                           \\\\\n",
       "\t Moldava nad Bodvou                                                                      & NA                                                                                      & 25{[}214{]}                                                                            \\\\\n",
       "\t Poprad                                                                                  & NA                                                                                      & 85{[}217{]}                                                                            \\\\\n",
       "\t <U+FFFD>ilina                                                                           & nextbike                                                                                & 120{[}221{]}                                                                           \\\\\n",
       "\t Changwon                                                                                & NA                                                                                      & 2348{[}230{]}                                                                          \\\\\n",
       "\t Glasgow (Scotland)                                                                      & 3 Gen. nextbike                                                                         & 400{[}251{]}                                                                           \\\\\n",
       "\t Edinburgh (Scotland)                                                                    & Urban Sharing                                                                           & 500{[}252{]}                                                                           \\\\\n",
       "\t Liverpool (England)                                                                     & NA                                                                                      & 1000{[}253{]}                                                                          \\\\\n",
       "\\end{tabular}\n"
      ],
      "text/markdown": [
       "\n",
       "| CITY | SYSTEM | BICYCLES |\n",
       "|---|---|---|\n",
       "| Brussels                                                                                | 3 Gen. Cyclocity                                                                        | 4115[22]                                                                                |\n",
       "| Limassol (& Agios Dometios, Aglandjia, Dali, Engomi, Latsia, Pallouriotissa, Strovolos) | 3 Gen. Smoove                                                                           | 310[59]                                                                                 |\n",
       "| Prague                                                                                  | NA                                                                                      | 500[72]                                                                                 |\n",
       "| Prague 7                                                                                | 4 Gen. Ofo                                                                              | [75]                                                                                    |\n",
       "| Prostejov                                                                               | 3 Gen. nextbike                                                                         | 180[76]                                                                                 |\n",
       "| Ostrava                                                                                 | 3 Gen. nextbike                                                                         | 600[77]                                                                                 |\n",
       "| Fars<U+FFFD>                                                                            | 2 Gen                                                                                   | [78]                                                                                    |\n",
       "| Batumi                                                                                  | 3 Gen. SmooveKey                                                                        | 370[114]                                                                                |\n",
       "| Darmstadt                                                                               | 3 & 4 Gen. Call a Bike flex                                                             | 350 [125]                                                                               |\n",
       "| Corfu                                                                                   | 3 Gen. Smoove                                                                           | 100[58]                                                                                 |\n",
       "| Budapest                                                                                | 3 Gen.                                                                                  | 1526[159]                                                                               |\n",
       "| Gyor                                                                                    | NA                                                                                      | 180[161]                                                                                |\n",
       "| Kaposv<U+FFFD>r                                                                         | NA                                                                                      | 32 (including 6 rollers)  [162]                                                         |\n",
       "| Milan                                                                                   | 3 Gen. Clear CC                                                                         | 4650 (1000 E)[174]                                                                      |\n",
       "| Towns and cities in the Netherlands: all over the country, mainly at railway stations   | OV-Fiets/Nederlandse Spoorwegen                                                         | 21700 [187]                                                                             |\n",
       "| Kazan                                                                                   | 3 Gen. Cyclocity                                                                        | 120[206]                                                                                |\n",
       "| Bratislava                                                                              | NA                                                                                      | 400[208]                                                                                |\n",
       "| Ko<U+FFFD>ice                                                                           | NA                                                                                      | 200[212]                                                                                |\n",
       "| Moldava nad Bodvou                                                                      | NA                                                                                      | 25[214]                                                                                 |\n",
       "| Poprad                                                                                  | NA                                                                                      | 85[217]                                                                                 |\n",
       "| <U+FFFD>ilina                                                                           | nextbike                                                                                | 120[221]                                                                                |\n",
       "| Changwon                                                                                | NA                                                                                      | 2348[230]                                                                               |\n",
       "| Glasgow (Scotland)                                                                      | 3 Gen. nextbike                                                                         | 400[251]                                                                                |\n",
       "| Edinburgh (Scotland)                                                                    | Urban Sharing                                                                           | 500[252]                                                                                |\n",
       "| Liverpool (England)                                                                     | NA                                                                                      | 1000[253]                                                                               |\n",
       "\n"
      ],
      "text/plain": [
       "   CITY                                                                                   \n",
       "1  Brussels                                                                               \n",
       "2  Limassol (& Agios Dometios, Aglandjia, Dali, Engomi, Latsia, Pallouriotissa, Strovolos)\n",
       "3  Prague                                                                                 \n",
       "4  Prague 7                                                                               \n",
       "5  Prostejov                                                                              \n",
       "6  Ostrava                                                                                \n",
       "7  Fars<U+FFFD>                                                                           \n",
       "8  Batumi                                                                                 \n",
       "9  Darmstadt                                                                              \n",
       "10 Corfu                                                                                  \n",
       "11 Budapest                                                                               \n",
       "12 Gyor                                                                                   \n",
       "13 Kaposv<U+FFFD>r                                                                        \n",
       "14 Milan                                                                                  \n",
       "15 Towns and cities in the Netherlands: all over the country, mainly at railway stations  \n",
       "16 Kazan                                                                                  \n",
       "17 Bratislava                                                                             \n",
       "18 Ko<U+FFFD>ice                                                                          \n",
       "19 Moldava nad Bodvou                                                                     \n",
       "20 Poprad                                                                                 \n",
       "21 <U+FFFD>ilina                                                                          \n",
       "22 Changwon                                                                               \n",
       "23 Glasgow (Scotland)                                                                     \n",
       "24 Edinburgh (Scotland)                                                                   \n",
       "25 Liverpool (England)                                                                    \n",
       "   SYSTEM                          BICYCLES                       \n",
       "1  3 Gen. Cyclocity                4115[22]                       \n",
       "2  3 Gen. Smoove                   310[59]                        \n",
       "3  NA                              500[72]                        \n",
       "4  4 Gen. Ofo                      [75]                           \n",
       "5  3 Gen. nextbike                 180[76]                        \n",
       "6  3 Gen. nextbike                 600[77]                        \n",
       "7  2 Gen                           [78]                           \n",
       "8  3 Gen. SmooveKey                370[114]                       \n",
       "9  3 & 4 Gen. Call a Bike flex     350 [125]                      \n",
       "10 3 Gen. Smoove                   100[58]                        \n",
       "11 3 Gen.                          1526[159]                      \n",
       "12 NA                              180[161]                       \n",
       "13 NA                              32 (including 6 rollers)  [162]\n",
       "14 3 Gen. Clear CC                 4650 (1000 E)[174]             \n",
       "15 OV-Fiets/Nederlandse Spoorwegen 21700 [187]                    \n",
       "16 3 Gen. Cyclocity                120[206]                       \n",
       "17 NA                              400[208]                       \n",
       "18 NA                              200[212]                       \n",
       "19 NA                              25[214]                        \n",
       "20 NA                              85[217]                        \n",
       "21 nextbike                        120[221]                       \n",
       "22 NA                              2348[230]                      \n",
       "23 3 Gen. nextbike                 400[251]                       \n",
       "24 Urban Sharing                   500[252]                       \n",
       "25 NA                              1000[253]                      "
      ]
     },
     "metadata": {},
     "output_type": "display_data"
    }
   ],
   "source": [
    "result %>% \n",
    "    select(CITY, SYSTEM, BICYCLES) %>% \n",
    "    filter(find_reference_pattern(CITY) | find_reference_pattern(SYSTEM) | find_reference_pattern(BICYCLES))"
   ]
  },
  {
   "cell_type": "markdown",
   "metadata": {},
   "source": [
    "# TASK: Extract the numeric value using regular expressions\n"
   ]
  },
  {
   "cell_type": "markdown",
   "metadata": {},
   "source": [
    "*TODO:* Write a custom function using `stringr::str_extract` to extract the first digital substring match and convert it into numeric type For example, extract the value '32' from `32 (including 6 rollers) [162]`.\n"
   ]
  },
  {
   "cell_type": "code",
   "execution_count": 19,
   "metadata": {},
   "outputs": [],
   "source": [
    "# Extract the first number\n",
    "extract_num <- function(columns){\n",
    "    # Define a digital pattern\n",
    "    digital_pattern <- \"[0-9]+\"\n",
    "    # Find the first match using str_extract\n",
    "    str_extract(columns, digital_pattern)\n",
    "    # Convert the result to numeric using the as.numeric() function\n",
    "    as.numeric(columns)\n",
    "}"
   ]
  },
  {
   "cell_type": "markdown",
   "metadata": {},
   "source": [
    "*TODO:* Use the `dplyr::mutate()` function to apply `extract_num` on the `BICYCLES` column\n"
   ]
  },
  {
   "cell_type": "code",
   "execution_count": 20,
   "metadata": {},
   "outputs": [
    {
     "name": "stderr",
     "output_type": "stream",
     "text": [
      "Warning message in extract_num(BICYCLES):\n",
      "\"NAs introducidos por coerción\""
     ]
    },
    {
     "data": {
      "text/html": [
       "<table>\n",
       "<thead><tr><th scope=col>COUNTRY</th><th scope=col>CITY</th><th scope=col>SYSTEM</th><th scope=col>BICYCLES</th></tr></thead>\n",
       "<tbody>\n",
       "\t<tr><td>Albania              </td><td>Tirana               </td><td>NA                   </td><td> 200                 </td></tr>\n",
       "\t<tr><td>Argentina            </td><td>Mendoza              </td><td>NA                   </td><td>  40                 </td></tr>\n",
       "\t<tr><td>Argentina            </td><td>San Lorenzo, Santa Fe</td><td>Biciudad             </td><td>  80                 </td></tr>\n",
       "\t<tr><td>Argentina            </td><td>Buenos Aires         </td><td>Serttel Brasil       </td><td>4000                 </td></tr>\n",
       "\t<tr><td>Argentina            </td><td>Rosario              </td><td>NA                   </td><td> 480                 </td></tr>\n",
       "\t<tr><td>Australia                                                    </td><td><span style=white-space:pre-wrap>Melbourne            </span></td><td><span style=white-space:pre-wrap>PBSC &amp; 8D       </span> </td><td> 676                                                         </td></tr>\n",
       "\t<tr><td>Australia            </td><td>Brisbane             </td><td>3 Gen. Cyclocity     </td><td>2000                 </td></tr>\n",
       "\t<tr><td>Australia            </td><td>Melbourne            </td><td>4 Gen. oBike         </td><td>1250                 </td></tr>\n",
       "\t<tr><td>Australia            </td><td>Sydney               </td><td>4 Gen. oBike         </td><td>1250                 </td></tr>\n",
       "\t<tr><td>Australia            </td><td>Sydney               </td><td>4 Gen. Ofo           </td><td> 600                 </td></tr>\n",
       "\t<tr><td>Australia            </td><td>Sydney               </td><td>Reddy Go             </td><td>2000                 </td></tr>\n",
       "\t<tr><td>Austria              </td><td>Vienna               </td><td>3 Gen. Cyclocity     </td><td>1500                 </td></tr>\n",
       "\t<tr><td>Austria              </td><td>Burgenland           </td><td>3 Gen. nextbike      </td><td>  NA                 </td></tr>\n",
       "\t<tr><td>Austria              </td><td>Lower Austria        </td><td>3 Gen. nextbike      </td><td>1300                 </td></tr>\n",
       "\t<tr><td>Austria              </td><td>Salzburg             </td><td>3 Gen. nextbike      </td><td>  NA                 </td></tr>\n",
       "\t<tr><td>Austria              </td><td>Vienna               </td><td>2 Gen.               </td><td>1500                 </td></tr>\n",
       "\t<tr><td>Austria              </td><td>Vorarlberg           </td><td>3 Gen. nextbike      </td><td>  70                 </td></tr>\n",
       "\t<tr><td>Bangladesh           </td><td>Dhaka                </td><td>JoBike               </td><td> 300                 </td></tr>\n",
       "\t<tr><td>Belgium              </td><td>Namur                </td><td>3 Gen. Cyclocity     </td><td> 200                 </td></tr>\n",
       "\t<tr><td>Belgium              </td><td>Antwerp              </td><td>3 Gen. Clear CC      </td><td>3600                 </td></tr>\n",
       "\t<tr><td>Belgium              </td><td>Brussels             </td><td>3 Gen. Cyclocity     </td><td>  NA                 </td></tr>\n",
       "\t<tr><td>Brazil               </td><td>Salvador             </td><td>tembici              </td><td>  NA                 </td></tr>\n",
       "\t<tr><td>Brazil               </td><td>Belo Horizonte       </td><td>Mobilicidade         </td><td> 400                 </td></tr>\n",
       "\t<tr><td>Brazil               </td><td>Fortaleza            </td><td>Mobilicidade         </td><td> 800                 </td></tr>\n",
       "\t<tr><td><span style=white-space:pre-wrap>Brazil    </span>                 </td><td><span style=white-space:pre-wrap>Jo&lt;U+FFFD&gt;o Pessoa   </span></td><td><span style=white-space:pre-wrap>Mobilicidade    </span>           </td><td><span style=white-space:pre-wrap>  20</span>                       </td></tr>\n",
       "\t<tr><td>Brazil               </td><td>(Pedro de) Toledo    </td><td>Toopedalando         </td><td>  60                 </td></tr>\n",
       "\t<tr><td>Brazil               </td><td>Rio de Janeiro       </td><td>tembici              </td><td> 300                 </td></tr>\n",
       "\t<tr><td><span style=white-space:pre-wrap>Brazil    </span>                 </td><td><span style=white-space:pre-wrap>S&lt;U+FFFD&gt;o Paulo     </span></td><td><span style=white-space:pre-wrap>tembici         </span>           </td><td> 600                                                               </td></tr>\n",
       "\t<tr><td>Brazil               </td><td>Sorocaba             </td><td>tembici              </td><td> 120                 </td></tr>\n",
       "\t<tr><td>Bulgaria             </td><td>Burgas               </td><td>Mobilicidade         </td><td> 120                 </td></tr>\n",
       "\t<tr><td>...</td><td>...</td><td>...</td><td>...</td></tr>\n",
       "\t<tr><td>United States                                   </td><td>Fullerton, California                           </td><td>Bike Nation                                     </td><td>  75                                            </td></tr>\n",
       "\t<tr><td>United States                                   </td><td>Hoboken, New Jersey                             </td><td>3 Gen. nextbike                                 </td><td> 250                                            </td></tr>\n",
       "\t<tr><td>United States                                   </td><td>Houston, Texas                                  </td><td>3 Gen. B-Cycle                                  </td><td> 400                                            </td></tr>\n",
       "\t<tr><td>United States                                   </td><td>Jersey City                                     </td><td>8D                                              </td><td> 500                                            </td></tr>\n",
       "\t<tr><td>United States                                   </td><td>Kailua, Hawaii                                  </td><td>3 Gen. B-Cycle                                  </td><td>  12                                            </td></tr>\n",
       "\t<tr><td>United States                                   </td><td>Kansas City, Missouri                           </td><td>3 Gen. B-Cycle                                  </td><td> 300                                            </td></tr>\n",
       "\t<tr><td>United States                                   </td><td>Kona District, Hawaii                           </td><td>PBSC                                            </td><td>  30                                            </td></tr>\n",
       "\t<tr><td>United States                                   </td><td>Lansing, MI                                     </td><td>A2B Bikeshare                                   </td><td>  20                                            </td></tr>\n",
       "\t<tr><td>United States                                   </td><td>Lincoln, Nebraska                               </td><td>3 Gen. B-Cycle                                  </td><td> 100                                            </td></tr>\n",
       "\t<tr><td>United States                                   </td><td>Los Angeles                                     </td><td>3 Gen. B-Cycle                                  </td><td>1000                                            </td></tr>\n",
       "\t<tr><td>United States                                   </td><td>Madison, Wisconsin                              </td><td>3 Gen. B-Cycle                                  </td><td> 350                                            </td></tr>\n",
       "\t<tr><td>United States                                   </td><td>Milwaukee, Wisconsin                            </td><td>3 Gen. B-Cycle                                  </td><td>  NA                                            </td></tr>\n",
       "\t<tr><td>United States                                                                  </td><td>Minneapolis, Minnesota and Saint Paul, Minnesota                               </td><td><span style=white-space:pre-wrap>PBSC &amp; 8D                          </span></td><td>1833                                                                           </td></tr>\n",
       "\t<tr><td>United States                                   </td><td>Oklahoma City, Oklahoma                         </td><td>Spokies                                         </td><td> 100                                            </td></tr>\n",
       "\t<tr><td>United States                                   </td><td>Omaha, Nebraska                                 </td><td>3 Gen. B-Cycle                                  </td><td>  35                                            </td></tr>\n",
       "\t<tr><td>United States                                   </td><td>Philadelphia, Pennsylvania                      </td><td>3 Gen. B-Cycle                                  </td><td>1000                                            </td></tr>\n",
       "\t<tr><td>United States                                   </td><td>Phoenix, Arizona                                </td><td>3 Gen. CycleHop and Social Bicycles             </td><td> 500                                            </td></tr>\n",
       "\t<tr><td>United States                                   </td><td>Pittsburgh, Pennsylvania                        </td><td>3 Gen. nextbike                                 </td><td> 500                                            </td></tr>\n",
       "\t<tr><td>United States                                   </td><td>Portland, Oregon                                </td><td>NA                                              </td><td>1000                                            </td></tr>\n",
       "\t<tr><td>United States                                   </td><td>Portland, Oregon                                </td><td>1 Gen. WhiteBikes                               </td><td>1000                                            </td></tr>\n",
       "\t<tr><td>United States                                   </td><td>Salt Lake City, Utah                            </td><td>3 Gen. B-Cycle                                  </td><td> 100                                            </td></tr>\n",
       "\t<tr><td>United States                                   </td><td>San Antonio, Texas                              </td><td>3 Gen. B-Cycle                                  </td><td> 600                                            </td></tr>\n",
       "\t<tr><td>United States                                   </td><td>San Diego                                       </td><td>DecoBike                                        </td><td>1800                                            </td></tr>\n",
       "\t<tr><td>United States                                   </td><td>San Francisco Bay Area                          </td><td>NA                                              </td><td>  NA                                            </td></tr>\n",
       "\t<tr><td>United States                                   </td><td>San Francisco Bay Area                          </td><td>8D                                              </td><td>7000                                            </td></tr>\n",
       "\t<tr><td>United States                                   </td><td>Santa Monica, California                        </td><td>3 Gen. CycleHop and Social Bicycles             </td><td> 500                                            </td></tr>\n",
       "\t<tr><td>United States                                   </td><td>Savannah, Georgia                               </td><td>3 Gen. B-Cycle                                  </td><td>  16                                            </td></tr>\n",
       "\t<tr><td>United States                                   </td><td>Seattle, Washington                             </td><td>8D                                              </td><td> 500                                            </td></tr>\n",
       "\t<tr><td>United States                                   </td><td>Spartanburg, South Carolina                     </td><td>3 Gen. B-Cycle                                  </td><td>  40                                            </td></tr>\n",
       "\t<tr><td>United States                                   </td><td>St. Paul                                        </td><td>1 Gen. w/ BikeCard                              </td><td>  NA                                            </td></tr>\n",
       "</tbody>\n",
       "</table>\n"
      ],
      "text/latex": [
       "\\begin{tabular}{r|llll}\n",
       " COUNTRY & CITY & SYSTEM & BICYCLES\\\\\n",
       "\\hline\n",
       "\t Albania               & Tirana                & NA                    &  200                 \\\\\n",
       "\t Argentina             & Mendoza               & NA                    &   40                 \\\\\n",
       "\t Argentina             & San Lorenzo, Santa Fe & Biciudad              &   80                 \\\\\n",
       "\t Argentina             & Buenos Aires          & Serttel Brasil        & 4000                 \\\\\n",
       "\t Argentina             & Rosario               & NA                    &  480                 \\\\\n",
       "\t Australia             & Melbourne             & PBSC \\& 8D           &  676                 \\\\\n",
       "\t Australia             & Brisbane              & 3 Gen. Cyclocity      & 2000                 \\\\\n",
       "\t Australia             & Melbourne             & 4 Gen. oBike          & 1250                 \\\\\n",
       "\t Australia             & Sydney                & 4 Gen. oBike          & 1250                 \\\\\n",
       "\t Australia             & Sydney                & 4 Gen. Ofo            &  600                 \\\\\n",
       "\t Australia             & Sydney                & Reddy Go              & 2000                 \\\\\n",
       "\t Austria               & Vienna                & 3 Gen. Cyclocity      & 1500                 \\\\\n",
       "\t Austria               & Burgenland            & 3 Gen. nextbike       &   NA                 \\\\\n",
       "\t Austria               & Lower Austria         & 3 Gen. nextbike       & 1300                 \\\\\n",
       "\t Austria               & Salzburg              & 3 Gen. nextbike       &   NA                 \\\\\n",
       "\t Austria               & Vienna                & 2 Gen.                & 1500                 \\\\\n",
       "\t Austria               & Vorarlberg            & 3 Gen. nextbike       &   70                 \\\\\n",
       "\t Bangladesh            & Dhaka                 & JoBike                &  300                 \\\\\n",
       "\t Belgium               & Namur                 & 3 Gen. Cyclocity      &  200                 \\\\\n",
       "\t Belgium               & Antwerp               & 3 Gen. Clear CC       & 3600                 \\\\\n",
       "\t Belgium               & Brussels              & 3 Gen. Cyclocity      &   NA                 \\\\\n",
       "\t Brazil                & Salvador              & tembici               &   NA                 \\\\\n",
       "\t Brazil                & Belo Horizonte        & Mobilicidade          &  400                 \\\\\n",
       "\t Brazil                & Fortaleza             & Mobilicidade          &  800                 \\\\\n",
       "\t Brazil                & Jo<U+FFFD>o Pessoa    & Mobilicidade          &   20                 \\\\\n",
       "\t Brazil                & (Pedro de) Toledo     & Toopedalando          &   60                 \\\\\n",
       "\t Brazil                & Rio de Janeiro        & tembici               &  300                 \\\\\n",
       "\t Brazil                & S<U+FFFD>o Paulo      & tembici               &  600                 \\\\\n",
       "\t Brazil                & Sorocaba              & tembici               &  120                 \\\\\n",
       "\t Bulgaria              & Burgas                & Mobilicidade          &  120                 \\\\\n",
       "\t ... & ... & ... & ...\\\\\n",
       "\t United States                                    & Fullerton, California                            & Bike Nation                                      &   75                                            \\\\\n",
       "\t United States                                    & Hoboken, New Jersey                              & 3 Gen. nextbike                                  &  250                                            \\\\\n",
       "\t United States                                    & Houston, Texas                                   & 3 Gen. B-Cycle                                   &  400                                            \\\\\n",
       "\t United States                                    & Jersey City                                      & 8D                                               &  500                                            \\\\\n",
       "\t United States                                    & Kailua, Hawaii                                   & 3 Gen. B-Cycle                                   &   12                                            \\\\\n",
       "\t United States                                    & Kansas City, Missouri                            & 3 Gen. B-Cycle                                   &  300                                            \\\\\n",
       "\t United States                                    & Kona District, Hawaii                            & PBSC                                             &   30                                            \\\\\n",
       "\t United States                                    & Lansing, MI                                      & A2B Bikeshare                                    &   20                                            \\\\\n",
       "\t United States                                    & Lincoln, Nebraska                                & 3 Gen. B-Cycle                                   &  100                                            \\\\\n",
       "\t United States                                    & Los Angeles                                      & 3 Gen. B-Cycle                                   & 1000                                            \\\\\n",
       "\t United States                                    & Madison, Wisconsin                               & 3 Gen. B-Cycle                                   &  350                                            \\\\\n",
       "\t United States                                    & Milwaukee, Wisconsin                             & 3 Gen. B-Cycle                                   &   NA                                            \\\\\n",
       "\t United States                                    & Minneapolis, Minnesota and Saint Paul, Minnesota & PBSC \\& 8D                                      & 1833                                            \\\\\n",
       "\t United States                                    & Oklahoma City, Oklahoma                          & Spokies                                          &  100                                            \\\\\n",
       "\t United States                                    & Omaha, Nebraska                                  & 3 Gen. B-Cycle                                   &   35                                            \\\\\n",
       "\t United States                                    & Philadelphia, Pennsylvania                       & 3 Gen. B-Cycle                                   & 1000                                            \\\\\n",
       "\t United States                                    & Phoenix, Arizona                                 & 3 Gen. CycleHop and Social Bicycles              &  500                                            \\\\\n",
       "\t United States                                    & Pittsburgh, Pennsylvania                         & 3 Gen. nextbike                                  &  500                                            \\\\\n",
       "\t United States                                    & Portland, Oregon                                 & NA                                               & 1000                                            \\\\\n",
       "\t United States                                    & Portland, Oregon                                 & 1 Gen. WhiteBikes                                & 1000                                            \\\\\n",
       "\t United States                                    & Salt Lake City, Utah                             & 3 Gen. B-Cycle                                   &  100                                            \\\\\n",
       "\t United States                                    & San Antonio, Texas                               & 3 Gen. B-Cycle                                   &  600                                            \\\\\n",
       "\t United States                                    & San Diego                                        & DecoBike                                         & 1800                                            \\\\\n",
       "\t United States                                    & San Francisco Bay Area                           & NA                                               &   NA                                            \\\\\n",
       "\t United States                                    & San Francisco Bay Area                           & 8D                                               & 7000                                            \\\\\n",
       "\t United States                                    & Santa Monica, California                         & 3 Gen. CycleHop and Social Bicycles              &  500                                            \\\\\n",
       "\t United States                                    & Savannah, Georgia                                & 3 Gen. B-Cycle                                   &   16                                            \\\\\n",
       "\t United States                                    & Seattle, Washington                              & 8D                                               &  500                                            \\\\\n",
       "\t United States                                    & Spartanburg, South Carolina                      & 3 Gen. B-Cycle                                   &   40                                            \\\\\n",
       "\t United States                                    & St. Paul                                         & 1 Gen. w/ BikeCard                               &   NA                                            \\\\\n",
       "\\end{tabular}\n"
      ],
      "text/markdown": [
       "\n",
       "| COUNTRY | CITY | SYSTEM | BICYCLES |\n",
       "|---|---|---|---|\n",
       "| Albania               | Tirana                | NA                    |  200                  |\n",
       "| Argentina             | Mendoza               | NA                    |   40                  |\n",
       "| Argentina             | San Lorenzo, Santa Fe | Biciudad              |   80                  |\n",
       "| Argentina             | Buenos Aires          | Serttel Brasil        | 4000                  |\n",
       "| Argentina             | Rosario               | NA                    |  480                  |\n",
       "| Australia             | Melbourne             | PBSC & 8D             |  676                  |\n",
       "| Australia             | Brisbane              | 3 Gen. Cyclocity      | 2000                  |\n",
       "| Australia             | Melbourne             | 4 Gen. oBike          | 1250                  |\n",
       "| Australia             | Sydney                | 4 Gen. oBike          | 1250                  |\n",
       "| Australia             | Sydney                | 4 Gen. Ofo            |  600                  |\n",
       "| Australia             | Sydney                | Reddy Go              | 2000                  |\n",
       "| Austria               | Vienna                | 3 Gen. Cyclocity      | 1500                  |\n",
       "| Austria               | Burgenland            | 3 Gen. nextbike       |   NA                  |\n",
       "| Austria               | Lower Austria         | 3 Gen. nextbike       | 1300                  |\n",
       "| Austria               | Salzburg              | 3 Gen. nextbike       |   NA                  |\n",
       "| Austria               | Vienna                | 2 Gen.                | 1500                  |\n",
       "| Austria               | Vorarlberg            | 3 Gen. nextbike       |   70                  |\n",
       "| Bangladesh            | Dhaka                 | JoBike                |  300                  |\n",
       "| Belgium               | Namur                 | 3 Gen. Cyclocity      |  200                  |\n",
       "| Belgium               | Antwerp               | 3 Gen. Clear CC       | 3600                  |\n",
       "| Belgium               | Brussels              | 3 Gen. Cyclocity      |   NA                  |\n",
       "| Brazil                | Salvador              | tembici               |   NA                  |\n",
       "| Brazil                | Belo Horizonte        | Mobilicidade          |  400                  |\n",
       "| Brazil                | Fortaleza             | Mobilicidade          |  800                  |\n",
       "| Brazil                | Jo<U+FFFD>o Pessoa    | Mobilicidade          |   20                  |\n",
       "| Brazil                | (Pedro de) Toledo     | Toopedalando          |   60                  |\n",
       "| Brazil                | Rio de Janeiro        | tembici               |  300                  |\n",
       "| Brazil                | S<U+FFFD>o Paulo      | tembici               |  600                  |\n",
       "| Brazil                | Sorocaba              | tembici               |  120                  |\n",
       "| Bulgaria              | Burgas                | Mobilicidade          |  120                  |\n",
       "| ... | ... | ... | ... |\n",
       "| United States                                    | Fullerton, California                            | Bike Nation                                      |   75                                             |\n",
       "| United States                                    | Hoboken, New Jersey                              | 3 Gen. nextbike                                  |  250                                             |\n",
       "| United States                                    | Houston, Texas                                   | 3 Gen. B-Cycle                                   |  400                                             |\n",
       "| United States                                    | Jersey City                                      | 8D                                               |  500                                             |\n",
       "| United States                                    | Kailua, Hawaii                                   | 3 Gen. B-Cycle                                   |   12                                             |\n",
       "| United States                                    | Kansas City, Missouri                            | 3 Gen. B-Cycle                                   |  300                                             |\n",
       "| United States                                    | Kona District, Hawaii                            | PBSC                                             |   30                                             |\n",
       "| United States                                    | Lansing, MI                                      | A2B Bikeshare                                    |   20                                             |\n",
       "| United States                                    | Lincoln, Nebraska                                | 3 Gen. B-Cycle                                   |  100                                             |\n",
       "| United States                                    | Los Angeles                                      | 3 Gen. B-Cycle                                   | 1000                                             |\n",
       "| United States                                    | Madison, Wisconsin                               | 3 Gen. B-Cycle                                   |  350                                             |\n",
       "| United States                                    | Milwaukee, Wisconsin                             | 3 Gen. B-Cycle                                   |   NA                                             |\n",
       "| United States                                    | Minneapolis, Minnesota and Saint Paul, Minnesota | PBSC & 8D                                        | 1833                                             |\n",
       "| United States                                    | Oklahoma City, Oklahoma                          | Spokies                                          |  100                                             |\n",
       "| United States                                    | Omaha, Nebraska                                  | 3 Gen. B-Cycle                                   |   35                                             |\n",
       "| United States                                    | Philadelphia, Pennsylvania                       | 3 Gen. B-Cycle                                   | 1000                                             |\n",
       "| United States                                    | Phoenix, Arizona                                 | 3 Gen. CycleHop and Social Bicycles              |  500                                             |\n",
       "| United States                                    | Pittsburgh, Pennsylvania                         | 3 Gen. nextbike                                  |  500                                             |\n",
       "| United States                                    | Portland, Oregon                                 | NA                                               | 1000                                             |\n",
       "| United States                                    | Portland, Oregon                                 | 1 Gen. WhiteBikes                                | 1000                                             |\n",
       "| United States                                    | Salt Lake City, Utah                             | 3 Gen. B-Cycle                                   |  100                                             |\n",
       "| United States                                    | San Antonio, Texas                               | 3 Gen. B-Cycle                                   |  600                                             |\n",
       "| United States                                    | San Diego                                        | DecoBike                                         | 1800                                             |\n",
       "| United States                                    | San Francisco Bay Area                           | NA                                               |   NA                                             |\n",
       "| United States                                    | San Francisco Bay Area                           | 8D                                               | 7000                                             |\n",
       "| United States                                    | Santa Monica, California                         | 3 Gen. CycleHop and Social Bicycles              |  500                                             |\n",
       "| United States                                    | Savannah, Georgia                                | 3 Gen. B-Cycle                                   |   16                                             |\n",
       "| United States                                    | Seattle, Washington                              | 8D                                               |  500                                             |\n",
       "| United States                                    | Spartanburg, South Carolina                      | 3 Gen. B-Cycle                                   |   40                                             |\n",
       "| United States                                    | St. Paul                                         | 1 Gen. w/ BikeCard                               |   NA                                             |\n",
       "\n"
      ],
      "text/plain": [
       "    COUNTRY       CITY                                            \n",
       "1   Albania       Tirana                                          \n",
       "2   Argentina     Mendoza                                         \n",
       "3   Argentina     San Lorenzo, Santa Fe                           \n",
       "4   Argentina     Buenos Aires                                    \n",
       "5   Argentina     Rosario                                         \n",
       "6   Australia     Melbourne                                       \n",
       "7   Australia     Brisbane                                        \n",
       "8   Australia     Melbourne                                       \n",
       "9   Australia     Sydney                                          \n",
       "10  Australia     Sydney                                          \n",
       "11  Australia     Sydney                                          \n",
       "12  Austria       Vienna                                          \n",
       "13  Austria       Burgenland                                      \n",
       "14  Austria       Lower Austria                                   \n",
       "15  Austria       Salzburg                                        \n",
       "16  Austria       Vienna                                          \n",
       "17  Austria       Vorarlberg                                      \n",
       "18  Bangladesh    Dhaka                                           \n",
       "19  Belgium       Namur                                           \n",
       "20  Belgium       Antwerp                                         \n",
       "21  Belgium       Brussels                                        \n",
       "22  Brazil        Salvador                                        \n",
       "23  Brazil        Belo Horizonte                                  \n",
       "24  Brazil        Fortaleza                                       \n",
       "25  Brazil        Jo<U+FFFD>o Pessoa                              \n",
       "26  Brazil        (Pedro de) Toledo                               \n",
       "27  Brazil        Rio de Janeiro                                  \n",
       "28  Brazil        S<U+FFFD>o Paulo                                \n",
       "29  Brazil        Sorocaba                                        \n",
       "30  Bulgaria      Burgas                                          \n",
       "... ...           ...                                             \n",
       "451 United States Fullerton, California                           \n",
       "452 United States Hoboken, New Jersey                             \n",
       "453 United States Houston, Texas                                  \n",
       "454 United States Jersey City                                     \n",
       "455 United States Kailua, Hawaii                                  \n",
       "456 United States Kansas City, Missouri                           \n",
       "457 United States Kona District, Hawaii                           \n",
       "458 United States Lansing, MI                                     \n",
       "459 United States Lincoln, Nebraska                               \n",
       "460 United States Los Angeles                                     \n",
       "461 United States Madison, Wisconsin                              \n",
       "462 United States Milwaukee, Wisconsin                            \n",
       "463 United States Minneapolis, Minnesota and Saint Paul, Minnesota\n",
       "464 United States Oklahoma City, Oklahoma                         \n",
       "465 United States Omaha, Nebraska                                 \n",
       "466 United States Philadelphia, Pennsylvania                      \n",
       "467 United States Phoenix, Arizona                                \n",
       "468 United States Pittsburgh, Pennsylvania                        \n",
       "469 United States Portland, Oregon                                \n",
       "470 United States Portland, Oregon                                \n",
       "471 United States Salt Lake City, Utah                            \n",
       "472 United States San Antonio, Texas                              \n",
       "473 United States San Diego                                       \n",
       "474 United States San Francisco Bay Area                          \n",
       "475 United States San Francisco Bay Area                          \n",
       "476 United States Santa Monica, California                        \n",
       "477 United States Savannah, Georgia                               \n",
       "478 United States Seattle, Washington                             \n",
       "479 United States Spartanburg, South Carolina                     \n",
       "480 United States St. Paul                                        \n",
       "    SYSTEM                              BICYCLES\n",
       "1   NA                                   200    \n",
       "2   NA                                    40    \n",
       "3   Biciudad                              80    \n",
       "4   Serttel Brasil                      4000    \n",
       "5   NA                                   480    \n",
       "6   PBSC & 8D                            676    \n",
       "7   3 Gen. Cyclocity                    2000    \n",
       "8   4 Gen. oBike                        1250    \n",
       "9   4 Gen. oBike                        1250    \n",
       "10  4 Gen. Ofo                           600    \n",
       "11  Reddy Go                            2000    \n",
       "12  3 Gen. Cyclocity                    1500    \n",
       "13  3 Gen. nextbike                       NA    \n",
       "14  3 Gen. nextbike                     1300    \n",
       "15  3 Gen. nextbike                       NA    \n",
       "16  2 Gen.                              1500    \n",
       "17  3 Gen. nextbike                       70    \n",
       "18  JoBike                               300    \n",
       "19  3 Gen. Cyclocity                     200    \n",
       "20  3 Gen. Clear CC                     3600    \n",
       "21  3 Gen. Cyclocity                      NA    \n",
       "22  tembici                               NA    \n",
       "23  Mobilicidade                         400    \n",
       "24  Mobilicidade                         800    \n",
       "25  Mobilicidade                          20    \n",
       "26  Toopedalando                          60    \n",
       "27  tembici                              300    \n",
       "28  tembici                              600    \n",
       "29  tembici                              120    \n",
       "30  Mobilicidade                         120    \n",
       "... ...                                 ...     \n",
       "451 Bike Nation                           75    \n",
       "452 3 Gen. nextbike                      250    \n",
       "453 3 Gen. B-Cycle                       400    \n",
       "454 8D                                   500    \n",
       "455 3 Gen. B-Cycle                        12    \n",
       "456 3 Gen. B-Cycle                       300    \n",
       "457 PBSC                                  30    \n",
       "458 A2B Bikeshare                         20    \n",
       "459 3 Gen. B-Cycle                       100    \n",
       "460 3 Gen. B-Cycle                      1000    \n",
       "461 3 Gen. B-Cycle                       350    \n",
       "462 3 Gen. B-Cycle                        NA    \n",
       "463 PBSC & 8D                           1833    \n",
       "464 Spokies                              100    \n",
       "465 3 Gen. B-Cycle                        35    \n",
       "466 3 Gen. B-Cycle                      1000    \n",
       "467 3 Gen. CycleHop and Social Bicycles  500    \n",
       "468 3 Gen. nextbike                      500    \n",
       "469 NA                                  1000    \n",
       "470 1 Gen. WhiteBikes                   1000    \n",
       "471 3 Gen. B-Cycle                       100    \n",
       "472 3 Gen. B-Cycle                       600    \n",
       "473 DecoBike                            1800    \n",
       "474 NA                                    NA    \n",
       "475 8D                                  7000    \n",
       "476 3 Gen. CycleHop and Social Bicycles  500    \n",
       "477 3 Gen. B-Cycle                        16    \n",
       "478 8D                                   500    \n",
       "479 3 Gen. B-Cycle                        40    \n",
       "480 1 Gen. w/ BikeCard                    NA    "
      ]
     },
     "metadata": {},
     "output_type": "display_data"
    }
   ],
   "source": [
    "# Use the mutate() function on the BICYCLES column\n",
    "result2 <- result %>% mutate(BICYCLES=extract_num(BICYCLES))\n",
    "result2"
   ]
  },
  {
   "cell_type": "markdown",
   "metadata": {},
   "source": [
    "*TODO:* Use the summary function to check the descriptive statistics of the numeric `BICYCLES` column\n"
   ]
  },
  {
   "cell_type": "code",
   "execution_count": 21,
   "metadata": {},
   "outputs": [
    {
     "data": {
      "text/plain": [
       "   Min. 1st Qu.  Median    Mean 3rd Qu.    Max.    NA's \n",
       "    5.0   100.0   335.5  2052.3  1468.2 78000.0     104 "
      ]
     },
     "metadata": {},
     "output_type": "display_data"
    }
   ],
   "source": [
    "summary(result2$BICYCLES)"
   ]
  },
  {
   "cell_type": "markdown",
   "metadata": {},
   "source": [
    "*TODO:* Write the cleaned bike-sharing systems dataset into a csv file called `bike_sharing_systems.csv`\n"
   ]
  },
  {
   "cell_type": "code",
   "execution_count": 22,
   "metadata": {},
   "outputs": [],
   "source": [
    "# Write dataset to `bike_sharing_systems.csv`\n",
    "write.csv(result2, \"bike_sharing_systems.csv\")"
   ]
  },
  {
   "cell_type": "markdown",
   "metadata": {},
   "source": [
    "# References:\n"
   ]
  },
  {
   "cell_type": "markdown",
   "metadata": {},
   "source": [
    "If you need to refresh your memory about regular expressions, please refer to this good Regular Expression cheat sheet:\n",
    "\n",
    "<a href=\"https://www.rstudio.com/wp-content/uploads/2016/09/RegExCheatsheet.pdf?utm_medium=Exinfluencer&utm_source=Exinfluencer&utm_content=000026UJ&utm_term=10006555&utm_id=NA-SkillsNetwork-Channel-SkillsNetworkCoursesIBMDeveloperSkillsNetworkRP0321ENSkillsNetwork25371262-2021-01-01\" target=\"_blank\">Basic Regular Expressions in R</a>\n"
   ]
  },
  {
   "cell_type": "markdown",
   "metadata": {},
   "source": [
    "# Next Steps\n"
   ]
  },
  {
   "cell_type": "markdown",
   "metadata": {},
   "source": [
    "Great! Now you have cleaned up the bike-sharing system dataset using regular expressions. Next, you will use other `tidyverse` functions to perform data wrangling on the bike-sharing demand dataset.\n"
   ]
  },
  {
   "cell_type": "markdown",
   "metadata": {},
   "source": [
    "## Authors\n",
    "\n",
    "<a href=\"https://www.linkedin.com/in/yan-luo-96288783/?utm_medium=Exinfluencer&utm_source=Exinfluencer&utm_content=000026UJ&utm_term=10006555&utm_id=NA-SkillsNetwork-Channel-SkillsNetworkCoursesIBMDeveloperSkillsNetworkRP0321ENSkillsNetwork25371262-2021-01-01\" target=\"_blank\">Yan Luo</a>\n"
   ]
  },
  {
   "cell_type": "markdown",
   "metadata": {},
   "source": [
    "### Other Contributors\n",
    "\n",
    "Jeff Grossman\n"
   ]
  },
  {
   "cell_type": "markdown",
   "metadata": {},
   "source": [
    "## Change Log\n",
    "\n",
    "| Date (YYYY-MM-DD) | Version | Changed By | Change Description           |\n",
    "| ----------------- | ------- | ---------- | ---------------------------- |\n",
    "| 2021-04-08        | 1.0     | Yan        | Initial version created      |\n",
    "|                   |         |            |                              |\n",
    "|                   |         |            |                              |\n",
    "\n",
    "## <h3 align=\"center\"> © IBM Corporation 2021. All rights reserved. <h3/>\n"
   ]
  }
 ],
 "metadata": {
  "kernelspec": {
   "display_name": "R",
   "language": "R",
   "name": "ir"
  },
  "language_info": {
   "codemirror_mode": "r",
   "file_extension": ".r",
   "mimetype": "text/x-r-source",
   "name": "R",
   "pygments_lexer": "r",
   "version": "3.6.1"
  }
 },
 "nbformat": 4,
 "nbformat_minor": 4
}
