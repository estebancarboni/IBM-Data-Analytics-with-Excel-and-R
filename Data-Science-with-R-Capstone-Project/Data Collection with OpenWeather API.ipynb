{
 "cells": [
  {
   "cell_type": "markdown",
   "metadata": {},
   "source": [
    "<a href=\"https://cognitiveclass.ai/?utm_medium=Exinfluencer&utm_source=Exinfluencer&utm_content=000026UJ&utm_term=10006555&utm_id=NA-SkillsNetwork-Channel-SkillsNetworkCoursesIBMDeveloperSkillsNetworkRP0321ENSkillsNetwork25371262-2021-01-01\">\n",
    "    <img src=\"https://cf-courses-data.s3.us.cloud-object-storage.appdomain.cloud/IBMDeveloperSkillsNetwork-RP0101EN-Coursera/v2/M1_R_Basics/images/IDSNlogo.png\" width=\"200\" align=\"center\">\n",
    "</a>\n"
   ]
  },
  {
   "cell_type": "markdown",
   "metadata": {},
   "source": [
    "<h1>OpenWeather APIs Calls</h1>\n",
    "\n",
    "Estimated time needed: **40** minutes\n"
   ]
  },
  {
   "cell_type": "markdown",
   "metadata": {},
   "source": [
    "## Lab Overview:\n",
    "\n",
    "In this lab, you will be collecting real-time current and forecasted weather data for cities using the **OpenWeather API**. It can give you current weather data for any location including over 200,000 cities and 5 day forecasts for free (with limited API usage). You just need to use HTTP requests to call those weather APIs and get the weather data.\n",
    "\n",
    "You will be given instructions to set up a free OpenWeather API account with an API key for authentication. Then, you will be shown, with code examples, how to get the current weather for a given city. After you are familiar with OpenWeather API, you will be asked to get 5-day forecast data for a list of cities.\n"
   ]
  },
  {
   "cell_type": "markdown",
   "metadata": {},
   "source": [
    "## Setup OpenWeather API account\n"
   ]
  },
  {
   "cell_type": "markdown",
   "metadata": {},
   "source": [
    "You can create an OpenWeather API account [here](https://home.openweathermap.org/users/sign_up?utm_medium=Exinfluencer\\&utm_source=Exinfluencer\\&utm_content=000026UJ\\&utm_term=10006555\\&utm_id=NA-SkillsNetwork-Channel-SkillsNetworkCoursesIBMDeveloperSkillsNetworkRP0321ENSkillsNetwork25371262-2021-01-01). After your account has been created and verified, you can go to Account -> My API Keys:\n"
   ]
  },
  {
   "cell_type": "markdown",
   "metadata": {},
   "source": [
    "<a href=\"https://cognitiveclass.ai/?utm_medium=Exinfluencer&utm_source=Exinfluencer&utm_content=000026UJ&utm_term=10006555&utm_id=NA-SkillsNetwork-Channel-SkillsNetworkCoursesIBMDeveloperSkillsNetworkRP0321ENSkillsNetwork25371262-2021-01-01\">\n",
    "    <img src=\"https://cf-courses-data.s3.us.cloud-object-storage.appdomain.cloud/IBMDeveloperSkillsNetwork-RP0321EN-SkillsNetwork/labs/module_1/images/l2-openweather-apikey.png\" width=\"400\" align=\"center\">\n",
    "</a>\n"
   ]
  },
  {
   "cell_type": "markdown",
   "metadata": {},
   "source": [
    "and find your API key here:\n"
   ]
  },
  {
   "cell_type": "markdown",
   "metadata": {},
   "source": [
    "<a href=\"https://cognitiveclass.ai/?utm_medium=Exinfluencer&utm_source=Exinfluencer&utm_content=000026UJ&utm_term=10006555&utm_id=NA-SkillsNetwork-Channel-SkillsNetworkCoursesIBMDeveloperSkillsNetworkRP0321ENSkillsNetwork25371262-2021-01-01\">\n",
    "    <img src=\"https://cf-courses-data.s3.us.cloud-object-storage.appdomain.cloud/IBMDeveloperSkillsNetwork-RP0321EN-SkillsNetwork/labs/module_1/images/l2-openweather-apikey-value.png\" width=\"400\" align=\"center\">\n",
    "</a>\n"
   ]
  },
  {
   "cell_type": "markdown",
   "metadata": {},
   "source": [
    "Now mark down your generated API key, which will be used to authenticate your HTTP requests to OpenWeather API.\n",
    "\n",
    "Note that a new API key may take some time to be activated. You may quickly try the following URL using a web browser.\n",
    "\n",
    "With the `{your_api_key}` URL parameter replaced by your own API key and go to the following URL:\n",
    "\n",
    "https://api.openweathermap.org/data/2.5/weather?q=Seoul\\&appid={your_api_key}\n"
   ]
  },
  {
   "cell_type": "markdown",
   "metadata": {},
   "source": [
    "until you see some weather data returned (instead of 401 or other error status), similar to the following JSON result:\n",
    "\n",
    "```\n",
    "{\"coord\":{\"lon\":126.9778,\"lat\":37.5683},\n",
    "\"weather\":[{\"id\":800,\"main\":\"Clear\",\"description\":\"clear sky\",\"icon\":\"01n\"}],\n",
    "\"base\":\"stations\",\n",
    "\"main\":{\"temp\":285.16,\"feels_like\":284.04,\"temp_min\":284.15,\"temp_max\":287.15,\"pressure\":1020,\"humidity\":62},\n",
    "\"visibility\":10000,\n",
    "\"wind\":{\"speed\":1.03,\"deg\":220},\"clouds\":{\"all\":0},\"dt\":1617718307,\"sys\":{\"type\":1,\"id\":8105,\"country\":\"KR\",\"sunrise\":1617657021,\"sunset\":1617703103},\"timezone\":32400,\"id\":1835848,\"name\":\"Seoul\",\"cod\":200}\n",
    "```\n"
   ]
  },
  {
   "cell_type": "markdown",
   "metadata": {},
   "source": [
    "## Coding Practice: Get the current weather data for a city using OpenWeather API\n"
   ]
  },
  {
   "cell_type": "markdown",
   "metadata": {},
   "source": [
    "First import `httr` library\n"
   ]
  },
  {
   "cell_type": "code",
   "execution_count": 1,
   "metadata": {},
   "outputs": [
    {
     "name": "stderr",
     "output_type": "stream",
     "text": [
      "Loading required package: httr\n"
     ]
    }
   ],
   "source": [
    "# Check if need to install rvest` library\n",
    "require(\"httr\")\n",
    "\n",
    "library(httr)"
   ]
  },
  {
   "cell_type": "markdown",
   "metadata": {},
   "source": [
    "The API base URL to get current weather is https://api.openweathermap.org/data/2.5/weather\n"
   ]
  },
  {
   "cell_type": "code",
   "execution_count": 2,
   "metadata": {},
   "outputs": [],
   "source": [
    "# URL for Current Weather API\n",
    "current_weather_url <- 'https://api.openweathermap.org/data/2.5/weather'"
   ]
  },
  {
   "cell_type": "markdown",
   "metadata": {},
   "source": [
    "Next, let's create a list to hold URL parameters for current weather API\n"
   ]
  },
  {
   "cell_type": "code",
   "execution_count": 3,
   "metadata": {},
   "outputs": [],
   "source": [
    "# HIDDEN CELL"
   ]
  },
  {
   "cell_type": "markdown",
   "metadata": {},
   "source": [
    "Now we can make a HTTP request to the current weather API\n"
   ]
  },
  {
   "cell_type": "code",
   "execution_count": 4,
   "metadata": {},
   "outputs": [],
   "source": [
    "# HIDDEN CELL"
   ]
  },
  {
   "cell_type": "markdown",
   "metadata": {},
   "source": [
    "If we check the response type, we can see it is in JSON format\n"
   ]
  },
  {
   "cell_type": "code",
   "execution_count": 5,
   "metadata": {},
   "outputs": [
    {
     "data": {
      "text/html": [
       "'application/json'"
      ],
      "text/latex": [
       "'application/json'"
      ],
      "text/markdown": [
       "'application/json'"
      ],
      "text/plain": [
       "[1] \"application/json\""
      ]
     },
     "metadata": {},
     "output_type": "display_data"
    }
   ],
   "source": [
    "http_type(response)"
   ]
  },
  {
   "cell_type": "markdown",
   "metadata": {},
   "source": [
    "JSON is an open standard file and data interchange format that uses human-readable text to store and transmit data objects. To read the JSON HTTP response, you can use the `content()` function to parse it as a named list in R.\n"
   ]
  },
  {
   "cell_type": "code",
   "execution_count": 6,
   "metadata": {},
   "outputs": [],
   "source": [
    "json_result <- content(response, as=\"parsed\")"
   ]
  },
  {
   "cell_type": "markdown",
   "metadata": {},
   "source": [
    "If you use the `class()` function, you can see it is a R `List` object\n"
   ]
  },
  {
   "cell_type": "code",
   "execution_count": 7,
   "metadata": {},
   "outputs": [
    {
     "data": {
      "text/html": [
       "'list'"
      ],
      "text/latex": [
       "'list'"
      ],
      "text/markdown": [
       "'list'"
      ],
      "text/plain": [
       "[1] \"list\""
      ]
     },
     "metadata": {},
     "output_type": "display_data"
    }
   ],
   "source": [
    "class(json_result)"
   ]
  },
  {
   "cell_type": "markdown",
   "metadata": {},
   "source": [
    "Now let's print the JSON result.\n"
   ]
  },
  {
   "cell_type": "code",
   "execution_count": 8,
   "metadata": {},
   "outputs": [
    {
     "data": {
      "text/html": [
       "<dl>\n",
       "\t<dt>$coord</dt>\n",
       "\t\t<dd><dl>\n",
       "\t<dt>$lon</dt>\n",
       "\t\t<dd>126.9778</dd>\n",
       "\t<dt>$lat</dt>\n",
       "\t\t<dd>37.5683</dd>\n",
       "</dl>\n",
       "</dd>\n",
       "\t<dt>$weather</dt>\n",
       "\t\t<dd><ol>\n",
       "\t<li><dl>\n",
       "\t<dt>$id</dt>\n",
       "\t\t<dd>802</dd>\n",
       "\t<dt>$main</dt>\n",
       "\t\t<dd>'Clouds'</dd>\n",
       "\t<dt>$description</dt>\n",
       "\t\t<dd>'scattered clouds'</dd>\n",
       "\t<dt>$icon</dt>\n",
       "\t\t<dd>'03n'</dd>\n",
       "</dl>\n",
       "</li>\n",
       "</ol>\n",
       "</dd>\n",
       "\t<dt>$base</dt>\n",
       "\t\t<dd>'stations'</dd>\n",
       "\t<dt>$main</dt>\n",
       "\t\t<dd><dl>\n",
       "\t<dt>$temp</dt>\n",
       "\t\t<dd>26.55</dd>\n",
       "\t<dt>$feels_like</dt>\n",
       "\t\t<dd>26.55</dd>\n",
       "\t<dt>$temp_min</dt>\n",
       "\t\t<dd>23.23</dd>\n",
       "\t<dt>$temp_max</dt>\n",
       "\t\t<dd>27.78</dd>\n",
       "\t<dt>$pressure</dt>\n",
       "\t\t<dd>1002</dd>\n",
       "\t<dt>$humidity</dt>\n",
       "\t\t<dd>86</dd>\n",
       "</dl>\n",
       "</dd>\n",
       "\t<dt>$visibility</dt>\n",
       "\t\t<dd>6000</dd>\n",
       "\t<dt>$wind</dt>\n",
       "\t\t<dd><dl>\n",
       "\t<dt>$speed</dt>\n",
       "\t\t<dd>0.51</dd>\n",
       "\t<dt>$deg</dt>\n",
       "\t\t<dd>300</dd>\n",
       "</dl>\n",
       "</dd>\n",
       "\t<dt>$clouds</dt>\n",
       "\t\t<dd><strong>$all</strong> = 40</dd>\n",
       "\t<dt>$dt</dt>\n",
       "\t\t<dd>1627494695</dd>\n",
       "\t<dt>$sys</dt>\n",
       "\t\t<dd><dl>\n",
       "\t<dt>$type</dt>\n",
       "\t\t<dd>1</dd>\n",
       "\t<dt>$id</dt>\n",
       "\t\t<dd>8105</dd>\n",
       "\t<dt>$country</dt>\n",
       "\t\t<dd>'KR'</dd>\n",
       "\t<dt>$sunrise</dt>\n",
       "\t\t<dd>1627504392</dd>\n",
       "\t<dt>$sunset</dt>\n",
       "\t\t<dd>1627555423</dd>\n",
       "</dl>\n",
       "</dd>\n",
       "\t<dt>$timezone</dt>\n",
       "\t\t<dd>32400</dd>\n",
       "\t<dt>$id</dt>\n",
       "\t\t<dd>1835848</dd>\n",
       "\t<dt>$name</dt>\n",
       "\t\t<dd>'Seoul'</dd>\n",
       "\t<dt>$cod</dt>\n",
       "\t\t<dd>200</dd>\n",
       "</dl>\n"
      ],
      "text/latex": [
       "\\begin{description}\n",
       "\\item[\\$coord] \\begin{description}\n",
       "\\item[\\$lon] 126.9778\n",
       "\\item[\\$lat] 37.5683\n",
       "\\end{description}\n",
       "\n",
       "\\item[\\$weather] \\begin{enumerate}\n",
       "\\item \\begin{description}\n",
       "\\item[\\$id] 802\n",
       "\\item[\\$main] 'Clouds'\n",
       "\\item[\\$description] 'scattered clouds'\n",
       "\\item[\\$icon] '03n'\n",
       "\\end{description}\n",
       "\n",
       "\\end{enumerate}\n",
       "\n",
       "\\item[\\$base] 'stations'\n",
       "\\item[\\$main] \\begin{description}\n",
       "\\item[\\$temp] 26.55\n",
       "\\item[\\$feels\\_like] 26.55\n",
       "\\item[\\$temp\\_min] 23.23\n",
       "\\item[\\$temp\\_max] 27.78\n",
       "\\item[\\$pressure] 1002\n",
       "\\item[\\$humidity] 86\n",
       "\\end{description}\n",
       "\n",
       "\\item[\\$visibility] 6000\n",
       "\\item[\\$wind] \\begin{description}\n",
       "\\item[\\$speed] 0.51\n",
       "\\item[\\$deg] 300\n",
       "\\end{description}\n",
       "\n",
       "\\item[\\$clouds] \\textbf{\\$all} = 40\n",
       "\\item[\\$dt] 1627494695\n",
       "\\item[\\$sys] \\begin{description}\n",
       "\\item[\\$type] 1\n",
       "\\item[\\$id] 8105\n",
       "\\item[\\$country] 'KR'\n",
       "\\item[\\$sunrise] 1627504392\n",
       "\\item[\\$sunset] 1627555423\n",
       "\\end{description}\n",
       "\n",
       "\\item[\\$timezone] 32400\n",
       "\\item[\\$id] 1835848\n",
       "\\item[\\$name] 'Seoul'\n",
       "\\item[\\$cod] 200\n",
       "\\end{description}\n"
      ],
      "text/markdown": [
       "$coord\n",
       ":   $lon\n",
       ":   126.9778\n",
       "$lat\n",
       ":   37.5683\n",
       "\n",
       "\n",
       "\n",
       "$weather\n",
       ":   1. $id\n",
       ":   802\n",
       "$main\n",
       ":   'Clouds'\n",
       "$description\n",
       ":   'scattered clouds'\n",
       "$icon\n",
       ":   '03n'\n",
       "\n",
       "\n",
       "\n",
       "\n",
       "\n",
       "\n",
       "$base\n",
       ":   'stations'\n",
       "$main\n",
       ":   $temp\n",
       ":   26.55\n",
       "$feels_like\n",
       ":   26.55\n",
       "$temp_min\n",
       ":   23.23\n",
       "$temp_max\n",
       ":   27.78\n",
       "$pressure\n",
       ":   1002\n",
       "$humidity\n",
       ":   86\n",
       "\n",
       "\n",
       "\n",
       "$visibility\n",
       ":   6000\n",
       "$wind\n",
       ":   $speed\n",
       ":   0.51\n",
       "$deg\n",
       ":   300\n",
       "\n",
       "\n",
       "\n",
       "$clouds\n",
       ":   **$all** = 40\n",
       "$dt\n",
       ":   1627494695\n",
       "$sys\n",
       ":   $type\n",
       ":   1\n",
       "$id\n",
       ":   8105\n",
       "$country\n",
       ":   'KR'\n",
       "$sunrise\n",
       ":   1627504392\n",
       "$sunset\n",
       ":   1627555423\n",
       "\n",
       "\n",
       "\n",
       "$timezone\n",
       ":   32400\n",
       "$id\n",
       ":   1835848\n",
       "$name\n",
       ":   'Seoul'\n",
       "$cod\n",
       ":   200\n",
       "\n",
       "\n"
      ],
      "text/plain": [
       "$coord\n",
       "$coord$lon\n",
       "[1] 126.9778\n",
       "\n",
       "$coord$lat\n",
       "[1] 37.5683\n",
       "\n",
       "\n",
       "$weather\n",
       "$weather[[1]]\n",
       "$weather[[1]]$id\n",
       "[1] 802\n",
       "\n",
       "$weather[[1]]$main\n",
       "[1] \"Clouds\"\n",
       "\n",
       "$weather[[1]]$description\n",
       "[1] \"scattered clouds\"\n",
       "\n",
       "$weather[[1]]$icon\n",
       "[1] \"03n\"\n",
       "\n",
       "\n",
       "\n",
       "$base\n",
       "[1] \"stations\"\n",
       "\n",
       "$main\n",
       "$main$temp\n",
       "[1] 26.55\n",
       "\n",
       "$main$feels_like\n",
       "[1] 26.55\n",
       "\n",
       "$main$temp_min\n",
       "[1] 23.23\n",
       "\n",
       "$main$temp_max\n",
       "[1] 27.78\n",
       "\n",
       "$main$pressure\n",
       "[1] 1002\n",
       "\n",
       "$main$humidity\n",
       "[1] 86\n",
       "\n",
       "\n",
       "$visibility\n",
       "[1] 6000\n",
       "\n",
       "$wind\n",
       "$wind$speed\n",
       "[1] 0.51\n",
       "\n",
       "$wind$deg\n",
       "[1] 300\n",
       "\n",
       "\n",
       "$clouds\n",
       "$clouds$all\n",
       "[1] 40\n",
       "\n",
       "\n",
       "$dt\n",
       "[1] 1627494695\n",
       "\n",
       "$sys\n",
       "$sys$type\n",
       "[1] 1\n",
       "\n",
       "$sys$id\n",
       "[1] 8105\n",
       "\n",
       "$sys$country\n",
       "[1] \"KR\"\n",
       "\n",
       "$sys$sunrise\n",
       "[1] 1627504392\n",
       "\n",
       "$sys$sunset\n",
       "[1] 1627555423\n",
       "\n",
       "\n",
       "$timezone\n",
       "[1] 32400\n",
       "\n",
       "$id\n",
       "[1] 1835848\n",
       "\n",
       "$name\n",
       "[1] \"Seoul\"\n",
       "\n",
       "$cod\n",
       "[1] 200\n"
      ]
     },
     "metadata": {},
     "output_type": "display_data"
    }
   ],
   "source": [
    "json_result"
   ]
  },
  {
   "cell_type": "markdown",
   "metadata": {},
   "source": [
    "It contains very detailed weather data about the city of `Seoul`. Feel free to try other cities as well. We need to convert the named list to a data frame so that we can use data frame operations to process the data. Below is a simple example, which you may implement your own way to convert it to a data frame.\n"
   ]
  },
  {
   "cell_type": "code",
   "execution_count": 9,
   "metadata": {},
   "outputs": [],
   "source": [
    "# Create some empty vectors to hold data temporarily\n",
    "weather <- c()\n",
    "visibility <- c()\n",
    "temp <- c()\n",
    "temp_min <- c()\n",
    "temp_max <- c()\n",
    "pressure <- c()\n",
    "humidity <- c()\n",
    "wind_speed <- c()\n",
    "wind_deg <- c()"
   ]
  },
  {
   "cell_type": "markdown",
   "metadata": {},
   "source": [
    "Now assign the values in the `json_result` list into different vectors\n"
   ]
  },
  {
   "cell_type": "code",
   "execution_count": 10,
   "metadata": {},
   "outputs": [],
   "source": [
    "# $weather is also a list with one element, its $main element indicates the weather status such as clear or rain\n",
    "weather <- c(weather, json_result$weather[[1]]$main)\n",
    "# Get Visibility\n",
    "visibility <- c(visibility, json_result$visibility)\n",
    "# Get current temperature \n",
    "temp <- c(temp, json_result$main$temp)\n",
    "# Get min temperature \n",
    "temp_min <- c(temp_min, json_result$main$temp_min)\n",
    "# Get max temperature \n",
    "temp_max <- c(temp_max, json_result$main$temp_max)\n",
    "# Get pressure\n",
    "pressure <- c(pressure, json_result$main$pressure)\n",
    "# Get humidity\n",
    "humidity <- c(humidity, json_result$main$humidity)\n",
    "# Get wind speed\n",
    "wind_speed <- c(wind_speed, json_result$wind$speed)\n",
    "# Get wind direction\n",
    "wind_deg <- c(wind_deg, json_result$wind$deg)"
   ]
  },
  {
   "cell_type": "markdown",
   "metadata": {},
   "source": [
    "Combine all vectors as columns of a data frame\n"
   ]
  },
  {
   "cell_type": "code",
   "execution_count": 11,
   "metadata": {},
   "outputs": [],
   "source": [
    "# Combine all vectors\n",
    "weather_data_frame <- data.frame(weather=weather, \n",
    "                                 visibility=visibility, \n",
    "                                 temp=temp, \n",
    "                                 temp_min=temp_min, \n",
    "                                 temp_max=temp_max, \n",
    "                                 pressure=pressure, \n",
    "                                 humidity=humidity, \n",
    "                                 wind_speed=wind_speed, \n",
    "                                 wind_deg=wind_deg)"
   ]
  },
  {
   "cell_type": "code",
   "execution_count": 12,
   "metadata": {},
   "outputs": [
    {
     "name": "stdout",
     "output_type": "stream",
     "text": [
      "  weather visibility  temp temp_min temp_max pressure humidity wind_speed\n",
      "1  Clouds       6000 26.55    23.23    27.78     1002       86       0.51\n",
      "  wind_deg\n",
      "1      300\n"
     ]
    }
   ],
   "source": [
    "# Check the generated data frame\n",
    "print(weather_data_frame)"
   ]
  },
  {
   "cell_type": "markdown",
   "metadata": {},
   "source": [
    "# TASK:  Get 5-day weather forecasts for a list of cities using the OpenWeather API\n"
   ]
  },
  {
   "cell_type": "markdown",
   "metadata": {},
   "source": [
    "Now you should be familiar with the usage of OpenWeather API. Next, you need to complete a task to get 5-day weather forecasts for a list of cities\n"
   ]
  },
  {
   "cell_type": "markdown",
   "metadata": {},
   "source": [
    "*TODO:* Write a function to return a data frame containing 5-day weather forecasts for a list of cities\n"
   ]
  },
  {
   "cell_type": "code",
   "execution_count": 13,
   "metadata": {},
   "outputs": [],
   "source": [
    "# Create some empty vectors to hold data temporarily\n",
    "\n",
    "# City name column\n",
    "city <- c()\n",
    "# Weather column, rainy or cloudy, etc\n",
    "weather <- c()\n",
    "# Sky visibility column\n",
    "visibility <- c()\n",
    "# Current temperature column\n",
    "temp <- c()\n",
    "# Max temperature column\n",
    "temp_min <- c()\n",
    "# Min temperature column\n",
    "temp_max <- c()\n",
    "# Pressure column\n",
    "pressure <- c()\n",
    "# Humidity column\n",
    "humidity <- c()\n",
    "# Wind speed column\n",
    "wind_speed <- c()\n",
    "# Wind direction column\n",
    "wind_deg <- c()\n",
    "# Forecast timestamp\n",
    "forecast_datetime <- c()\n",
    "# Season column\n",
    "# Note that for season, you can hard code a season value from levels Spring, Summer, Autumn, and Winter based on your current month.\n",
    "season <- c()"
   ]
  },
  {
   "cell_type": "code",
   "execution_count": 14,
   "metadata": {},
   "outputs": [],
   "source": [
    "# Get forecast data for a given city list\n",
    "get_weather_forecaset_by_cities <- function(city_names){\n",
    "    df <- data.frame()\n",
    "    for (city_name in city_names){\n",
    "        # Forecast API URL\n",
    "        forecast_url <- 'https://api.openweathermap.org/data/2.5/forecast'\n",
    "        # Create query parameters\n",
    "        forecast_query <- list(q = city_name, appid = \"97c8085f8990eb429c20c6895ec947e1\", units=\"metric\")\n",
    "        # Make HTTP GET call for the given city\n",
    "        response <- GET(forecast_url, query = forecast_query)\n",
    "        # Note that the 5-day forecast JSON result is a list of lists. You can print the reponse to check the results\n",
    "        json_list <- content(response, as=\"parsed\")\n",
    "        results <- json_list$list\n",
    "        \n",
    "        # Loop the json result\n",
    "        for(result in results) {\n",
    "            city <- c(city, city_name)\n",
    "            \n",
    "            weather <- c(weather, result$weather[[1]]$main)\n",
    "            visibility <- c(visibility, result$visibility)\n",
    "            temp <- c(temp, result$main$temp)\n",
    "            temp_min <- c(temp_min, result$main$temp_min)\n",
    "            temp_max <- c(temp_max, result$main$temp_max)\n",
    "            pressure <- c(pressure, result$main$pressure)\n",
    "            humidity <- c(humidity, result$main$humidity)\n",
    "            wind_speed <- c(wind_speed, result$wind$speed)\n",
    "            wind_deg <- c(wind_deg, result$wind$deg)\n",
    "            forecast_datetime <- c(forecast_datetime, result$dt_txt)\n",
    "            library(zoo)\n",
    "            months <- as.numeric(format(as.Date(forecast_datetime), '%m'))\n",
    "            indx <- setNames( rep(c('winter', 'spring', 'summer','fall') ,each=3), c(12,1:11))\n",
    "            season <- unname(indx[as.character(months)])\n",
    "            \n",
    "        }\n",
    "        \n",
    "        # Add the R Lists into a data frame\n",
    "        df <- data.frame(city=city,\n",
    "                         weather=weather, \n",
    "                         visibility=visibility, \n",
    "                         temp=temp, \n",
    "                         temp_min=temp_min, \n",
    "                         temp_max=temp_max, \n",
    "                         pressure=pressure, \n",
    "                         humidity=humidity, \n",
    "                         wind_speed=wind_speed, \n",
    "                         wind_deg=wind_deg,\n",
    "                         forecast_datetime=forecast_datetime,\n",
    "                         season=season)\n",
    "    }\n",
    "    \n",
    "    # Return a data frame\n",
    "    return(df)\n",
    "    \n",
    "}"
   ]
  },
  {
   "cell_type": "markdown",
   "metadata": {},
   "source": [
    "Complete and call `get_weather_forecaset_by_cities` function with a list of cities, and write the data frame into a csv file called `cities_weather_forecast.csv`\n"
   ]
  },
  {
   "cell_type": "code",
   "execution_count": 15,
   "metadata": {},
   "outputs": [
    {
     "name": "stderr",
     "output_type": "stream",
     "text": [
      "\n",
      "Attaching package: 'zoo'\n",
      "\n",
      "The following objects are masked from 'package:base':\n",
      "\n",
      "    as.Date, as.Date.numeric\n",
      "\n"
     ]
    }
   ],
   "source": [
    "cities <- c(\"Seoul\", \"Washington, D.C.\", \"Paris\", \"Suzhou\")\n",
    "cities_weather_df <- get_weather_forecaset_by_cities(cities)"
   ]
  },
  {
   "cell_type": "code",
   "execution_count": 16,
   "metadata": {},
   "outputs": [
    {
     "name": "stdout",
     "output_type": "stream",
     "text": [
      "                city weather visibility  temp temp_min temp_max pressure\n",
      "1              Seoul  Clouds      10000 26.55    26.55    28.13     1002\n",
      "2              Seoul  Clouds      10000 26.76    26.76    27.19     1002\n",
      "3              Seoul  Clouds      10000 28.88    28.88    30.05     1003\n",
      "4              Seoul  Clouds      10000 34.33    34.33    34.33     1001\n",
      "5              Seoul  Clouds      10000 34.94    34.94    34.94     1000\n",
      "6              Seoul  Clouds      10000 31.28    31.28    31.28     1000\n",
      "7              Seoul  Clouds      10000 28.80    28.80    28.80     1001\n",
      "8              Seoul  Clouds      10000 27.56    27.56    27.56     1001\n",
      "9              Seoul  Clouds      10000 26.63    26.63    26.63     1001\n",
      "10             Seoul  Clouds      10000 26.13    26.13    26.13     1001\n",
      "11             Seoul  Clouds      10000 29.46    29.46    29.46     1000\n",
      "12             Seoul  Clouds      10000 34.11    34.11    34.11      999\n",
      "13             Seoul  Clouds      10000 35.98    35.98    35.98      997\n",
      "14             Seoul  Clouds      10000 32.64    32.64    32.64      998\n",
      "15             Seoul  Clouds      10000 29.19    29.19    29.19      999\n",
      "16             Seoul    Rain      10000 27.95    27.95    27.95      999\n",
      "17             Seoul    Rain      10000 26.58    26.58    26.58      998\n",
      "18             Seoul    Rain      10000 25.59    25.59    25.59      999\n",
      "19             Seoul    Rain      10000 28.44    28.44    28.44     1000\n",
      "20             Seoul  Clouds      10000 31.87    31.87    31.87      999\n",
      "21             Seoul  Clouds      10000 32.78    32.78    32.78      998\n",
      "22             Seoul  Clouds      10000 30.54    30.54    30.54      998\n",
      "23             Seoul  Clouds      10000 27.76    27.76    27.76      999\n",
      "24             Seoul  Clouds      10000 26.71    26.71    26.71      999\n",
      "25             Seoul  Clouds      10000 25.82    25.82    25.82      999\n",
      "26             Seoul    Rain      10000 25.32    25.32    25.32     1000\n",
      "27             Seoul    Rain      10000 28.93    28.93    28.93     1000\n",
      "28             Seoul    Rain      10000 32.88    32.88    32.88      999\n",
      "29             Seoul  Clouds      10000 34.63    34.63    34.63      998\n",
      "30             Seoul  Clouds      10000 31.28    31.28    31.28      999\n",
      "31             Seoul  Clouds      10000 28.89    28.89    28.89     1000\n",
      "32             Seoul    Rain      10000 26.29    26.29    26.29     1001\n",
      "33             Seoul    Rain      10000 25.14    25.14    25.14     1001\n",
      "34             Seoul    Rain      10000 24.73    24.73    24.73     1001\n",
      "35             Seoul    Rain      10000 25.99    25.99    25.99     1002\n",
      "36             Seoul    Rain      10000 27.56    27.56    27.56     1002\n",
      "37             Seoul    Rain      10000 28.91    28.91    28.91     1001\n",
      "38             Seoul    Rain      10000 28.32    28.32    28.32     1002\n",
      "39             Seoul  Clouds      10000 26.60    26.60    26.60     1003\n",
      "40             Seoul  Clouds      10000 25.73    25.73    25.73     1003\n",
      "41  Washington, D.C.  Clouds      10000 26.03    26.03    29.39     1018\n",
      "42  Washington, D.C.  Clouds      10000 28.50    28.50    33.44     1017\n",
      "43  Washington, D.C.  Clouds      10000 32.12    32.12    35.16     1014\n",
      "44  Washington, D.C.  Clouds      10000 28.61    28.61    28.61     1013\n",
      "45  Washington, D.C.  Clouds      10000 20.41    20.41    20.41     1016\n",
      "46  Washington, D.C.  Clouds      10000 17.97    17.97    17.97     1017\n",
      "47  Washington, D.C.  Clouds      10000 16.65    16.65    16.65     1017\n",
      "48  Washington, D.C.   Clear      10000 23.54    23.54    23.54     1017\n",
      "49  Washington, D.C.   Clear      10000 31.66    31.66    31.66     1016\n",
      "50  Washington, D.C.   Clear      10000 35.88    35.88    35.88     1013\n",
      "51  Washington, D.C.   Clear      10000 38.32    38.32    38.32     1011\n",
      "52  Washington, D.C.  Clouds      10000 29.64    29.64    29.64     1012\n",
      "53  Washington, D.C.  Clouds      10000 22.03    22.03    22.03     1015\n",
      "54  Washington, D.C.  Clouds      10000 19.96    19.96    19.96     1015\n",
      "55  Washington, D.C.  Clouds      10000 19.05    19.05    19.05     1016\n",
      "56  Washington, D.C.   Clear      10000 25.76    25.76    25.76     1016\n",
      "57  Washington, D.C.   Clear      10000 34.44    34.44    34.44     1015\n",
      "58  Washington, D.C.   Clear      10000 38.60    38.60    38.60     1012\n",
      "59  Washington, D.C.  Clouds      10000 39.25    39.25    39.25     1010\n",
      "60  Washington, D.C.  Clouds      10000 31.25    31.25    31.25     1011\n",
      "61  Washington, D.C.  Clouds      10000 27.13    27.13    27.13     1013\n",
      "62  Washington, D.C.  Clouds      10000 26.25    26.25    26.25     1013\n",
      "63  Washington, D.C.  Clouds      10000 24.77    24.77    24.77     1012\n",
      "64  Washington, D.C.  Clouds      10000 30.12    30.12    30.12     1014\n",
      "65  Washington, D.C.  Clouds      10000 37.87    37.87    37.87     1012\n",
      "66  Washington, D.C.  Clouds      10000 41.98    41.98    41.98     1010\n",
      "67  Washington, D.C.  Clouds      10000 40.13    40.13    40.13     1009\n",
      "68  Washington, D.C.  Clouds      10000 33.36    33.36    33.36     1011\n",
      "69  Washington, D.C.  Clouds      10000 28.32    28.32    28.32     1012\n",
      "70  Washington, D.C.    Rain      10000 23.45    23.45    23.45     1014\n",
      "71  Washington, D.C.    Rain      10000 21.16    21.16    21.16     1015\n",
      "72  Washington, D.C.  Clouds      10000 24.84    24.84    24.84     1016\n",
      "73  Washington, D.C.  Clouds      10000 24.12    24.12    24.12     1017\n",
      "74  Washington, D.C.    Rain      10000 23.06    23.06    23.06     1018\n",
      "75  Washington, D.C.  Clouds      10000 31.00    31.00    31.00     1014\n",
      "76  Washington, D.C.  Clouds      10000 27.55    27.55    27.55     1014\n",
      "77  Washington, D.C.  Clouds      10000 20.30    20.30    20.30     1017\n",
      "78  Washington, D.C.   Clear      10000 18.06    18.06    18.06     1018\n",
      "79  Washington, D.C.   Clear      10000 17.40    17.40    17.40     1018\n",
      "80  Washington, D.C.   Clear      10000 24.16    24.16    24.16     1018\n",
      "81             Paris   Clear      10000 22.13    21.85    22.13     1012\n",
      "82             Paris  Clouds      10000 21.10    19.04    21.10     1013\n",
      "83             Paris  Clouds      10000 18.87    17.24    18.87     1014\n",
      "84             Paris   Clear      10000 14.69    14.69    14.69     1015\n",
      "85             Paris   Clear      10000 14.81    14.81    14.81     1015\n",
      "86             Paris   Clear      10000 19.41    19.41    19.41     1015\n",
      "87             Paris   Clear      10000 23.08    23.08    23.08     1014\n",
      "88             Paris  Clouds      10000 24.53    24.53    24.53     1013\n",
      "89             Paris  Clouds      10000 23.03    23.03    23.03     1012\n",
      "90             Paris   Clear      10000 19.92    19.92    19.92     1012\n",
      "91             Paris   Clear      10000 18.15    18.15    18.15     1010\n",
      "92             Paris  Clouds      10000 16.70    16.70    16.70     1010\n",
      "93             Paris  Clouds      10000 16.66    16.66    16.66     1009\n",
      "94             Paris  Clouds      10000 18.41    18.41    18.41     1010\n",
      "95             Paris  Clouds      10000 22.93    22.93    22.93     1010\n",
      "96             Paris  Clouds      10000 23.35    23.35    23.35     1010\n",
      "97             Paris  Clouds      10000 21.73    21.73    21.73     1011\n",
      "98             Paris  Clouds      10000 18.05    18.05    18.05     1012\n",
      "99             Paris   Clear      10000 16.18    16.18    16.18     1013\n",
      "100            Paris   Clear      10000 14.62    14.62    14.62     1013\n",
      "101            Paris   Clear      10000 15.12    15.12    15.12     1013\n",
      "102            Paris   Clear      10000 19.95    19.95    19.95     1013\n",
      "103            Paris  Clouds      10000 22.49    22.49    22.49     1012\n",
      "104            Paris    Rain      10000 21.01    21.01    21.01     1012\n",
      "105            Paris    Rain      10000 16.61    16.61    16.61     1012\n",
      "106            Paris    Rain      10000 15.45    15.45    15.45     1012\n",
      "107            Paris  Clouds      10000 15.32    15.32    15.32     1012\n",
      "108            Paris  Clouds      10000 15.17    15.17    15.17     1011\n",
      "109            Paris  Clouds      10000 15.50    15.50    15.50     1011\n",
      "110            Paris  Clouds      10000 19.07    19.07    19.07     1012\n",
      "111            Paris    Rain      10000 20.40    20.40    20.40     1012\n",
      "112            Paris    Rain      10000 21.30    21.30    21.30     1012\n",
      "113            Paris    Rain      10000 20.44    20.44    20.44     1012\n",
      "114            Paris  Clouds      10000 17.67    17.67    17.67     1014\n",
      "115            Paris  Clouds      10000 16.83    16.83    16.83     1014\n",
      "116            Paris  Clouds      10000 16.28    16.28    16.28     1014\n",
      "117            Paris  Clouds      10000 15.88    15.88    15.88     1015\n",
      "118            Paris  Clouds      10000 17.74    17.74    17.74     1015\n",
      "119            Paris  Clouds      10000 21.80    21.80    21.80     1015\n",
      "120            Paris  Clouds      10000 23.11    23.11    23.11     1014\n",
      "121           Suzhou    Rain      10000 27.16    25.77    27.16      996\n",
      "122           Suzhou    Rain      10000 26.64    25.59    26.64      996\n",
      "123           Suzhou    Rain       9383 27.81    27.81    28.13      997\n",
      "124           Suzhou    Rain      10000 30.23    30.23    30.23      997\n",
      "125           Suzhou    Rain      10000 31.53    31.53    31.53      997\n",
      "126           Suzhou  Clouds      10000 30.51    30.51    30.51      997\n",
      "127           Suzhou  Clouds      10000 27.25    27.25    27.25      999\n",
      "128           Suzhou  Clouds      10000 25.74    25.74    25.74     1000\n",
      "129           Suzhou  Clouds      10000 24.98    24.98    24.98      999\n",
      "130           Suzhou  Clouds      10000 24.34    24.34    24.34      999\n",
      "131           Suzhou  Clouds      10000 26.38    26.38    26.38     1001\n",
      "132           Suzhou   Clear      10000 29.08    29.08    29.08     1000\n",
      "133           Suzhou   Clear      10000 30.83    30.83    30.83      999\n",
      "134           Suzhou  Clouds      10000 30.80    30.80    30.80      999\n",
      "135           Suzhou  Clouds      10000 27.70    27.70    27.70      999\n",
      "136           Suzhou  Clouds      10000 26.25    26.25    26.25     1000\n",
      "137           Suzhou  Clouds      10000 25.41    25.41    25.41      998\n",
      "138           Suzhou   Clear      10000 24.84    24.84    24.84      998\n",
      "139           Suzhou   Clear      10000 28.42    28.42    28.42      999\n",
      "140           Suzhou   Clear      10000 32.05    32.05    32.05      998\n",
      "141           Suzhou  Clouds      10000 33.23    33.23    33.23      997\n",
      "142           Suzhou    Rain      10000 28.85    28.85    28.85      997\n",
      "143           Suzhou    Rain      10000 27.03    27.03    27.03      998\n",
      "144           Suzhou    Rain      10000 25.98    25.98    25.98      997\n",
      "145           Suzhou  Clouds      10000 25.53    25.53    25.53      996\n",
      "146           Suzhou  Clouds      10000 25.39    25.39    25.39      996\n",
      "147           Suzhou  Clouds      10000 28.68    28.68    28.68      997\n",
      "148           Suzhou    Rain      10000 32.60    32.60    32.60      996\n",
      "149           Suzhou    Rain      10000 32.10    32.10    32.10      996\n",
      "150           Suzhou    Rain      10000 29.66    29.66    29.66      996\n",
      "151           Suzhou    Rain      10000 26.43    26.43    26.43      997\n",
      "152           Suzhou   Clear      10000 25.50    25.50    25.50      998\n",
      "153           Suzhou   Clear      10000 24.71    24.71    24.71      998\n",
      "154           Suzhou   Clear      10000 24.61    24.61    24.61      998\n",
      "155           Suzhou   Clear      10000 28.05    28.05    28.05     1000\n",
      "156           Suzhou   Clear      10000 31.88    31.88    31.88      999\n",
      "157           Suzhou    Rain      10000 31.96    31.96    31.96      999\n",
      "158           Suzhou  Clouds      10000 30.54    30.54    30.54     1000\n",
      "159           Suzhou   Clear      10000 26.64    26.64    26.64     1001\n",
      "160           Suzhou   Clear      10000 25.69    25.69    25.69     1002\n",
      "    humidity wind_speed wind_deg   forecast_datetime season\n",
      "1         86       0.96      183 2021-07-28 18:00:00 summer\n",
      "2         81       0.66      150 2021-07-28 21:00:00 summer\n",
      "3         68       1.03      145 2021-07-29 00:00:00 summer\n",
      "4         45       1.55      241 2021-07-29 03:00:00 summer\n",
      "5         43       4.67      263 2021-07-29 06:00:00 summer\n",
      "6         54       3.75      262 2021-07-29 09:00:00 summer\n",
      "7         63       2.34      264 2021-07-29 12:00:00 summer\n",
      "8         69       1.46      246 2021-07-29 15:00:00 summer\n",
      "9         75       0.98      239 2021-07-29 18:00:00 summer\n",
      "10        78       0.48      192 2021-07-29 21:00:00 summer\n",
      "11        62       1.55      132 2021-07-30 00:00:00 summer\n",
      "12        43       2.89      171 2021-07-30 03:00:00 summer\n",
      "13        35       4.23      206 2021-07-30 06:00:00 summer\n",
      "14        50       4.52      236 2021-07-30 09:00:00 summer\n",
      "15        69       3.22      211 2021-07-30 12:00:00 summer\n",
      "16        77       2.30      188 2021-07-30 15:00:00 summer\n",
      "17        86       1.75      176 2021-07-30 18:00:00 summer\n",
      "18        91       2.08      194 2021-07-30 21:00:00 summer\n",
      "19        68       3.00      185 2021-07-31 00:00:00 summer\n",
      "20        51       3.83      227 2021-07-31 03:00:00 summer\n",
      "21        47       4.34      229 2021-07-31 06:00:00 summer\n",
      "22        56       4.75      240 2021-07-31 09:00:00 summer\n",
      "23        69       2.26      236 2021-07-31 12:00:00 summer\n",
      "24        76       1.36      194 2021-07-31 15:00:00 summer\n",
      "25        82       1.25      157 2021-07-31 18:00:00 summer\n",
      "26        85       0.89      129 2021-07-31 21:00:00 summer\n",
      "27        67       0.61      248 2021-08-01 00:00:00 summer\n",
      "28        50       1.05      296 2021-08-01 03:00:00 summer\n",
      "29        42       0.64      278 2021-08-01 06:00:00 summer\n",
      "30        55       3.76      269 2021-08-01 09:00:00 summer\n",
      "31        64       1.50      292 2021-08-01 12:00:00 summer\n",
      "32        84       1.81      267 2021-08-01 15:00:00 summer\n",
      "33        89       1.09      294 2021-08-01 18:00:00 summer\n",
      "34        92       0.75      254 2021-08-01 21:00:00 summer\n",
      "35        86       0.57      222 2021-08-02 00:00:00 summer\n",
      "36        78       1.96      263 2021-08-02 03:00:00 summer\n",
      "37        71       2.40      267 2021-08-02 06:00:00 summer\n",
      "38        71       1.21      258 2021-08-02 09:00:00 summer\n",
      "39        78       0.79      230 2021-08-02 12:00:00 summer\n",
      "40        82       0.60      176 2021-08-02 15:00:00 summer\n",
      "41        37       1.34       70 2021-07-28 18:00:00 summer\n",
      "42        30       2.52       82 2021-07-28 21:00:00 summer\n",
      "43        21       2.91       97 2021-07-29 00:00:00 summer\n",
      "44        25       1.40      319 2021-07-29 03:00:00 summer\n",
      "45        45       2.63      283 2021-07-29 06:00:00 summer\n",
      "46        49       2.32      300 2021-07-29 09:00:00 summer\n",
      "47        43       2.30      295 2021-07-29 12:00:00 summer\n",
      "48        28       1.75      337 2021-07-29 15:00:00 summer\n",
      "49        16       1.55       52 2021-07-29 18:00:00 summer\n",
      "50        11       2.16       81 2021-07-29 21:00:00 summer\n",
      "51         7       0.97      124 2021-07-30 00:00:00 summer\n",
      "52        19       2.20      298 2021-07-30 03:00:00 summer\n",
      "53        32       2.50      292 2021-07-30 06:00:00 summer\n",
      "54        37       2.12      295 2021-07-30 09:00:00 summer\n",
      "55        39       1.70      295 2021-07-30 12:00:00 summer\n",
      "56        28       1.32      352 2021-07-30 15:00:00 summer\n",
      "57        15       1.58       94 2021-07-30 18:00:00 summer\n",
      "58        12       3.04       93 2021-07-30 21:00:00 summer\n",
      "59        11       1.35       68 2021-07-31 00:00:00 summer\n",
      "60        26       2.50      299 2021-07-31 03:00:00 summer\n",
      "61        30       2.19      294 2021-07-31 06:00:00 summer\n",
      "62        31       1.73      297 2021-07-31 09:00:00 summer\n",
      "63        33       1.63      280 2021-07-31 12:00:00 summer\n",
      "64        26       1.97      349 2021-07-31 15:00:00 summer\n",
      "65        16       0.56       11 2021-07-31 18:00:00 summer\n",
      "66        10       1.58      111 2021-07-31 21:00:00 summer\n",
      "67        12       4.48      129 2021-08-01 00:00:00 summer\n",
      "68        22       2.06      150 2021-08-01 03:00:00 summer\n",
      "69        40       3.32      316 2021-08-01 06:00:00 summer\n",
      "70        63       2.82      256 2021-08-01 09:00:00 summer\n",
      "71        78       2.10      312 2021-08-01 12:00:00 summer\n",
      "72        58       1.94      340 2021-08-01 15:00:00 summer\n",
      "73        59       0.93        6 2021-08-01 18:00:00 summer\n",
      "74        67       2.27        1 2021-08-01 21:00:00 summer\n",
      "75        37       2.80      359 2021-08-02 00:00:00 summer\n",
      "76        44       2.79      343 2021-08-02 03:00:00 summer\n",
      "77        68       2.61      293 2021-08-02 06:00:00 summer\n",
      "78        76       2.14      297 2021-08-02 09:00:00 summer\n",
      "79        74       2.04      291 2021-08-02 12:00:00 summer\n",
      "80        49       1.51      340 2021-08-02 15:00:00 summer\n",
      "81        57       5.27      241 2021-07-28 18:00:00 summer\n",
      "82        59       3.18      252 2021-07-28 21:00:00 summer\n",
      "83        61       3.60      237 2021-07-29 00:00:00 summer\n",
      "84        72       3.11      243 2021-07-29 03:00:00 summer\n",
      "85        74       3.32      245 2021-07-29 06:00:00 summer\n",
      "86        51       3.72      243 2021-07-29 09:00:00 summer\n",
      "87        38       3.82      244 2021-07-29 12:00:00 summer\n",
      "88        34       4.14      247 2021-07-29 15:00:00 summer\n",
      "89        40       3.19      257 2021-07-29 18:00:00 summer\n",
      "90        50       1.16      195 2021-07-29 21:00:00 summer\n",
      "91        58       2.02      171 2021-07-30 00:00:00 summer\n",
      "92        66       2.88      206 2021-07-30 03:00:00 summer\n",
      "93        69       4.18      218 2021-07-30 06:00:00 summer\n",
      "94        73       5.64      241 2021-07-30 09:00:00 summer\n",
      "95        33       7.23      250 2021-07-30 12:00:00 summer\n",
      "96        38       7.46      264 2021-07-30 15:00:00 summer\n",
      "97        48       5.09      273 2021-07-30 18:00:00 summer\n",
      "98        65       3.36      283 2021-07-30 21:00:00 summer\n",
      "99        72       3.09      261 2021-07-31 00:00:00 summer\n",
      "100       79       2.54      251 2021-07-31 03:00:00 summer\n",
      "101       79       2.93      252 2021-07-31 06:00:00 summer\n",
      "102       57       3.56      256 2021-07-31 09:00:00 summer\n",
      "103       43       4.09      263 2021-07-31 12:00:00 summer\n",
      "104       53       4.11      281 2021-07-31 15:00:00 summer\n",
      "105       80       2.60      267 2021-07-31 18:00:00 summer\n",
      "106       87       1.92      240 2021-07-31 21:00:00 summer\n",
      "107       86       2.47      224 2021-08-01 00:00:00 summer\n",
      "108       84       3.10      223 2021-08-01 03:00:00 summer\n",
      "109       82       3.53      231 2021-08-01 06:00:00 summer\n",
      "110       64       4.80      248 2021-08-01 09:00:00 summer\n",
      "111       59       4.57      262 2021-08-01 12:00:00 summer\n",
      "112       55       3.73      284 2021-08-01 15:00:00 summer\n",
      "113       57       2.01      300 2021-08-01 18:00:00 summer\n",
      "114       68       1.65      347 2021-08-01 21:00:00 summer\n",
      "115       70       1.07       19 2021-08-02 00:00:00 summer\n",
      "116       70       1.21        4 2021-08-02 03:00:00 summer\n",
      "117       71       0.95       34 2021-08-02 06:00:00 summer\n",
      "118       62       0.49       26 2021-08-02 09:00:00 summer\n",
      "119       50       1.13      263 2021-08-02 12:00:00 summer\n",
      "120       41       1.89      231 2021-08-02 15:00:00 summer\n",
      "121       95       4.99      141 2021-07-28 18:00:00 summer\n",
      "122       96       3.36      156 2021-07-28 21:00:00 summer\n",
      "123       91       3.13      195 2021-07-29 00:00:00 summer\n",
      "124       78       3.20      255 2021-07-29 03:00:00 summer\n",
      "125       67       4.12      280 2021-07-29 06:00:00 summer\n",
      "126       73       3.73      297 2021-07-29 09:00:00 summer\n",
      "127       82       3.71      293 2021-07-29 12:00:00 summer\n",
      "128       84       3.16      284 2021-07-29 15:00:00 summer\n",
      "129       83       4.24      285 2021-07-29 18:00:00 summer\n",
      "130       83       3.79      292 2021-07-29 21:00:00 summer\n",
      "131       78       4.39      290 2021-07-30 00:00:00 summer\n",
      "132       67       3.91      274 2021-07-30 03:00:00 summer\n",
      "133       61       3.16      280 2021-07-30 06:00:00 summer\n",
      "134       63       1.39      273 2021-07-30 09:00:00 summer\n",
      "135       74       0.46      242 2021-07-30 12:00:00 summer\n",
      "136       81       1.91      149 2021-07-30 15:00:00 summer\n",
      "137       86       1.22      127 2021-07-30 18:00:00 summer\n",
      "138       87       1.86      106 2021-07-30 21:00:00 summer\n",
      "139       76       2.84      111 2021-07-31 00:00:00 summer\n",
      "140       63       2.92      121 2021-07-31 03:00:00 summer\n",
      "141       58       2.02      147 2021-07-31 06:00:00 summer\n",
      "142       83       2.12       70 2021-07-31 09:00:00 summer\n",
      "143       89       2.62       96 2021-07-31 12:00:00 summer\n",
      "144       92       1.93       87 2021-07-31 15:00:00 summer\n",
      "145       94       1.56       54 2021-07-31 18:00:00 summer\n",
      "146       95       1.37       57 2021-07-31 21:00:00 summer\n",
      "147       81       0.79      130 2021-08-01 00:00:00 summer\n",
      "148       63       0.88      128 2021-08-01 03:00:00 summer\n",
      "149       67       0.74      108 2021-08-01 06:00:00 summer\n",
      "150       80       3.73      126 2021-08-01 09:00:00 summer\n",
      "151       91       3.10      130 2021-08-01 12:00:00 summer\n",
      "152       90       2.70      119 2021-08-01 15:00:00 summer\n",
      "153       93       2.42      111 2021-08-01 18:00:00 summer\n",
      "154       94       1.92      105 2021-08-01 21:00:00 summer\n",
      "155       80       2.90      129 2021-08-02 00:00:00 summer\n",
      "156       64       3.98      139 2021-08-02 03:00:00 summer\n",
      "157       63       4.18      132 2021-08-02 06:00:00 summer\n",
      "158       67       4.49      129 2021-08-02 09:00:00 summer\n",
      "159       77       4.16      121 2021-08-02 12:00:00 summer\n",
      "160       87       3.80      118 2021-08-02 15:00:00 summer\n"
     ]
    }
   ],
   "source": [
    "print(cities_weather_df)"
   ]
  },
  {
   "cell_type": "code",
   "execution_count": 17,
   "metadata": {},
   "outputs": [],
   "source": [
    "# Write cities_weather_df to `cities_weather_forecast.csv`\n",
    "write.csv(cities_weather_df, \"cities_weather_forecast.csv\", row.names=FALSE)"
   ]
  },
  {
   "cell_type": "markdown",
   "metadata": {},
   "source": [
    "For more details about HTTP requests with `httr`, please refer to the previous HTTP request notebook here:\n",
    "\n",
    "[HTTP request in R](https://cf-courses-data.s3.us.cloud-object-storage.appdomain.cloud/IBMDeveloperSkillsNetwork-RP0101EN-Coursera/v2/M4\\_Working_With_Data/lab2\\_jupyter_http-request.ipynb)\n"
   ]
  },
  {
   "cell_type": "markdown",
   "metadata": {},
   "source": [
    "## TASK: Download datasets as csv files from cloud storage\n"
   ]
  },
  {
   "cell_type": "markdown",
   "metadata": {},
   "source": [
    "The last task of this lab is straightforward: download some aggregated datasets from cloud storage\n"
   ]
  },
  {
   "cell_type": "code",
   "execution_count": 18,
   "metadata": {},
   "outputs": [],
   "source": [
    "# Download several datasets\n",
    "\n",
    "# Download some general city information such as name and locations\n",
    "url <- \"https://cf-courses-data.s3.us.cloud-object-storage.appdomain.cloud/IBMDeveloperSkillsNetwork-RP0321EN-SkillsNetwork/labs/datasets/raw_worldcities.csv\"\n",
    "# download the file\n",
    "download.file(url, destfile = \"raw_worldcities.csv\")\n",
    "\n",
    "# Download a specific hourly Seoul bike sharing demand dataset\n",
    "url <- \"https://cf-courses-data.s3.us.cloud-object-storage.appdomain.cloud/IBMDeveloperSkillsNetwork-RP0321EN-SkillsNetwork/labs/datasets/raw_seoul_bike_sharing.csv\"\n",
    "# download the file\n",
    "download.file(url, destfile = \"raw_seoul_bike_sharing.csv\")"
   ]
  },
  {
   "cell_type": "markdown",
   "metadata": {},
   "source": [
    "## Next Step\n"
   ]
  },
  {
   "cell_type": "markdown",
   "metadata": {},
   "source": [
    "Now you should collect all datasets required for this project, all in csv format. Feel free to explore them preliminarily now. However, they are the raw datasets and have to be processed for further data visualization or data analysis.\n",
    "\n",
    "In the next module, you will improve their quality by performing data wrangling tasks.\n"
   ]
  },
  {
   "cell_type": "markdown",
   "metadata": {},
   "source": [
    "## Authors\n",
    "\n",
    "<a href=\"https://www.linkedin.com/in/yan-luo-96288783/?utm_medium=Exinfluencer&utm_source=Exinfluencer&utm_content=000026UJ&utm_term=10006555&utm_id=NA-SkillsNetwork-Channel-SkillsNetworkCoursesIBMDeveloperSkillsNetworkRP0321ENSkillsNetwork25371262-2021-01-01\" target=\"_blank\">Yan Luo</a>\n"
   ]
  },
  {
   "cell_type": "markdown",
   "metadata": {},
   "source": [
    "### Other Contributors\n"
   ]
  },
  {
   "cell_type": "markdown",
   "metadata": {},
   "source": [
    "## Change Log\n",
    "\n",
    "| Date (YYYY-MM-DD) | Version | Changed By | Change Description           |\n",
    "| ----------------- | ------- | ---------- | ---------------------------- |\n",
    "| 2021-04-05        | 0.1     | Yan        | Initial version created      |\n",
    "|                   |         |            |                              |\n",
    "|                   |         |            |                              |\n",
    "\n",
    "## <h3 align=\"center\"> © IBM Corporation 2021. All rights reserved. <h3/>\n"
   ]
  }
 ],
 "metadata": {
  "kernelspec": {
   "display_name": "R",
   "language": "R",
   "name": "ir"
  },
  "language_info": {
   "codemirror_mode": "r",
   "file_extension": ".r",
   "mimetype": "text/x-r-source",
   "name": "R",
   "pygments_lexer": "r",
   "version": "3.6.1"
  }
 },
 "nbformat": 4,
 "nbformat_minor": 4
}
