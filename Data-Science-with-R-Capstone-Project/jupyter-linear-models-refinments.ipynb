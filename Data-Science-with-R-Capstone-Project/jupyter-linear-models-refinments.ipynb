{
 "cells": [
  {
   "cell_type": "markdown",
   "metadata": {},
   "source": [
    "<a href=\"https://cognitiveclass.ai/?utm_medium=Exinfluencer&utm_source=Exinfluencer&utm_content=000026UJ&utm_term=10006555&utm_id=NA-SkillsNetwork-Channel-SkillsNetworkCoursesIBMDeveloperSkillsNetworkRP0321ENSkillsNetwork25371262-2021-01-01\">\n",
    "    <img src=\"https://cf-courses-data.s3.us.cloud-object-storage.appdomain.cloud/IBMDeveloperSkillsNetwork-RP0101EN-Coursera/v2/M1_R_Basics/images/IDSNlogo.png\" width=\"200\" align=\"center\">\n",
    "</a>\n"
   ]
  },
  {
   "cell_type": "markdown",
   "metadata": {},
   "source": [
    "<h1>Refine the Baseline Regression Models</h1>\n",
    "\n",
    "Estimated time needed: **120** minutes\n"
   ]
  },
  {
   "cell_type": "markdown",
   "metadata": {},
   "source": [
    "## Lab Overview:\n",
    "\n",
    "Now you have built a baseline regression model with some relatively good RMSE and R-squared reported values. However, we could still improve it by using methods like adding polynomial and interaction terms, regularization, and so on.\n",
    "\n",
    "In this lab, you will be asked to continue using `tidymodels` to improve the performance of baseline model:\n",
    "\n",
    "*   **TASK: Add polynomial terms**\n",
    "*   **TASK: Add interactions terms**\n",
    "*   **TASK: Add regularizations terms**\n",
    "*   **TASK: Experiment to search for improved models**\n",
    "\n",
    "Let's start!\n"
   ]
  },
  {
   "cell_type": "markdown",
   "metadata": {},
   "source": [
    "First install and import necessary libraries\n"
   ]
  },
  {
   "cell_type": "code",
   "execution_count": 1,
   "metadata": {},
   "outputs": [],
   "source": [
    "# Check whether you need to install `rlang` and `tidymodels` libraries\n",
    "# install.packages(\"rlang\")\n",
    "# install.packages(\"tidymodels\")"
   ]
  },
  {
   "cell_type": "code",
   "execution_count": 2,
   "metadata": {},
   "outputs": [
    {
     "name": "stderr",
     "output_type": "stream",
     "text": [
      "Warning message:\n",
      "\"package 'tidymodels' was built under R version 3.6.3\"Registered S3 method overwritten by 'tune':\n",
      "  method                   from   \n",
      "  required_pkgs.model_spec parsnip\n",
      "-- \u001b[1mAttaching packages\u001b[22m -------------------------------------- tidymodels 0.1.3 --\n",
      "\u001b[32mv\u001b[39m \u001b[34mbroom       \u001b[39m 0.7.8      \u001b[32mv\u001b[39m \u001b[34mrecipes     \u001b[39m 0.1.16\n",
      "\u001b[32mv\u001b[39m \u001b[34mdials       \u001b[39m 0.0.9      \u001b[32mv\u001b[39m \u001b[34mrsample     \u001b[39m 0.1.0 \n",
      "\u001b[32mv\u001b[39m \u001b[34mdplyr       \u001b[39m 1.0.6      \u001b[32mv\u001b[39m \u001b[34mtibble      \u001b[39m 3.1.1 \n",
      "\u001b[32mv\u001b[39m \u001b[34mggplot2     \u001b[39m 3.3.5      \u001b[32mv\u001b[39m \u001b[34mtidyr       \u001b[39m 1.1.3 \n",
      "\u001b[32mv\u001b[39m \u001b[34minfer       \u001b[39m 0.5.4      \u001b[32mv\u001b[39m \u001b[34mtune        \u001b[39m 0.1.5 \n",
      "\u001b[32mv\u001b[39m \u001b[34mmodeldata   \u001b[39m 0.1.0      \u001b[32mv\u001b[39m \u001b[34mworkflows   \u001b[39m 0.2.2 \n",
      "\u001b[32mv\u001b[39m \u001b[34mparsnip     \u001b[39m 0.1.6      \u001b[32mv\u001b[39m \u001b[34mworkflowsets\u001b[39m 0.0.2 \n",
      "\u001b[32mv\u001b[39m \u001b[34mpurrr       \u001b[39m 0.3.4      \u001b[32mv\u001b[39m \u001b[34myardstick   \u001b[39m 0.0.8 \n",
      "Warning message:\n",
      "\"package 'dials' was built under R version 3.6.3\"Warning message:\n",
      "\"package 'dplyr' was built under R version 3.6.3\"Warning message:\n",
      "\"package 'infer' was built under R version 3.6.3\"Warning message:\n",
      "\"package 'modeldata' was built under R version 3.6.3\"Warning message:\n",
      "\"package 'purrr' was built under R version 3.6.3\"Warning message:\n",
      "\"package 'recipes' was built under R version 3.6.3\"Warning message:\n",
      "\"package 'rsample' was built under R version 3.6.3\"Warning message:\n",
      "\"package 'tibble' was built under R version 3.6.3\"Warning message:\n",
      "\"package 'tidyr' was built under R version 3.6.3\"Warning message:\n",
      "\"package 'tune' was built under R version 3.6.3\"Warning message:\n",
      "\"package 'workflows' was built under R version 3.6.3\"Warning message:\n",
      "\"package 'workflowsets' was built under R version 3.6.3\"Warning message:\n",
      "\"package 'yardstick' was built under R version 3.6.3\"-- \u001b[1mConflicts\u001b[22m ----------------------------------------- tidymodels_conflicts() --\n",
      "\u001b[31mx\u001b[39m \u001b[34mpurrr\u001b[39m::\u001b[32mdiscard()\u001b[39m masks \u001b[34mscales\u001b[39m::discard()\n",
      "\u001b[31mx\u001b[39m \u001b[34mdplyr\u001b[39m::\u001b[32mfilter()\u001b[39m  masks \u001b[34mstats\u001b[39m::filter()\n",
      "\u001b[31mx\u001b[39m \u001b[34mdplyr\u001b[39m::\u001b[32mlag()\u001b[39m     masks \u001b[34mstats\u001b[39m::lag()\n",
      "\u001b[31mx\u001b[39m \u001b[34mrecipes\u001b[39m::\u001b[32mstep()\u001b[39m  masks \u001b[34mstats\u001b[39m::step()\n",
      "\u001b[34m*\u001b[39m Use \u001b[32mtidymodels_prefer()\u001b[39m to resolve common conflicts.\n",
      "Registered S3 method overwritten by 'rvest':\n",
      "  method            from\n",
      "  read_xml.response xml2\n",
      "-- Attaching packages --------------------------------------- tidyverse 1.2.1 --\n",
      "v readr   1.3.1     v stringr 1.4.0\n",
      "v readr   1.3.1     v forcats 0.4.0\n",
      "-- Conflicts ------------------------------------------ tidyverse_conflicts() --\n",
      "x readr::col_factor() masks scales::col_factor()\n",
      "x purrr::discard()    masks scales::discard()\n",
      "x dplyr::filter()     masks stats::filter()\n",
      "x stringr::fixed()    masks recipes::fixed()\n",
      "x dplyr::lag()        masks stats::lag()\n",
      "x readr::spec()       masks yardstick::spec()\n"
     ]
    }
   ],
   "source": [
    "library(\"tidymodels\")\n",
    "library(\"tidyverse\")\n",
    "library(\"stringr\")"
   ]
  },
  {
   "cell_type": "markdown",
   "metadata": {},
   "source": [
    "The processed Seoul bike sharing dataset `seoul_bike_sharing_converted_normalized.csv`,  includes the converted indicator variables, and the numerical variables have been normalized.\n",
    "Let's read it as a dataframe first:\n"
   ]
  },
  {
   "cell_type": "code",
   "execution_count": 3,
   "metadata": {},
   "outputs": [
    {
     "name": "stderr",
     "output_type": "stream",
     "text": [
      "Parsed with column specification:\n",
      "cols(\n",
      "  .default = col_double(),\n",
      "  DATE = col_character(),\n",
      "  FUNCTIONING_DAY = col_character()\n",
      ")\n",
      "See spec(...) for full column specifications.\n"
     ]
    },
    {
     "data": {
      "text/plain": [
       "cols(\n",
       "  DATE = col_character(),\n",
       "  RENTED_BIKE_COUNT = col_double(),\n",
       "  TEMPERATURE = col_double(),\n",
       "  HUMIDITY = col_double(),\n",
       "  WIND_SPEED = col_double(),\n",
       "  VISIBILITY = col_double(),\n",
       "  DEW_POINT_TEMPERATURE = col_double(),\n",
       "  SOLAR_RADIATION = col_double(),\n",
       "  RAINFALL = col_double(),\n",
       "  SNOWFALL = col_double(),\n",
       "  FUNCTIONING_DAY = col_character(),\n",
       "  `0` = col_double(),\n",
       "  `1` = col_double(),\n",
       "  `10` = col_double(),\n",
       "  `11` = col_double(),\n",
       "  `12` = col_double(),\n",
       "  `13` = col_double(),\n",
       "  `14` = col_double(),\n",
       "  `15` = col_double(),\n",
       "  `16` = col_double(),\n",
       "  `17` = col_double(),\n",
       "  `18` = col_double(),\n",
       "  `19` = col_double(),\n",
       "  `2` = col_double(),\n",
       "  `20` = col_double(),\n",
       "  `21` = col_double(),\n",
       "  `22` = col_double(),\n",
       "  `23` = col_double(),\n",
       "  `3` = col_double(),\n",
       "  `4` = col_double(),\n",
       "  `5` = col_double(),\n",
       "  `6` = col_double(),\n",
       "  `7` = col_double(),\n",
       "  `8` = col_double(),\n",
       "  `9` = col_double(),\n",
       "  AUTUMN = col_double(),\n",
       "  SPRING = col_double(),\n",
       "  SUMMER = col_double(),\n",
       "  WINTER = col_double(),\n",
       "  HOLIDAY = col_double(),\n",
       "  NO_HOLIDAY = col_double()\n",
       ")"
      ]
     },
     "metadata": {},
     "output_type": "display_data"
    }
   ],
   "source": [
    "# Dataset URL\n",
    "dataset_url <- \"https://cf-courses-data.s3.us.cloud-object-storage.appdomain.cloud/IBMDeveloperSkillsNetwork-RP0321EN-SkillsNetwork/labs/datasets/seoul_bike_sharing_converted_normalized.csv\"\n",
    "bike_sharing_df <- read_csv(dataset_url)\n",
    "spec(bike_sharing_df)"
   ]
  },
  {
   "cell_type": "markdown",
   "metadata": {},
   "source": [
    "We won't be using the `DATE` column, because 'as is', it basically acts like an data entry index. (However, given more time, we could use the `DATE` colum to create a 'day of week' or 'isWeekend' column, which we might expect has an affect on preferred bike rental times.) We also do not need the `FUNCTIONAL DAY` column because it only has one distinct value remaining (`YES`) after missing value processing.\n"
   ]
  },
  {
   "cell_type": "code",
   "execution_count": 4,
   "metadata": {},
   "outputs": [],
   "source": [
    "bike_sharing_df <- bike_sharing_df %>% \n",
    "                   select(-DATE, -FUNCTIONING_DAY)"
   ]
  },
  {
   "cell_type": "markdown",
   "metadata": {},
   "source": [
    "Define a linear regression model specification.\n"
   ]
  },
  {
   "cell_type": "code",
   "execution_count": 5,
   "metadata": {},
   "outputs": [],
   "source": [
    "lm_spec <- linear_reg() %>%\n",
    "  set_engine(\"lm\") %>% \n",
    "  set_mode(\"regression\")"
   ]
  },
  {
   "cell_type": "markdown",
   "metadata": {},
   "source": [
    "Split the data into training and testing datasets.\n"
   ]
  },
  {
   "cell_type": "code",
   "execution_count": 6,
   "metadata": {},
   "outputs": [],
   "source": [
    "set.seed(1234)\n",
    "data_split <- initial_split(bike_sharing_df, prop = 4/5)\n",
    "train_data <- training(data_split)\n",
    "test_data <- testing(data_split)"
   ]
  },
  {
   "cell_type": "markdown",
   "metadata": {},
   "source": [
    "Now we are ready to refine the previous baseline regression model.\n"
   ]
  },
  {
   "cell_type": "markdown",
   "metadata": {},
   "source": [
    "# TASK: Add polynomial terms\n"
   ]
  },
  {
   "cell_type": "markdown",
   "metadata": {},
   "source": [
    "Linear regression models are the most suitable models to capture the linear correlations among variables. However, in real world data, many relationships may be non-linear.\n"
   ]
  },
  {
   "cell_type": "markdown",
   "metadata": {},
   "source": [
    "For example, the correlation between `RENTED_BIKE_COUNT` and `TEMPERATURE` does not look like linear:\n"
   ]
  },
  {
   "cell_type": "code",
   "execution_count": 7,
   "metadata": {},
   "outputs": [
    {
     "data": {
      "image/png": "[encoded data removed]",
      "text/plain": [
       "plot without title"
      ]
     },
     "metadata": {},
     "output_type": "display_data"
    }
   ],
   "source": [
    "ggplot(data = train_data, aes(RENTED_BIKE_COUNT, TEMPERATURE)) + \n",
    "    geom_point()"
   ]
  },
  {
   "cell_type": "raw",
   "metadata": {},
   "source": [
    "One solution to handle such nonlinearity is using polynomial regression by adding polynomial terms. As shown before, higher order polynomials are better than the first order polynomial."
   ]
  },
  {
   "cell_type": "code",
   "execution_count": 8,
   "metadata": {},
   "outputs": [
    {
     "data": {
      "image/png": "[encoded data removed]",
      "text/plain": [
       "plot without title"
      ]
     },
     "metadata": {},
     "output_type": "display_data"
    }
   ],
   "source": [
    "# Plot the higher order polynomial fits\n",
    "ggplot(data=train_data, aes(RENTED_BIKE_COUNT, TEMPERATURE)) + \n",
    "    geom_point() + \n",
    "    geom_smooth(method = \"lm\", formula = y ~ x, color=\"red\") + \n",
    "    geom_smooth(method = \"lm\", formula = y ~ poly(x, 2), color=\"yellow\") + \n",
    "    geom_smooth(method = \"lm\", formula = y ~ poly(x, 4), color=\"green\") + \n",
    "    geom_smooth(method = \"lm\", formula = y ~ poly(x, 6), color=\"blue\")"
   ]
  },
  {
   "cell_type": "markdown",
   "metadata": {},
   "source": [
    "OK, let's add some higher order polynomials of important variables to the regression models\n"
   ]
  },
  {
   "cell_type": "markdown",
   "metadata": {},
   "source": [
    "*TODO:* Fit a linear regression model `lm_poly` with higher order polynomial terms on the important variables (larger coefficients) found in the baseline model\n"
   ]
  },
  {
   "cell_type": "code",
   "execution_count": 9,
   "metadata": {},
   "outputs": [],
   "source": [
    "# Fit a linear model with higher order polynomial on some important variables \n",
    "\n",
    "# #HINT: Use ploy function to build polynomial terms, lm_poly <- RENTED_BIKE_COUNT ~ poly(TEMPERATURE, 6) + poly(HUMIDITY, 4) .....\n",
    "\n",
    "lm_poly <- lm_spec %>% fit(RENTED_BIKE_COUNT ~ . + poly(RAINFALL, 8) + poly(HUMIDITY, 6) + poly(TEMPERATURE, 4), data = train_data)"
   ]
  },
  {
   "cell_type": "code",
   "execution_count": 10,
   "metadata": {},
   "outputs": [
    {
     "data": {
      "text/plain": [
       "\n",
       "Call:\n",
       "stats::lm(formula = RENTED_BIKE_COUNT ~ . + poly(RAINFALL, 8) + \n",
       "    poly(HUMIDITY, 6) + poly(TEMPERATURE, 4), data = data)\n",
       "\n",
       "Residuals:\n",
       "    Min      1Q  Median      3Q     Max \n",
       "-1426.3  -207.7     0.4   185.3  1525.7 \n",
       "\n",
       "Coefficients: (6 not defined because of singularities)\n",
       "                        Estimate Std. Error t value Pr(>|t|)    \n",
       "(Intercept)             -531.661     67.134  -7.919 2.77e-15 ***\n",
       "TEMPERATURE             5906.998    371.383  15.905  < 2e-16 ***\n",
       "HUMIDITY                1608.994    178.127   9.033  < 2e-16 ***\n",
       "WIND_SPEED                -8.472     34.673  -0.244 0.806966    \n",
       "VISIBILITY               -50.053     18.184  -2.753 0.005928 ** \n",
       "DEW_POINT_TEMPERATURE  -5123.159    406.523 -12.602  < 2e-16 ***\n",
       "SOLAR_RADIATION          157.107     37.005   4.246 2.21e-05 ***\n",
       "RAINFALL               -1869.754    142.390 -13.131  < 2e-16 ***\n",
       "SNOWFALL                 197.456     89.852   2.198 0.028013 *  \n",
       "`0`                      -58.693     29.273  -2.005 0.044998 *  \n",
       "`1`                     -174.715     29.065  -6.011 1.94e-09 ***\n",
       "`10`                    -216.095     28.064  -7.700 1.55e-14 ***\n",
       "`11`                    -199.018     29.182  -6.820 9.90e-12 ***\n",
       "`12`                    -112.327     29.641  -3.790 0.000152 ***\n",
       "`13`                    -100.852     30.290  -3.329 0.000875 ***\n",
       "`14`                     -79.922     29.651  -2.695 0.007046 ** \n",
       "`15`                      -2.537     29.646  -0.086 0.931797    \n",
       "`16`                     119.820     29.311   4.088 4.40e-05 ***\n",
       "`17`                     381.459     29.228  13.051  < 2e-16 ***\n",
       "`18`                     826.551     29.369  28.144  < 2e-16 ***\n",
       "`19`                     531.385     29.299  18.136  < 2e-16 ***\n",
       "`2`                     -287.191     29.081  -9.876  < 2e-16 ***\n",
       "`20`                     419.296     29.333  14.294  < 2e-16 ***\n",
       "`21`                     419.018     29.346  14.279  < 2e-16 ***\n",
       "`22`                     301.042     29.190  10.313  < 2e-16 ***\n",
       "`23`                      56.918     29.095   1.956 0.050468 .  \n",
       "`3`                     -339.794     29.353 -11.576  < 2e-16 ***\n",
       "`4`                     -420.709     29.183 -14.416  < 2e-16 ***\n",
       "`5`                     -391.314     28.789 -13.592  < 2e-16 ***\n",
       "`6`                     -227.569     28.914  -7.870 4.09e-15 ***\n",
       "`7`                       76.473     28.831   2.652 0.008010 ** \n",
       "`8`                      417.057     28.200  14.789  < 2e-16 ***\n",
       "`9`                           NA         NA      NA       NA    \n",
       "AUTUMN                   344.303     20.058  17.166  < 2e-16 ***\n",
       "SPRING                   200.263     19.566  10.235  < 2e-16 ***\n",
       "SUMMER                   254.340     25.458   9.991  < 2e-16 ***\n",
       "WINTER                        NA         NA      NA       NA    \n",
       "HOLIDAY                  -94.664     19.699  -4.806 1.58e-06 ***\n",
       "NO_HOLIDAY                    NA         NA      NA       NA    \n",
       "poly(RAINFALL, 8)1            NA         NA      NA       NA    \n",
       "poly(RAINFALL, 8)2      3336.712    364.376   9.157  < 2e-16 ***\n",
       "poly(RAINFALL, 8)3     -2116.371    353.132  -5.993 2.16e-09 ***\n",
       "poly(RAINFALL, 8)4      2759.498    345.603   7.985 1.65e-15 ***\n",
       "poly(RAINFALL, 8)5     -2169.789    340.886  -6.365 2.08e-10 ***\n",
       "poly(RAINFALL, 8)6      2151.337    338.416   6.357 2.19e-10 ***\n",
       "poly(RAINFALL, 8)7     -1598.333    337.155  -4.741 2.17e-06 ***\n",
       "poly(RAINFALL, 8)8      1044.439    336.070   3.108 0.001893 ** \n",
       "poly(HUMIDITY, 6)1            NA         NA      NA       NA    \n",
       "poly(HUMIDITY, 6)2    -10332.836    527.633 -19.583  < 2e-16 ***\n",
       "poly(HUMIDITY, 6)3     -4115.769    429.086  -9.592  < 2e-16 ***\n",
       "poly(HUMIDITY, 6)4      3691.840    517.723   7.131 1.10e-12 ***\n",
       "poly(HUMIDITY, 6)5     -3881.209    463.180  -8.379  < 2e-16 ***\n",
       "poly(HUMIDITY, 6)6      2688.370    401.935   6.689 2.43e-11 ***\n",
       "poly(TEMPERATURE, 4)1         NA         NA      NA       NA    \n",
       "poly(TEMPERATURE, 4)2  -2347.340    498.202  -4.712 2.51e-06 ***\n",
       "poly(TEMPERATURE, 4)3 -10597.461    354.448 -29.898  < 2e-16 ***\n",
       "poly(TEMPERATURE, 4)4  -5212.639    377.277 -13.816  < 2e-16 ***\n",
       "---\n",
       "Signif. codes:  0 '***' 0.001 '**' 0.01 '*' 0.05 '.' 0.1 ' ' 1\n",
       "\n",
       "Residual standard error: 333.9 on 6721 degrees of freedom\n",
       "Multiple R-squared:  0.7337,\tAdjusted R-squared:  0.7317 \n",
       "F-statistic: 370.3 on 50 and 6721 DF,  p-value: < 2.2e-16\n"
      ]
     },
     "metadata": {},
     "output_type": "display_data"
    }
   ],
   "source": [
    "# Print model summary\n",
    "\n",
    "# summary(lm_poly$fit)\n",
    "summary(lm_poly$fit)"
   ]
  },
  {
   "cell_type": "markdown",
   "metadata": {},
   "source": [
    "*TODO:* Make predictions on test dataset using the `lm_poly` models\n"
   ]
  },
  {
   "cell_type": "code",
   "execution_count": 11,
   "metadata": {},
   "outputs": [
    {
     "name": "stderr",
     "output_type": "stream",
     "text": [
      "Warning message in predict.lm(object = object$fit, newdata = new_data, type = \"response\"):\n",
      "\"prediction from a rank-deficient fit may be misleading\""
     ]
    }
   ],
   "source": [
    "# Use predict() function to generate test results for `lm_poly`\n",
    "test_results <- lm_poly %>% \n",
    "    predict(new_data = test_data) %>% \n",
    "    mutate(truth = test_data$RENTED_BIKE_COUNT)"
   ]
  },
  {
   "cell_type": "markdown",
   "metadata": {},
   "source": [
    "Another minor improvement we could do here is to convert all negative prediction results to zero, because we can not have negative rented bike counts\n"
   ]
  },
  {
   "cell_type": "code",
   "execution_count": 12,
   "metadata": {},
   "outputs": [],
   "source": [
    "# e.g., test_results[test_results<0] <- 0\n",
    "test_results[test_results<0] <- 0"
   ]
  },
  {
   "cell_type": "markdown",
   "metadata": {},
   "source": [
    "Now, calculate R-squared and RMSE for the test results generated by `lm_ploy` model\n"
   ]
  },
  {
   "cell_type": "code",
   "execution_count": 13,
   "metadata": {},
   "outputs": [
    {
     "data": {
      "text/html": [
       "<table>\n",
       "<thead><tr><th scope=col>.metric</th><th scope=col>.estimator</th><th scope=col>.estimate</th></tr></thead>\n",
       "<tbody>\n",
       "\t<tr><td>rsq      </td><td>standard </td><td>0.7611135</td></tr>\n",
       "</tbody>\n",
       "</table>\n"
      ],
      "text/latex": [
       "\\begin{tabular}{r|lll}\n",
       " .metric & .estimator & .estimate\\\\\n",
       "\\hline\n",
       "\t rsq       & standard  & 0.7611135\\\\\n",
       "\\end{tabular}\n"
      ],
      "text/markdown": [
       "\n",
       "| .metric | .estimator | .estimate |\n",
       "|---|---|---|\n",
       "| rsq       | standard  | 0.7611135 |\n",
       "\n"
      ],
      "text/plain": [
       "  .metric .estimator .estimate\n",
       "1 rsq     standard   0.7611135"
      ]
     },
     "metadata": {},
     "output_type": "display_data"
    },
    {
     "data": {
      "text/html": [
       "<table>\n",
       "<thead><tr><th scope=col>.metric</th><th scope=col>.estimator</th><th scope=col>.estimate</th></tr></thead>\n",
       "<tbody>\n",
       "\t<tr><td>rmse    </td><td>standard</td><td>312.1273</td></tr>\n",
       "</tbody>\n",
       "</table>\n"
      ],
      "text/latex": [
       "\\begin{tabular}{r|lll}\n",
       " .metric & .estimator & .estimate\\\\\n",
       "\\hline\n",
       "\t rmse     & standard & 312.1273\\\\\n",
       "\\end{tabular}\n"
      ],
      "text/markdown": [
       "\n",
       "| .metric | .estimator | .estimate |\n",
       "|---|---|---|\n",
       "| rmse     | standard | 312.1273 |\n",
       "\n"
      ],
      "text/plain": [
       "  .metric .estimator .estimate\n",
       "1 rmse    standard   312.1273 "
      ]
     },
     "metadata": {},
     "output_type": "display_data"
    }
   ],
   "source": [
    "# Calculate R-squared and RMSE from the test results\n",
    "rsq <- rsq(test_results, truth = truth, estimate = .pred)\n",
    "rmse <- rmse(test_results, truth = truth, estimate = .pred)\n",
    "\n",
    "rsq\n",
    "rmse"
   ]
  },
  {
   "cell_type": "markdown",
   "metadata": {},
   "source": [
    "If you include all variables, and additionally include some of the more important ones as higher order poly terms, then you should notice improved  `R-squared` and `RMSE` values.\n"
   ]
  },
  {
   "cell_type": "markdown",
   "metadata": {},
   "source": [
    "# TASK: Add interaction terms\n"
   ]
  },
  {
   "cell_type": "markdown",
   "metadata": {},
   "source": [
    "In real-world scenarios, in addition to non-linear relationships between response variables and predictor variables, you may also encounter relationships among variables called `interaction effects`.\n",
    "\n",
    "For example, the effect of predictor variable `TEMPERATURE` on `RENTED_BIKE_COUNT` may also depend on other variables such as `HUMIDITY`, `RAINFALL`, or both (they `interact`) and the effect of `SEASON` on `RENTED_BIKE_COUNT` may also depend on `HOLIDAY`, `HOUR`, or both.\n",
    "\n",
    "To capture such interaction effects, we could add some interaction terms such as `RAINFALL*HUMIDITY` to the regression model, similar to what we did with polynominal terms. In this task, you will explore and conduct some experiments to search for interaction terms which will improve the model performance.\n"
   ]
  },
  {
   "cell_type": "markdown",
   "metadata": {},
   "source": [
    "*TODO:* Try adding some interaction terms to the previous polynomial models.\n"
   ]
  },
  {
   "cell_type": "code",
   "execution_count": 14,
   "metadata": {},
   "outputs": [],
   "source": [
    "# Add interaction terms to the poly regression built in previous step\n",
    "\n",
    "# HINT: You could use `*` operator to create interaction terms such as HUMIDITY*TEMPERATURE and make the formula look like:\n",
    "# RENTED_BIKE_COUNT ~ RAINFALL*HUMIDITY ...\n",
    "\n",
    "lm_poly2 <- lm_spec %>% fit(RENTED_BIKE_COUNT ~ . + poly(RAINFALL, 8) + poly(HUMIDITY, 6) + poly(TEMPERATURE, 4) + RAINFALL*HUMIDITY, data = train_data)"
   ]
  },
  {
   "cell_type": "code",
   "execution_count": 15,
   "metadata": {},
   "outputs": [
    {
     "data": {
      "text/plain": [
       "\n",
       "Call:\n",
       "stats::lm(formula = RENTED_BIKE_COUNT ~ . + poly(RAINFALL, 8) + \n",
       "    poly(HUMIDITY, 6) + poly(TEMPERATURE, 4) + RAINFALL * HUMIDITY, \n",
       "    data = data)\n",
       "\n",
       "Residuals:\n",
       "     Min       1Q   Median       3Q      Max \n",
       "-1427.27  -207.88    -0.17   185.45  1525.28 \n",
       "\n",
       "Coefficients: (6 not defined because of singularities)\n",
       "                        Estimate Std. Error t value Pr(>|t|)    \n",
       "(Intercept)             -534.437     67.177  -7.956 2.08e-15 ***\n",
       "TEMPERATURE             5911.142    371.392  15.916  < 2e-16 ***\n",
       "HUMIDITY                1614.926    178.199   9.062  < 2e-16 ***\n",
       "WIND_SPEED               -10.645     34.725  -0.307 0.759199    \n",
       "VISIBILITY               -50.065     18.183  -2.753 0.005915 ** \n",
       "DEW_POINT_TEMPERATURE  -5128.691    406.543 -12.615  < 2e-16 ***\n",
       "SOLAR_RADIATION          158.508     37.025   4.281 1.89e-05 ***\n",
       "RAINFALL                6067.438   6983.073   0.869 0.384945    \n",
       "SNOWFALL                 193.868     89.905   2.156 0.031091 *  \n",
       "`0`                      -58.506     29.273  -1.999 0.045685 *  \n",
       "`1`                     -174.221     29.068  -5.994 2.16e-09 ***\n",
       "`10`                    -215.678     28.065  -7.685 1.75e-14 ***\n",
       "`11`                    -199.033     29.181  -6.821 9.86e-12 ***\n",
       "`12`                    -112.889     29.645  -3.808 0.000141 ***\n",
       "`13`                    -101.105     30.291  -3.338 0.000849 ***\n",
       "`14`                     -79.972     29.650  -2.697 0.007010 ** \n",
       "`15`                      -3.019     29.648  -0.102 0.918887    \n",
       "`16`                     120.165     29.311   4.100 4.19e-05 ***\n",
       "`17`                     381.672     29.228  13.059  < 2e-16 ***\n",
       "`18`                     827.242     29.374  28.162  < 2e-16 ***\n",
       "`19`                     532.262     29.309  18.160  < 2e-16 ***\n",
       "`2`                     -286.735     29.083  -9.859  < 2e-16 ***\n",
       "`20`                     419.939     29.338  14.314  < 2e-16 ***\n",
       "`21`                     419.426     29.348  14.292  < 2e-16 ***\n",
       "`22`                     301.440     29.192  10.326  < 2e-16 ***\n",
       "`23`                      57.318     29.096   1.970 0.048882 *  \n",
       "`3`                     -339.445     29.353 -11.564  < 2e-16 ***\n",
       "`4`                     -420.403     29.184 -14.405  < 2e-16 ***\n",
       "`5`                     -391.003     28.790 -13.581  < 2e-16 ***\n",
       "`6`                     -227.415     28.914  -7.865 4.26e-15 ***\n",
       "`7`                       76.593     28.831   2.657 0.007912 ** \n",
       "`8`                      417.234     28.200  14.795  < 2e-16 ***\n",
       "`9`                           NA         NA      NA       NA    \n",
       "AUTUMN                   344.250     20.057  17.163  < 2e-16 ***\n",
       "SPRING                   199.907     19.568  10.216  < 2e-16 ***\n",
       "SUMMER                   254.808     25.461  10.008  < 2e-16 ***\n",
       "WINTER                        NA         NA      NA       NA    \n",
       "HOLIDAY                  -95.197     19.704  -4.831 1.39e-06 ***\n",
       "NO_HOLIDAY                    NA         NA      NA       NA    \n",
       "poly(RAINFALL, 8)1            NA         NA      NA       NA    \n",
       "poly(RAINFALL, 8)2      3594.430    429.130   8.376  < 2e-16 ***\n",
       "poly(RAINFALL, 8)3     -2296.449    387.023  -5.934 3.11e-09 ***\n",
       "poly(RAINFALL, 8)4      2789.576    346.607   8.048 9.85e-16 ***\n",
       "poly(RAINFALL, 8)5     -2222.256    343.989  -6.460 1.12e-10 ***\n",
       "poly(RAINFALL, 8)6      2184.853    339.690   6.432 1.35e-10 ***\n",
       "poly(RAINFALL, 8)7     -1709.753    351.103  -4.870 1.14e-06 ***\n",
       "poly(RAINFALL, 8)8      1096.753    339.199   3.233 0.001229 ** \n",
       "poly(HUMIDITY, 6)1            NA         NA      NA       NA    \n",
       "poly(HUMIDITY, 6)2    -10239.772    533.934 -19.178  < 2e-16 ***\n",
       "poly(HUMIDITY, 6)3     -4018.072    437.597  -9.182  < 2e-16 ***\n",
       "poly(HUMIDITY, 6)4      3792.168    525.179   7.221 5.74e-13 ***\n",
       "poly(HUMIDITY, 6)5     -3802.302    468.342  -8.119 5.56e-16 ***\n",
       "poly(HUMIDITY, 6)6      2757.707    406.527   6.784 1.27e-11 ***\n",
       "poly(TEMPERATURE, 4)1         NA         NA      NA       NA    \n",
       "poly(TEMPERATURE, 4)2  -2353.572    498.221  -4.724 2.36e-06 ***\n",
       "poly(TEMPERATURE, 4)3 -10607.849    354.558 -29.918  < 2e-16 ***\n",
       "poly(TEMPERATURE, 4)4  -5214.348    377.272 -13.821  < 2e-16 ***\n",
       "HUMIDITY:RAINFALL      -8090.157   7116.170  -1.137 0.255633    \n",
       "---\n",
       "Signif. codes:  0 '***' 0.001 '**' 0.01 '*' 0.05 '.' 0.1 ' ' 1\n",
       "\n",
       "Residual standard error: 333.9 on 6720 degrees of freedom\n",
       "Multiple R-squared:  0.7337,\tAdjusted R-squared:  0.7317 \n",
       "F-statistic: 363.1 on 51 and 6720 DF,  p-value: < 2.2e-16\n"
      ]
     },
     "metadata": {},
     "output_type": "display_data"
    }
   ],
   "source": [
    "# Print model summary\n",
    "summary(lm_poly2$fit)"
   ]
  },
  {
   "cell_type": "code",
   "execution_count": 16,
   "metadata": {},
   "outputs": [
    {
     "name": "stderr",
     "output_type": "stream",
     "text": [
      "Warning message in predict.lm(object = object$fit, newdata = new_data, type = \"response\"):\n",
      "\"prediction from a rank-deficient fit may be misleading\""
     ]
    },
    {
     "data": {
      "text/html": [
       "<table>\n",
       "<thead><tr><th scope=col>.metric</th><th scope=col>.estimator</th><th scope=col>.estimate</th></tr></thead>\n",
       "<tbody>\n",
       "\t<tr><td>rsq      </td><td>standard </td><td>0.7393688</td></tr>\n",
       "</tbody>\n",
       "</table>\n"
      ],
      "text/latex": [
       "\\begin{tabular}{r|lll}\n",
       " .metric & .estimator & .estimate\\\\\n",
       "\\hline\n",
       "\t rsq       & standard  & 0.7393688\\\\\n",
       "\\end{tabular}\n"
      ],
      "text/markdown": [
       "\n",
       "| .metric | .estimator | .estimate |\n",
       "|---|---|---|\n",
       "| rsq       | standard  | 0.7393688 |\n",
       "\n"
      ],
      "text/plain": [
       "  .metric .estimator .estimate\n",
       "1 rsq     standard   0.7393688"
      ]
     },
     "metadata": {},
     "output_type": "display_data"
    },
    {
     "data": {
      "text/html": [
       "<table>\n",
       "<thead><tr><th scope=col>.metric</th><th scope=col>.estimator</th><th scope=col>.estimate</th></tr></thead>\n",
       "<tbody>\n",
       "\t<tr><td>rmse    </td><td>standard</td><td>323.159 </td></tr>\n",
       "</tbody>\n",
       "</table>\n"
      ],
      "text/latex": [
       "\\begin{tabular}{r|lll}\n",
       " .metric & .estimator & .estimate\\\\\n",
       "\\hline\n",
       "\t rmse     & standard & 323.159 \\\\\n",
       "\\end{tabular}\n"
      ],
      "text/markdown": [
       "\n",
       "| .metric | .estimator | .estimate |\n",
       "|---|---|---|\n",
       "| rmse     | standard | 323.159  |\n",
       "\n"
      ],
      "text/plain": [
       "  .metric .estimator .estimate\n",
       "1 rmse    standard   323.159  "
      ]
     },
     "metadata": {},
     "output_type": "display_data"
    }
   ],
   "source": [
    "# Calculate R-squared and RMSE for the new model to see if performance has improved\n",
    "test_results2 <- lm_poly2 %>% \n",
    "    predict(new_data = test_data) %>% \n",
    "    mutate(truth = test_data$RENTED_BIKE_COUNT)\n",
    "\n",
    "rsq <- rsq(test_results2, truth = truth, estimate = .pred)\n",
    "rmse <- rmse(test_results2, truth = truth, estimate = .pred)\n",
    "\n",
    "rsq\n",
    "rmse"
   ]
  },
  {
   "cell_type": "markdown",
   "metadata": {},
   "source": [
    "# TASK: Add regularization\n"
   ]
  },
  {
   "cell_type": "markdown",
   "metadata": {},
   "source": [
    "In previous tasks, you were asked to add polynominal and interaction terms to the model, aiming to capture nonlinearity and interaction effects between the predictor variables. Hopefully, your updated models have better R-squared and RMSE values.\n",
    "\n",
    "However, adding these terms makes your model more complicated, more difficult to explain, and more likely to suffer from overfitting. To overcome these issues, one solution is to add regularization terms to your models.\n"
   ]
  },
  {
   "cell_type": "markdown",
   "metadata": {},
   "source": [
    "When building the baseline model, we used the basic `lm` engine. In this task, you will use a more advanced and generalized `glmnet` engine. It provides a generalized linear model with Lasso, Ridge, and Elastic Net regularizations.\n",
    "\n",
    "In general, using `glmnet` can enhance your models in the following ways:\n",
    "\n",
    "*   Address overfitting issues by shrinking the coefficients\n",
    "*   Address predictor variable colinearity by selecting only one variable from each group of colinear variables (by shrinking their coefficients to zero)\n",
    "*   Make your models more interpretable due to simplification (fewer variables in the outcome models)\n"
   ]
  },
  {
   "cell_type": "markdown",
   "metadata": {},
   "source": [
    "Now, let's switch our regression engine to `glmnet`\n"
   ]
  },
  {
   "cell_type": "markdown",
   "metadata": {},
   "source": [
    "*TODO:* Define a linear regression model specification `glmnet_spec` using `glmnet` engine\n"
   ]
  },
  {
   "cell_type": "code",
   "execution_count": 17,
   "metadata": {},
   "outputs": [],
   "source": [
    "# HINT: Use linear_reg() function with two parameters: penalty and mixture\n",
    "# - penalty controls the intensity of model regularization\n",
    "# - mixture controls the tradeoff between L1 and L2 regularizations\n",
    "\n",
    "# You could manually try different parameter combinations or use grid search to find optimal combinations\n",
    "\n",
    "\n",
    "glmnet_spec <- linear_reg(penalty = 0.1, mixture = 0) %>%\n",
    "    set_engine(\"glmnet\")"
   ]
  },
  {
   "cell_type": "markdown",
   "metadata": {},
   "source": [
    "Fit a glmnet model called  `lm_glmnet` using the `fit()` function. For the formula part, keep the polynominal and interaction terms you used in the previous task.\n"
   ]
  },
  {
   "cell_type": "code",
   "execution_count": 18,
   "metadata": {},
   "outputs": [
    {
     "name": "stdout",
     "output_type": "stream",
     "text": [
      "\n",
      "  There is a binary version available but the source version is later:\n",
      "       binary source needs_compilation\n",
      "glmnet  4.1-1  4.1-2              TRUE\n",
      "\n",
      "  Binaries will be installed\n",
      "package 'glmnet' successfully unpacked and MD5 sums checked\n"
     ]
    },
    {
     "name": "stderr",
     "output_type": "stream",
     "text": [
      "Warning message:\n",
      "\"cannot remove prior installation of package 'glmnet'\"Warning message in file.copy(savedcopy, lib, recursive = TRUE):\n",
      "\"problema al copiar C:\\Users\\esteb\\anaconda3\\envs\\R\\Lib\\R\\library\\00LOCK\\glmnet\\libs\\x64\\glmnet.dll  a C:\\Users\\esteb\\anaconda3\\envs\\R\\Lib\\R\\library\\glmnet\\libs\\x64\\glmnet.dll: Permission denied\"Warning message:\n",
      "\"restored 'glmnet'\""
     ]
    },
    {
     "name": "stdout",
     "output_type": "stream",
     "text": [
      "\n",
      "The downloaded binary packages are in\n",
      "\tC:\\Users\\esteb\\AppData\\Local\\Temp\\RtmpM9AWI9\\downloaded_packages\n"
     ]
    },
    {
     "name": "stderr",
     "output_type": "stream",
     "text": [
      "Warning message:\n",
      "\"package 'glmnet' was built under R version 3.6.3\"Loading required package: Matrix\n",
      "\n",
      "Attaching package: 'Matrix'\n",
      "\n",
      "The following objects are masked from 'package:tidyr':\n",
      "\n",
      "    expand, pack, unpack\n",
      "\n",
      "Loaded glmnet 4.1-1\n"
     ]
    }
   ],
   "source": [
    "install.packages('glmnet')\n",
    "library('glmnet')"
   ]
  },
  {
   "cell_type": "code",
   "execution_count": 19,
   "metadata": {},
   "outputs": [],
   "source": [
    "# Fit a glmnet model using the fit() function\n",
    "lm_glmnet <- glmnet_spec %>% fit(RENTED_BIKE_COUNT ~ . + poly(RAINFALL, 8) + poly(HUMIDITY, 6) + poly(TEMPERATURE, 4) + HUMIDITY*TEMPERATURE, data = train_data)"
   ]
  },
  {
   "cell_type": "code",
   "execution_count": 20,
   "metadata": {},
   "outputs": [
    {
     "data": {
      "text/html": [
       "<table>\n",
       "<thead><tr><th scope=col>.metric</th><th scope=col>.estimator</th><th scope=col>.estimate</th></tr></thead>\n",
       "<tbody>\n",
       "\t<tr><td>rsq      </td><td>standard </td><td>0.7385422</td></tr>\n",
       "</tbody>\n",
       "</table>\n"
      ],
      "text/latex": [
       "\\begin{tabular}{r|lll}\n",
       " .metric & .estimator & .estimate\\\\\n",
       "\\hline\n",
       "\t rsq       & standard  & 0.7385422\\\\\n",
       "\\end{tabular}\n"
      ],
      "text/markdown": [
       "\n",
       "| .metric | .estimator | .estimate |\n",
       "|---|---|---|\n",
       "| rsq       | standard  | 0.7385422 |\n",
       "\n"
      ],
      "text/plain": [
       "  .metric .estimator .estimate\n",
       "1 rsq     standard   0.7385422"
      ]
     },
     "metadata": {},
     "output_type": "display_data"
    },
    {
     "data": {
      "text/html": [
       "<table>\n",
       "<thead><tr><th scope=col>.metric</th><th scope=col>.estimator</th><th scope=col>.estimate</th></tr></thead>\n",
       "<tbody>\n",
       "\t<tr><td>rmse    </td><td>standard</td><td>324.2954</td></tr>\n",
       "</tbody>\n",
       "</table>\n"
      ],
      "text/latex": [
       "\\begin{tabular}{r|lll}\n",
       " .metric & .estimator & .estimate\\\\\n",
       "\\hline\n",
       "\t rmse     & standard & 324.2954\\\\\n",
       "\\end{tabular}\n"
      ],
      "text/markdown": [
       "\n",
       "| .metric | .estimator | .estimate |\n",
       "|---|---|---|\n",
       "| rmse     | standard | 324.2954 |\n",
       "\n"
      ],
      "text/plain": [
       "  .metric .estimator .estimate\n",
       "1 rmse    standard   324.2954 "
      ]
     },
     "metadata": {},
     "output_type": "display_data"
    }
   ],
   "source": [
    "# Report rsq and rmse of the `lm_glmnet` model\n",
    "test_results3 <- lm_glmnet %>% \n",
    "    predict(new_data = test_data) %>% \n",
    "    mutate(truth = test_data$RENTED_BIKE_COUNT)\n",
    "\n",
    "rsq <- rsq(test_results3, truth = truth, estimate = .pred)\n",
    "rmse <- rmse(test_results3, truth = truth, estimate = .pred)\n",
    "\n",
    "rsq\n",
    "rmse"
   ]
  },
  {
   "cell_type": "markdown",
   "metadata": {},
   "source": [
    "# TASK: Experiment to search for improved models\n"
   ]
  },
  {
   "cell_type": "markdown",
   "metadata": {},
   "source": [
    "Now you understand some of the methods that you can use to try to improve your models.\n"
   ]
  },
  {
   "cell_type": "markdown",
   "metadata": {},
   "source": [
    "*TODO:* Experiment by building and testing at least five different models. For each of your experiments, include polynomial terms, interaction terms, and one of the three regularizations we introduced.\n"
   ]
  },
  {
   "cell_type": "code",
   "execution_count": 29,
   "metadata": {
    "scrolled": true
   },
   "outputs": [
    {
     "name": "stderr",
     "output_type": "stream",
     "text": [
      "Warning message in predict.lm(object = object$fit, newdata = new_data, type = \"response\"):\n",
      "\"prediction from a rank-deficient fit may be misleading\"Warning message in predict.lm(object = object$fit, newdata = new_data, type = \"response\"):\n",
      "\"prediction from a rank-deficient fit may be misleading\"Warning message in predict.lm(object = object$fit, newdata = new_data, type = \"response\"):\n",
      "\"prediction from a rank-deficient fit may be misleading\""
     ]
    }
   ],
   "source": [
    "# Build at least five different models using polynomial terms, interaction terms, and regularizations.\n",
    "\n",
    "model1 <- lm_spec %>% fit(RENTED_BIKE_COUNT ~ ., data = train_data)\n",
    "#summary(model1$fit)\n",
    "\n",
    "model2 <- lm_spec %>% fit(RENTED_BIKE_COUNT ~ . + poly(RAINFALL,8) + poly(TEMPERATURE,6) + RAINFALL*HUMIDITY, data = train_data)\n",
    "#summary(model2$fit)\n",
    "\n",
    "model3 <- lm_spec %>%  fit(RENTED_BIKE_COUNT ~ TEMPERATURE + HUMIDITY + WIND_SPEED + VISIBILITY + DEW_POINT_TEMPERATURE + SOLAR_RADIATION + RAINFALL + SNOWFALL, data = train_data)\n",
    "\n",
    "model4 <- lm_spec %>% fit(RENTED_BIKE_COUNT ~ . + poly(RAINFALL, 8) + poly(HUMIDITY, 6) + poly(TEMPERATURE, 4), data = train_data)\n",
    "\n",
    "model5 <- glmnet_spec %>% fit(RENTED_BIKE_COUNT ~ . + poly(RAINFALL, 8) + poly(HUMIDITY, 6) + poly(TEMPERATURE, 4) + HUMIDITY*TEMPERATURE, data = train_data)\n",
    "\n",
    "test_results1 <- model1 %>% \n",
    "    predict(new_data = test_data) %>% \n",
    "    mutate(truth = test_data$RENTED_BIKE_COUNT)\n",
    "test_results1[test_results1<0] <- 0\n",
    "\n",
    "test_results2 <- model2 %>% \n",
    "    predict(new_data = test_data) %>% \n",
    "    mutate(truth = test_data$RENTED_BIKE_COUNT)\n",
    "test_results2[test_results2<0] <- 0\n",
    "\n",
    "test_results3 <- model3 %>% \n",
    "    predict(new_data = test_data) %>% \n",
    "    mutate(truth = test_data$RENTED_BIKE_COUNT)\n",
    "test_results3[test_results3<0] <- 0\n",
    "\n",
    "test_results4 <- model4 %>% \n",
    "    predict(new_data = test_data) %>% \n",
    "    mutate(truth = test_data$RENTED_BIKE_COUNT)\n",
    "test_results4[test_results4<0] <- 0\n",
    "\n",
    "test_results5 <- model5 %>% \n",
    "    predict(new_data = test_data) %>% \n",
    "    mutate(truth = test_data$RENTED_BIKE_COUNT)\n",
    "test_results5[test_results5<0] <- 0\n",
    "\n",
    "# Save their rmse and rsq values\n",
    "\n",
    "rsq1 <- rsq(test_results1, truth = truth, estimate = .pred)\n",
    "rmse1 <- rmse(test_results1, truth = truth, estimate = .pred)\n",
    "\n",
    "rsq2 <- rsq(test_results2, truth = truth, estimate = .pred)\n",
    "rmse2 <- rmse(test_results2, truth = truth, estimate = .pred)\n",
    "\n",
    "rsq3 <- rsq(test_results3, truth = truth, estimate = .pred)\n",
    "rmse3 <- rmse(test_results3, truth = truth, estimate = .pred)\n",
    "\n",
    "rsq4 <- rsq(test_results4, truth = truth, estimate = .pred)\n",
    "rmse4 <- rmse(test_results4, truth = truth, estimate = .pred)\n",
    "\n",
    "rsq5 <- rsq(test_results5, truth = truth, estimate = .pred)\n",
    "rmse5 <- rmse(test_results5, truth = truth, estimate = .pred)"
   ]
  },
  {
   "cell_type": "code",
   "execution_count": 33,
   "metadata": {},
   "outputs": [
    {
     "data": {
      "text/html": [
       "<table>\n",
       "<thead><tr><th scope=col>model_names</th><th scope=col>rsq</th><th scope=col>rmse</th></tr></thead>\n",
       "<tbody>\n",
       "\t<tr><td>model1   </td><td>0.6899307</td><td>354.7942 </td></tr>\n",
       "\t<tr><td>model2   </td><td>0.7487758</td><td>320.2849 </td></tr>\n",
       "\t<tr><td>model3   </td><td>0.4417300</td><td>473.0575 </td></tr>\n",
       "\t<tr><td>model4   </td><td>0.7611135</td><td>312.1273 </td></tr>\n",
       "\t<tr><td>model5   </td><td>0.7602096</td><td>314.7939 </td></tr>\n",
       "</tbody>\n",
       "</table>\n"
      ],
      "text/latex": [
       "\\begin{tabular}{r|lll}\n",
       " model\\_names & rsq & rmse\\\\\n",
       "\\hline\n",
       "\t model1    & 0.6899307 & 354.7942 \\\\\n",
       "\t model2    & 0.7487758 & 320.2849 \\\\\n",
       "\t model3    & 0.4417300 & 473.0575 \\\\\n",
       "\t model4    & 0.7611135 & 312.1273 \\\\\n",
       "\t model5    & 0.7602096 & 314.7939 \\\\\n",
       "\\end{tabular}\n"
      ],
      "text/markdown": [
       "\n",
       "| model_names | rsq | rmse |\n",
       "|---|---|---|\n",
       "| model1    | 0.6899307 | 354.7942  |\n",
       "| model2    | 0.7487758 | 320.2849  |\n",
       "| model3    | 0.4417300 | 473.0575  |\n",
       "| model4    | 0.7611135 | 312.1273  |\n",
       "| model5    | 0.7602096 | 314.7939  |\n",
       "\n"
      ],
      "text/plain": [
       "  model_names rsq       rmse    \n",
       "1 model1      0.6899307 354.7942\n",
       "2 model2      0.7487758 320.2849\n",
       "3 model3      0.4417300 473.0575\n",
       "4 model4      0.7611135 312.1273\n",
       "5 model5      0.7602096 314.7939"
      ]
     },
     "metadata": {},
     "output_type": "display_data"
    }
   ],
   "source": [
    "# Report the best performed model in terms of rmse and rsq\n",
    "model_names <- c(\"model1\", \"model2\", \"model3\", \"model4\", \"model5\")\n",
    "rsq <- c(rsq1$.estimate, rsq2$.estimate, rsq3$.estimate, rsq4$.estimate, rsq5$.estimate)\n",
    "rmse <- c(rmse1$.estimate, rmse2$.estimate, rmse3$.estimate, rmse4$.estimate, rmse5$.estimate)\n",
    "comparison_df <- data.frame(model_names, rsq, rmse)\n",
    "\n",
    "comparison_df"
   ]
  },
  {
   "cell_type": "code",
   "execution_count": 76,
   "metadata": {},
   "outputs": [
    {
     "data": {
      "text/html": [
       "<table>\n",
       "<thead><tr><th scope=col>model_names</th><th scope=col>stat</th><th scope=col>estimate</th></tr></thead>\n",
       "<tbody>\n",
       "\t<tr><td>model1     </td><td>rsq        </td><td>  0.6899307</td></tr>\n",
       "\t<tr><td>model1     </td><td>rmse       </td><td>354.7942296</td></tr>\n",
       "\t<tr><td>model2     </td><td>rsq        </td><td>  0.7487758</td></tr>\n",
       "\t<tr><td>model2     </td><td>rmse       </td><td>320.2848804</td></tr>\n",
       "\t<tr><td>model3     </td><td>rsq        </td><td>  0.4417300</td></tr>\n",
       "\t<tr><td>model3     </td><td>rmse       </td><td>473.0574668</td></tr>\n",
       "\t<tr><td>model4     </td><td>rsq        </td><td>  0.7611135</td></tr>\n",
       "\t<tr><td>model4     </td><td>rmse       </td><td>312.1272570</td></tr>\n",
       "\t<tr><td>model5     </td><td>rsq        </td><td>  0.7602096</td></tr>\n",
       "\t<tr><td>model5     </td><td>rmse       </td><td>314.7939102</td></tr>\n",
       "</tbody>\n",
       "</table>\n"
      ],
      "text/latex": [
       "\\begin{tabular}{r|lll}\n",
       " model\\_names & stat & estimate\\\\\n",
       "\\hline\n",
       "\t model1      & rsq         &   0.6899307\\\\\n",
       "\t model1      & rmse        & 354.7942296\\\\\n",
       "\t model2      & rsq         &   0.7487758\\\\\n",
       "\t model2      & rmse        & 320.2848804\\\\\n",
       "\t model3      & rsq         &   0.4417300\\\\\n",
       "\t model3      & rmse        & 473.0574668\\\\\n",
       "\t model4      & rsq         &   0.7611135\\\\\n",
       "\t model4      & rmse        & 312.1272570\\\\\n",
       "\t model5      & rsq         &   0.7602096\\\\\n",
       "\t model5      & rmse        & 314.7939102\\\\\n",
       "\\end{tabular}\n"
      ],
      "text/markdown": [
       "\n",
       "| model_names | stat | estimate |\n",
       "|---|---|---|\n",
       "| model1      | rsq         |   0.6899307 |\n",
       "| model1      | rmse        | 354.7942296 |\n",
       "| model2      | rsq         |   0.7487758 |\n",
       "| model2      | rmse        | 320.2848804 |\n",
       "| model3      | rsq         |   0.4417300 |\n",
       "| model3      | rmse        | 473.0574668 |\n",
       "| model4      | rsq         |   0.7611135 |\n",
       "| model4      | rmse        | 312.1272570 |\n",
       "| model5      | rsq         |   0.7602096 |\n",
       "| model5      | rmse        | 314.7939102 |\n",
       "\n"
      ],
      "text/plain": [
       "   model_names stat estimate   \n",
       "1  model1      rsq    0.6899307\n",
       "2  model1      rmse 354.7942296\n",
       "3  model2      rsq    0.7487758\n",
       "4  model2      rmse 320.2848804\n",
       "5  model3      rsq    0.4417300\n",
       "6  model3      rmse 473.0574668\n",
       "7  model4      rsq    0.7611135\n",
       "8  model4      rmse 312.1272570\n",
       "9  model5      rsq    0.7602096\n",
       "10 model5      rmse 314.7939102"
      ]
     },
     "metadata": {},
     "output_type": "display_data"
    }
   ],
   "source": [
    "model_names <- c(\"model1\", \"model1\", \"model2\", \"model2\", \"model3\", \"model3\", \"model4\", \"model4\", \"model5\", \"model5\")\n",
    "stat <- c(\"rsq\", \"rmse\", \"rsq\", \"rmse\", \"rsq\", \"rmse\", \"rsq\", \"rmse\", \"rsq\", \"rmse\")\n",
    "estimate <- c(rsq1$.estimate, rmse1$.estimate, rsq2$.estimate, rmse2$.estimate, rsq3$.estimate, rmse3$.estimate, rsq4$.estimate, rmse4$.estimate, rsq5$.estimate, rmse5$.estimate)\n",
    "comparison_df <- data.frame(model_names, stat, estimate)\n",
    "\n",
    "comparison_df"
   ]
  },
  {
   "cell_type": "markdown",
   "metadata": {},
   "source": [
    "Here are the performance requirements for your best model:\n",
    "\n",
    "*   The RMSE should be less than 330 (rougly 10% of the max value in test dataset)\n",
    "*   R-squared should be greater than 0.72\n"
   ]
  },
  {
   "cell_type": "markdown",
   "metadata": {},
   "source": [
    "*TODO:* Visualize the saved RMSE and R-squared values using a grouped barchart\n"
   ]
  },
  {
   "cell_type": "code",
   "execution_count": 83,
   "metadata": {},
   "outputs": [
    {
     "data": {
      "image/png": "[encoded data removed]",
      "text/plain": [
       "plot without title"
      ]
     },
     "metadata": {},
     "output_type": "display_data"
    }
   ],
   "source": [
    "# HINT: Use ggplot() + geom_bar()\n",
    "ggplot(data = comparison_df, aes(x=model_names, y= estimate)) + \n",
    "geom_bar(stat=\"identity\") + facet_wrap(.~stat, scales = \"free_y\")"
   ]
  },
  {
   "cell_type": "markdown",
   "metadata": {},
   "source": [
    "*TODO:* Create a Q-Q plot by plotting the distribution difference between the predictions generated by your best model and the true values on the test dataset.\n"
   ]
  },
  {
   "cell_type": "code",
   "execution_count": 84,
   "metadata": {},
   "outputs": [
    {
     "data": {
      "image/png": "[encoded data removed]",
      "text/plain": [
       "plot without title"
      ]
     },
     "metadata": {},
     "output_type": "display_data"
    }
   ],
   "source": [
    "# HINT: Use ggplot() +\n",
    "    # stat_qq(aes(sample=truth), color='green') +\n",
    "    # stat_qq(aes(sample=prediction), color='red')\n",
    "\n",
    "ggplot(data = test_results4) +\n",
    "stat_qq(aes(sample=truth), color='green') +\n",
    "stat_qq(aes(sample= .pred), color='red')"
   ]
  },
  {
   "cell_type": "markdown",
   "metadata": {},
   "source": [
    "One example of such Q-Q plot may look like this:\n"
   ]
  },
  {
   "cell_type": "markdown",
   "metadata": {},
   "source": [
    "<a href=\"https://cognitiveclass.ai/?utm_medium=Exinfluencer&utm_source=Exinfluencer&utm_content=000026UJ&utm_term=10006555&utm_id=NA-SkillsNetwork-Channel-SkillsNetworkCoursesIBMDeveloperSkillsNetworkRP0321ENSkillsNetwork25371262-2021-01-01\">\n",
    "    <img src=\"https://cf-courses-data.s3.us.cloud-object-storage.appdomain.cloud/IBMDeveloperSkillsNetwork-RP0321EN-SkillsNetwork/labs/module_4/images/example_qq_plot.png\" width=\"600\" align=\"center\">\n",
    "</a>\n"
   ]
  },
  {
   "cell_type": "markdown",
   "metadata": {},
   "source": [
    "# More model improvment methods beyond this course\n"
   ]
  },
  {
   "cell_type": "markdown",
   "metadata": {},
   "source": [
    "In addition to the methods mentioned in this lab and previous data analysis courses, you could also explore to try the following methods yourself to see if they could improve model performance:\n",
    "\n",
    "*   Remove potential redundant variables. If two variables have extremly high correlated, it is possible that they are redundant and could be removed from the model to improve the performance.\n",
    "*   Remove some outliers. Linear regression models are very sensitive to outliers, you could try to remove some outliers to see if it would improve performance\n",
    "*   Apply logarithm transformation. In case variable distributions are not normal distribution such as log-normal distribution, you could apply logaritm transformation on the variable to make them more look like normal distribution. In addition, logarithm transformation helps capture the non-linear relationships.\n",
    "\n",
    "If you have time, you could research and try more methods by searching related research papers/articles, discussion forums, etc. If you know how to use other machine learning models with `Tidymodels` such as Neural Networks, Tree models, or Boosting models, you can also try and compare them with the linear regression models.\n"
   ]
  },
  {
   "cell_type": "markdown",
   "metadata": {},
   "source": [
    "# Next Steps:\n"
   ]
  },
  {
   "cell_type": "markdown",
   "metadata": {},
   "source": [
    "Great! You have improved your baseline model using polynomial terms, interaction terms, and regularizations, and have found your best model.\n",
    "\n",
    "Now it's time to build an interactive dashboard to provide more interactive user-interactions.\n"
   ]
  },
  {
   "cell_type": "markdown",
   "metadata": {},
   "source": [
    "## Authors\n",
    "\n",
    "<a href=\"https://www.linkedin.com/in/yan-luo-96288783/?utm_medium=Exinfluencer&utm_source=Exinfluencer&utm_content=000026UJ&utm_term=10006555&utm_id=NA-SkillsNetwork-Channel-SkillsNetworkCoursesIBMDeveloperSkillsNetworkRP0321ENSkillsNetwork25371262-2021-01-01\" target=\"_blank\">Yan Luo</a>\n"
   ]
  },
  {
   "cell_type": "markdown",
   "metadata": {},
   "source": [
    "### Other Contributors\n",
    "\n",
    "Jeff Grossman\n"
   ]
  },
  {
   "cell_type": "markdown",
   "metadata": {},
   "source": [
    "## Change Log\n",
    "\n",
    "| Date (YYYY-MM-DD) | Version | Changed By | Change Description      |\n",
    "| ----------------- | ------- | ---------- | ----------------------- |\n",
    "| 2021-04-08        | 1.0     | Yan        | Initial version created |\n",
    "|                   |         |            |                         |\n",
    "|                   |         |            |                         |\n",
    "\n",
    "## <h3 align=\"center\"> © IBM Corporation 2021. All rights reserved. <h3/>\n"
   ]
  }
 ],
 "metadata": {
  "kernelspec": {
   "display_name": "R",
   "language": "R",
   "name": "ir"
  },
  "language_info": {
   "codemirror_mode": "r",
   "file_extension": ".r",
   "mimetype": "text/x-r-source",
   "name": "R",
   "pygments_lexer": "r",
   "version": "3.6.1"
  }
 },
 "nbformat": 4,
 "nbformat_minor": 4
}
